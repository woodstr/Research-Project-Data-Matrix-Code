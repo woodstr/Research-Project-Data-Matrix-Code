{
 "cells": [
  {
   "cell_type": "markdown",
   "metadata": {},
   "source": [
    "# Pipeline\n",
    "\n",
    "Given an image:\n",
    "- Use trained models to detect DM codes\n",
    "- If no detection, record as such\n",
    "- If detection(s), then for all bounding boxes:\n",
    "    - Crop to them\n",
    "    - Feed to standard decoder (pylibdmtx. pyzbar does not support data matrix codes)\n",
    "\n",
    "For pipeline, evaluation stats to look at are:\n",
    "- % of decodings\n",
    "- % of matching decodings\n",
    "- % of decodings that didn't match (will need to double correctness of MAN data)\n",
    "- mAP50-95 scores for bounding boxes"
   ]
  },
  {
   "cell_type": "markdown",
   "metadata": {},
   "source": [
    "# Setup"
   ]
  },
  {
   "cell_type": "code",
   "execution_count": 1,
   "metadata": {},
   "outputs": [
    {
     "ename": "FileNotFoundError",
     "evalue": "Could not find module 'c:\\Users\\aidan\\anaconda3\\envs\\research_project\\Lib\\site-packages\\pylibdmtx\\libdmtx-64.dll' (or one of its dependencies). Try using the full path with constructor syntax.",
     "output_type": "error",
     "traceback": [
      "\u001b[1;31m---------------------------------------------------------------------------\u001b[0m",
      "\u001b[1;31mFileNotFoundError\u001b[0m                         Traceback (most recent call last)",
      "File \u001b[1;32mc:\\Users\\aidan\\anaconda3\\envs\\research_project\\Lib\\site-packages\\pylibdmtx\\dmtx_library.py:38\u001b[0m, in \u001b[0;36mload\u001b[1;34m()\u001b[0m\n\u001b[0;32m     37\u001b[0m \u001b[38;5;28;01mtry\u001b[39;00m:\n\u001b[1;32m---> 38\u001b[0m     libdmtx \u001b[38;5;241m=\u001b[39m cdll\u001b[38;5;241m.\u001b[39mLoadLibrary(fname)\n\u001b[0;32m     39\u001b[0m \u001b[38;5;28;01mexcept\u001b[39;00m \u001b[38;5;167;01mOSError\u001b[39;00m:\n",
      "File \u001b[1;32mc:\\Users\\aidan\\anaconda3\\envs\\research_project\\Lib\\ctypes\\__init__.py:460\u001b[0m, in \u001b[0;36mLibraryLoader.LoadLibrary\u001b[1;34m(self, name)\u001b[0m\n\u001b[0;32m    459\u001b[0m \u001b[38;5;28;01mdef\u001b[39;00m \u001b[38;5;21mLoadLibrary\u001b[39m(\u001b[38;5;28mself\u001b[39m, name):\n\u001b[1;32m--> 460\u001b[0m     \u001b[38;5;28;01mreturn\u001b[39;00m \u001b[38;5;28mself\u001b[39m\u001b[38;5;241m.\u001b[39m_dlltype(name)\n",
      "File \u001b[1;32mc:\\Users\\aidan\\anaconda3\\envs\\research_project\\Lib\\ctypes\\__init__.py:379\u001b[0m, in \u001b[0;36mCDLL.__init__\u001b[1;34m(self, name, mode, handle, use_errno, use_last_error, winmode)\u001b[0m\n\u001b[0;32m    378\u001b[0m \u001b[38;5;28;01mif\u001b[39;00m handle \u001b[38;5;129;01mis\u001b[39;00m \u001b[38;5;28;01mNone\u001b[39;00m:\n\u001b[1;32m--> 379\u001b[0m     \u001b[38;5;28mself\u001b[39m\u001b[38;5;241m.\u001b[39m_handle \u001b[38;5;241m=\u001b[39m _dlopen(\u001b[38;5;28mself\u001b[39m\u001b[38;5;241m.\u001b[39m_name, mode)\n\u001b[0;32m    380\u001b[0m \u001b[38;5;28;01melse\u001b[39;00m:\n",
      "\u001b[1;31mFileNotFoundError\u001b[0m: Could not find module 'libdmtx-64.dll' (or one of its dependencies). Try using the full path with constructor syntax.",
      "\nDuring handling of the above exception, another exception occurred:\n",
      "\u001b[1;31mFileNotFoundError\u001b[0m                         Traceback (most recent call last)",
      "Cell \u001b[1;32mIn[1], line 2\u001b[0m\n\u001b[0;32m      1\u001b[0m \u001b[38;5;66;03m# from pylibdmtx.pylibdmtx import decode\u001b[39;00m\n\u001b[1;32m----> 2\u001b[0m \u001b[38;5;28;01mfrom\u001b[39;00m \u001b[38;5;21;01mpylibdmtx\u001b[39;00m\u001b[38;5;21;01m.\u001b[39;00m\u001b[38;5;21;01mpylibdmtx\u001b[39;00m \u001b[38;5;28;01mimport\u001b[39;00m decode\n\u001b[0;32m      3\u001b[0m \u001b[38;5;28;01mimport\u001b[39;00m \u001b[38;5;21;01mglob\u001b[39;00m\n\u001b[0;32m      5\u001b[0m \u001b[38;5;66;03m# may need to change below if any models are train on MAN data\u001b[39;00m\n",
      "File \u001b[1;32mc:\\Users\\aidan\\anaconda3\\envs\\research_project\\Lib\\site-packages\\pylibdmtx\\pylibdmtx.py:10\u001b[0m\n\u001b[0;32m      7\u001b[0m \u001b[38;5;28;01mfrom\u001b[39;00m \u001b[38;5;21;01mfunctools\u001b[39;00m \u001b[38;5;28;01mimport\u001b[39;00m partial\n\u001b[0;32m      9\u001b[0m \u001b[38;5;28;01mfrom\u001b[39;00m \u001b[38;5;21;01m.\u001b[39;00m\u001b[38;5;21;01mpylibdmtx_error\u001b[39;00m \u001b[38;5;28;01mimport\u001b[39;00m PyLibDMTXError\n\u001b[1;32m---> 10\u001b[0m \u001b[38;5;28;01mfrom\u001b[39;00m \u001b[38;5;21;01m.\u001b[39;00m\u001b[38;5;21;01mwrapper\u001b[39;00m \u001b[38;5;28;01mimport\u001b[39;00m (\n\u001b[0;32m     11\u001b[0m     c_ubyte_p, dmtxImageCreate, dmtxImageDestroy, dmtxDecodeCreate,\n\u001b[0;32m     12\u001b[0m     dmtxDecodeDestroy, dmtxRegionDestroy, dmtxMessageDestroy, dmtxTimeAdd,\n\u001b[0;32m     13\u001b[0m     dmtxTimeNow, dmtxDecodeMatrixRegion, dmtxRegionFindNext,\n\u001b[0;32m     14\u001b[0m     dmtxMatrix3VMultiplyBy, dmtxDecodeSetProp, DmtxPackOrder, DmtxProperty,\n\u001b[0;32m     15\u001b[0m     DmtxUndefined, DmtxVector2, EXTERNAL_DEPENDENCIES,\n\u001b[0;32m     16\u001b[0m     DmtxSymbolSize, DmtxScheme, dmtxEncodeSetProp, dmtxEncodeDataMatrix,\n\u001b[0;32m     17\u001b[0m     dmtxImageGetProp, dmtxEncodeCreate, dmtxEncodeDestroy\n\u001b[0;32m     18\u001b[0m )\n\u001b[0;32m     20\u001b[0m __all__ \u001b[38;5;241m=\u001b[39m [\n\u001b[0;32m     21\u001b[0m     \u001b[38;5;124m'\u001b[39m\u001b[38;5;124mdecode\u001b[39m\u001b[38;5;124m'\u001b[39m, \u001b[38;5;124m'\u001b[39m\u001b[38;5;124mencode\u001b[39m\u001b[38;5;124m'\u001b[39m, \u001b[38;5;124m'\u001b[39m\u001b[38;5;124mEncoded\u001b[39m\u001b[38;5;124m'\u001b[39m, \u001b[38;5;124m'\u001b[39m\u001b[38;5;124mENCODING_SCHEME_NAMES\u001b[39m\u001b[38;5;124m'\u001b[39m,\n\u001b[0;32m     22\u001b[0m     \u001b[38;5;124m'\u001b[39m\u001b[38;5;124mENCODING_SIZE_NAMES\u001b[39m\u001b[38;5;124m'\u001b[39m, \u001b[38;5;124m'\u001b[39m\u001b[38;5;124mEXTERNAL_DEPENDENCIES\u001b[39m\u001b[38;5;124m'\u001b[39m,\n\u001b[0;32m     23\u001b[0m ]\n\u001b[0;32m     25\u001b[0m ENCODING_SCHEME_PREFIX \u001b[38;5;241m=\u001b[39m \u001b[38;5;124m'\u001b[39m\u001b[38;5;124mDmtxScheme\u001b[39m\u001b[38;5;124m'\u001b[39m\n",
      "File \u001b[1;32mc:\\Users\\aidan\\anaconda3\\envs\\research_project\\Lib\\site-packages\\pylibdmtx\\wrapper.py:70\u001b[0m\n\u001b[0;32m     67\u001b[0m DmtxUndefined \u001b[38;5;241m=\u001b[39m \u001b[38;5;241m-\u001b[39m\u001b[38;5;241m1\u001b[39m\n\u001b[0;32m     69\u001b[0m \u001b[38;5;66;03m# Define this function early so that it can be used in the definitions below.\u001b[39;00m\n\u001b[1;32m---> 70\u001b[0m _dmtxVersion \u001b[38;5;241m=\u001b[39m libdmtx_function(\u001b[38;5;124m'\u001b[39m\u001b[38;5;124mdmtxVersion\u001b[39m\u001b[38;5;124m'\u001b[39m, c_char_p)\n\u001b[0;32m     72\u001b[0m \u001b[38;5;28;01mdef\u001b[39;00m \u001b[38;5;21mdmtxVersion\u001b[39m():\n\u001b[0;32m     73\u001b[0m     \u001b[38;5;28;01mreturn\u001b[39;00m _dmtxVersion()\u001b[38;5;241m.\u001b[39mdecode()\n",
      "File \u001b[1;32mc:\\Users\\aidan\\anaconda3\\envs\\research_project\\Lib\\site-packages\\pylibdmtx\\wrapper.py:58\u001b[0m, in \u001b[0;36mlibdmtx_function\u001b[1;34m(fname, restype, *args)\u001b[0m\n\u001b[0;32m     46\u001b[0m \u001b[38;5;250m\u001b[39m\u001b[38;5;124;03m\"\"\"Returns a foreign function exported by `libdmtx`.\u001b[39;00m\n\u001b[0;32m     47\u001b[0m \n\u001b[0;32m     48\u001b[0m \u001b[38;5;124;03mArgs:\u001b[39;00m\n\u001b[1;32m   (...)\u001b[0m\n\u001b[0;32m     55\u001b[0m \u001b[38;5;124;03m    cddl.CFunctionType: A wrapper around the function.\u001b[39;00m\n\u001b[0;32m     56\u001b[0m \u001b[38;5;124;03m\"\"\"\u001b[39;00m\n\u001b[0;32m     57\u001b[0m prototype \u001b[38;5;241m=\u001b[39m CFUNCTYPE(restype, \u001b[38;5;241m*\u001b[39margs)\n\u001b[1;32m---> 58\u001b[0m \u001b[38;5;28;01mreturn\u001b[39;00m prototype((fname, load_libdmtx()))\n",
      "File \u001b[1;32mc:\\Users\\aidan\\anaconda3\\envs\\research_project\\Lib\\site-packages\\pylibdmtx\\wrapper.py:39\u001b[0m, in \u001b[0;36mload_libdmtx\u001b[1;34m()\u001b[0m\n\u001b[0;32m     37\u001b[0m \u001b[38;5;28;01mglobal\u001b[39;00m EXTERNAL_DEPENDENCIES\n\u001b[0;32m     38\u001b[0m \u001b[38;5;28;01mif\u001b[39;00m \u001b[38;5;129;01mnot\u001b[39;00m LIBDMTX:\n\u001b[1;32m---> 39\u001b[0m     LIBDMTX \u001b[38;5;241m=\u001b[39m dmtx_library\u001b[38;5;241m.\u001b[39mload()\n\u001b[0;32m     40\u001b[0m     EXTERNAL_DEPENDENCIES \u001b[38;5;241m=\u001b[39m [LIBDMTX]\n\u001b[0;32m     42\u001b[0m \u001b[38;5;28;01mreturn\u001b[39;00m LIBDMTX\n",
      "File \u001b[1;32mc:\\Users\\aidan\\anaconda3\\envs\\research_project\\Lib\\site-packages\\pylibdmtx\\dmtx_library.py:40\u001b[0m, in \u001b[0;36mload\u001b[1;34m()\u001b[0m\n\u001b[0;32m     38\u001b[0m         libdmtx \u001b[38;5;241m=\u001b[39m cdll\u001b[38;5;241m.\u001b[39mLoadLibrary(fname)\n\u001b[0;32m     39\u001b[0m     \u001b[38;5;28;01mexcept\u001b[39;00m \u001b[38;5;167;01mOSError\u001b[39;00m:\n\u001b[1;32m---> 40\u001b[0m         libdmtx \u001b[38;5;241m=\u001b[39m cdll\u001b[38;5;241m.\u001b[39mLoadLibrary(\n\u001b[0;32m     41\u001b[0m             \u001b[38;5;28mstr\u001b[39m(Path(\u001b[38;5;18m__file__\u001b[39m)\u001b[38;5;241m.\u001b[39mparent\u001b[38;5;241m.\u001b[39mjoinpath(fname))\n\u001b[0;32m     42\u001b[0m         )\n\u001b[0;32m     43\u001b[0m \u001b[38;5;28;01melse\u001b[39;00m:\n\u001b[0;32m     44\u001b[0m     \u001b[38;5;66;03m# Assume a shared library on the path\u001b[39;00m\n\u001b[0;32m     45\u001b[0m     path \u001b[38;5;241m=\u001b[39m find_library(\u001b[38;5;124m'\u001b[39m\u001b[38;5;124mdmtx\u001b[39m\u001b[38;5;124m'\u001b[39m)\n",
      "File \u001b[1;32mc:\\Users\\aidan\\anaconda3\\envs\\research_project\\Lib\\ctypes\\__init__.py:460\u001b[0m, in \u001b[0;36mLibraryLoader.LoadLibrary\u001b[1;34m(self, name)\u001b[0m\n\u001b[0;32m    459\u001b[0m \u001b[38;5;28;01mdef\u001b[39;00m \u001b[38;5;21mLoadLibrary\u001b[39m(\u001b[38;5;28mself\u001b[39m, name):\n\u001b[1;32m--> 460\u001b[0m     \u001b[38;5;28;01mreturn\u001b[39;00m \u001b[38;5;28mself\u001b[39m\u001b[38;5;241m.\u001b[39m_dlltype(name)\n",
      "File \u001b[1;32mc:\\Users\\aidan\\anaconda3\\envs\\research_project\\Lib\\ctypes\\__init__.py:379\u001b[0m, in \u001b[0;36mCDLL.__init__\u001b[1;34m(self, name, mode, handle, use_errno, use_last_error, winmode)\u001b[0m\n\u001b[0;32m    376\u001b[0m \u001b[38;5;28mself\u001b[39m\u001b[38;5;241m.\u001b[39m_FuncPtr \u001b[38;5;241m=\u001b[39m _FuncPtr\n\u001b[0;32m    378\u001b[0m \u001b[38;5;28;01mif\u001b[39;00m handle \u001b[38;5;129;01mis\u001b[39;00m \u001b[38;5;28;01mNone\u001b[39;00m:\n\u001b[1;32m--> 379\u001b[0m     \u001b[38;5;28mself\u001b[39m\u001b[38;5;241m.\u001b[39m_handle \u001b[38;5;241m=\u001b[39m _dlopen(\u001b[38;5;28mself\u001b[39m\u001b[38;5;241m.\u001b[39m_name, mode)\n\u001b[0;32m    380\u001b[0m \u001b[38;5;28;01melse\u001b[39;00m:\n\u001b[0;32m    381\u001b[0m     \u001b[38;5;28mself\u001b[39m\u001b[38;5;241m.\u001b[39m_handle \u001b[38;5;241m=\u001b[39m handle\n",
      "\u001b[1;31mFileNotFoundError\u001b[0m: Could not find module 'c:\\Users\\aidan\\anaconda3\\envs\\research_project\\Lib\\site-packages\\pylibdmtx\\libdmtx-64.dll' (or one of its dependencies). Try using the full path with constructor syntax."
     ]
    }
   ],
   "source": [
    "# from pylibdmtx.pylibdmtx import decode\n",
    "from pylibdmtx.pylibdmtx import decode\n",
    "import glob\n",
    "\n",
    "# may need to change below if any models are train on MAN data\n",
    "test_files = glob.glob('../data/processed/test/images/*.jpg')\n",
    "test_decodings = [test_files[i].split('_')[-1].split('.')[0] for i in range(len(test_files))]"
   ]
  },
  {
   "cell_type": "code",
   "execution_count": 34,
   "metadata": {},
   "outputs": [
    {
     "name": "stdout",
     "output_type": "stream",
     "text": [
      "['-D3FDPE01YB9NW0047XG505-1ZT4P5SH32', '-D3FDPE01YB9NW0047XG505-XF36NATM', '0-12022091060008', '0-12022091060009', '0-12022091060032', '002-85381', '002-85390', '002-92447', '002-92449', '012022081060006']\n"
     ]
    }
   ],
   "source": [
    "import glob\n",
    "import cv2\n",
    "\n",
    "# may need to change below if any models are train on MAN data\n",
    "test_files = glob.glob('../data/processed/test/images/*.jpg')\n",
    "test_decodings = [test_files[i].split('.')[-4].split('_')[-2].split('\\\\')[-1] for i in range(len(test_files))]\n",
    "print(test_decodings[:10])"
   ]
  },
  {
   "cell_type": "markdown",
   "metadata": {},
   "source": [
    "## Helper Functions (and eventual full pipeline function)"
   ]
  },
  {
   "cell_type": "code",
   "execution_count": null,
   "metadata": {},
   "outputs": [],
   "source": [
    "def std_decode(img_files):\n",
    "    '''\n",
    "    Decodes images with standard pylibdmtx library\n",
    "    Takes image filepaths as input\n",
    "    If no data is found, returns None\n",
    "    '''\n",
    "    for img_file in img_files:\n",
    "        img = cv2.imread(img_file)\n",
    "        decoded = decode(img)\n",
    "        if len(decoded) == 0:\n",
    "            return None\n",
    "        else:\n",
    "            return decoded[0].data.decode('utf-8')\n",
    "\n",
    "def pipeline(test_files):\n",
    "\n",
    "    # Standard decoding\n",
    "    print('Standard decoding')\n",
    "    print(std_decode(test_files[:10]))"
   ]
  },
  {
   "cell_type": "code",
   "execution_count": null,
   "metadata": {},
   "outputs": [],
   "source": []
  }
 ],
 "metadata": {
  "kernelspec": {
   "display_name": "research_project",
   "language": "python",
   "name": "python3"
  },
  "language_info": {
   "codemirror_mode": {
    "name": "ipython",
    "version": 3
   },
   "file_extension": ".py",
   "mimetype": "text/x-python",
   "name": "python",
   "nbconvert_exporter": "python",
   "pygments_lexer": "ipython3",
   "version": "3.12.5"
  }
 },
 "nbformat": 4,
 "nbformat_minor": 2
}
