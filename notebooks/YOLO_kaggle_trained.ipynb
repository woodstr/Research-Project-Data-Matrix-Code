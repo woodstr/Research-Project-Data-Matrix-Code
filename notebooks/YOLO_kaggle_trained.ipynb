{
 "cells": [
  {
   "cell_type": "markdown",
   "metadata": {},
   "source": [
    "# Setup\n",
    "\n",
    "Remember to install CUDA dependencies"
   ]
  },
  {
   "cell_type": "code",
   "execution_count": 1,
   "metadata": {},
   "outputs": [],
   "source": [
    "import glob\n",
    "import os\n",
    "import shutil\n",
    "import re\n",
    "import random\n",
    "seed = 420\n",
    "random.seed(seed)\n",
    "\n",
    "from ultralytics import YOLO, settings\n",
    "root_dir = os.getcwd().replace('\\\\notebooks', '')\n",
    "settings.update({'datasets_dir': f'{root_dir}/data/processed', 'runs_dir': f'{root_dir}/yolo/runs'})\n",
    "\n",
    "from roboflow import Roboflow"
   ]
  },
  {
   "cell_type": "markdown",
   "metadata": {},
   "source": [
    "# Sorting Kaggle and MAN datasets into train/val/test\n",
    "\n",
    "Sources:\n",
    "- https://www.kaggle.com/datasets/hamidl/yoloqrlabeled?resource=download\n",
    "- https://app.roboflow.com/rs-xldmw/data-matrix-codes/"
   ]
  },
  {
   "cell_type": "code",
   "execution_count": 2,
   "metadata": {},
   "outputs": [],
   "source": [
    "# create required directories\n",
    "if not os.path.exists('../data/processed/'):\n",
    "    os.mkdir('../data/processed')\n",
    "    os.mkdir('../data/processed/images')\n",
    "    os.mkdir('../data/processed/images/train')\n",
    "    os.mkdir('../data/processed/images/val')\n",
    "    os.mkdir('../data/processed/images/test')\n",
    "    os.mkdir('../data/processed/labels')\n",
    "    os.mkdir('../data/processed/labels/train')\n",
    "    os.mkdir('../data/processed/labels/val')\n",
    "    os.mkdir('../data/processed/images/test')\n",
    "\n",
    "    # copy images and labels to required directories by train/val splits\n",
    "\n",
    "    # total images\n",
    "    total = len(glob.glob('../data/YOLO-QR-datasets/Dataset 1/images/*.jpg')) + \\\n",
    "            len(glob.glob('../data/YOLO-QR-datasets/Dataset 2/images/*.jpg')) + \\\n",
    "            len(glob.glob('../data/YOLO-QR-datasets/Dataset 3/images/*.jpg'))\n",
    "\n",
    "    train = int(total * 0.9) # floored (we may miss our on 1 or 2 images but that's fine)\n",
    "    val = int(total * 0.1)\n",
    "    print(f'Train : {train}')\n",
    "    print(f'Val   : {val}')\n",
    "\n",
    "    # getting filepaths of all images and annotations\n",
    "    filepaths = {'images': [], 'labels': []}\n",
    "    for i in range(1, 4):\n",
    "        # images\n",
    "        for file in glob.glob(f'../data/YOLO-QR-datasets/Dataset {i}/images/*.jpg'):\n",
    "            filepaths['images'].append(file)\n",
    "        # labels\n",
    "        for file in glob.glob(f'../data/YOLO-QR-datasets/Dataset {i}/labels/*.txt'):\n",
    "            filepaths['labels'].append(file)\n",
    "\n",
    "    print(filepaths['images'][:2])\n",
    "    print(filepaths['labels'][:2])\n",
    "\n",
    "    # shuffled indexes\n",
    "    indexes = list(range(total))\n",
    "    random.Random(seed).shuffle(indexes)\n",
    "    print(indexes[:2])\n",
    "\n",
    "    # copy images and labels to required directories with train/val splits\n",
    "    pattern = r'\\d+' # regex pattern for grabbing first number in label file\n",
    "    for i, index in enumerate(indexes):\n",
    "        if i < train:\n",
    "            # train\n",
    "\n",
    "            # copy image file as-is\n",
    "            shutil.copyfile(filepaths['images'][index], f'../data/processed/images/train/{i}.jpg')\n",
    "\n",
    "            # copy label file but change class index to 0\n",
    "            with open(filepaths['labels'][index], 'r') as f:\n",
    "                line = f.readline()\n",
    "            num = re.search(pattern, line).group()\n",
    "            line = line.replace(num, '0', 1)\n",
    "            with open(f'../data/processed/labels/train/{i}.txt', 'w') as f:\n",
    "                f.write(line)\n",
    "        \n",
    "        else:\n",
    "            # val\n",
    "            shutil.copyfile(filepaths['images'][index], f'../data/processed/images/val/{i}.jpg')\n",
    "            with open(filepaths['labels'][index], 'r') as f:\n",
    "                line = f.readline()\n",
    "            num = re.search(pattern, line).group()\n",
    "            line = line.replace(num, '0', 1)\n",
    "            with open(f'../data/processed/labels/val/{i}.txt', 'w') as f:\n",
    "                f.write(line)\n",
    "\n",
    "    # download MAN dataset to tmp folder for later sorting\n",
    "    if not os.path.exists('../data/processed/tmp'):\n",
    "        os.mkdir('../data/processed/tmp')\n",
    "    \n",
    "    with open('../roboflow_api_key.txt') as f:\n",
    "        api_key = f.read().strip()\n",
    "\n",
    "    rf = Roboflow(api_key=api_key)\n",
    "    project = rf.workspace('rs-xldmw').project('data-matrix-codes')\n",
    "    version = project.version(2)\n",
    "    dataset = version.download('yolov11', '../data/processed/tmp/')\n",
    "\n",
    "    # move files to test folder\n",
    "    for file in glob.glob('../data/processed/tmp/test/images/*.jpg'):\n",
    "        shutil.move(file, '../data/processed/images/test/')\n",
    "    for file in glob.glob('../data/processed/tmp/test/labels/*.txt'):\n",
    "        shutil.move(file, '../data/processed/labels/test/')\n",
    "\n",
    "    # remove tmp folder\n",
    "    shutil.rmtree('../data/processed/tmp')\n",
    "\n",
    "    # create yaml file for training YOLO on\n",
    "    with open('../data/processed/dataset.yaml', 'w') as f:\n",
    "        f.write(f'path: {root_dir}/data/processed/\\n')\n",
    "        f.write('train: images/train\\n')\n",
    "        f.write('val: images/val\\n')\n",
    "        f.write('test: images/test\\n')\n",
    "        f.write('\\n')\n",
    "        f.write('nc: 1\\n')\n",
    "        f.write('names: [\\'Data Matrix\\']\\n')"
   ]
  },
  {
   "cell_type": "markdown",
   "metadata": {},
   "source": [
    "# Training"
   ]
  },
  {
   "cell_type": "markdown",
   "metadata": {},
   "source": [
    "## From Scratch\n",
    "\n",
    "Took ~4.6hrs on rtx 2070"
   ]
  },
  {
   "cell_type": "code",
   "execution_count": 3,
   "metadata": {},
   "outputs": [],
   "source": [
    "model = YOLO('yolo11n.yaml', task='detect') # build a new model from YAML"
   ]
  },
  {
   "cell_type": "code",
   "execution_count": 4,
   "metadata": {},
   "outputs": [
    {
     "name": "stdout",
     "output_type": "stream",
     "text": [
      "New https://pypi.org/project/ultralytics/8.3.8 available  Update with 'pip install -U ultralytics'\n",
      "Ultralytics 8.3.6  Python-3.12.5 torch-2.4.1 CUDA:0 (NVIDIA GeForce RTX 2070, 8192MiB)\n",
      "\u001b[34m\u001b[1mengine\\trainer: \u001b[0mtask=detect, mode=train, model=yolo11n.yaml, data=../data/kaggle/kaggle-QR.yaml, epochs=100, time=None, patience=10, batch=8, imgsz=640, save=True, save_period=-1, cache=False, device=None, workers=0, project=None, name=train2, exist_ok=False, pretrained=False, optimizer=auto, verbose=True, seed=0, deterministic=True, single_cls=True, rect=False, cos_lr=False, close_mosaic=10, resume=False, amp=True, fraction=1.0, profile=False, freeze=None, multi_scale=False, overlap_mask=True, mask_ratio=4, dropout=0.0, val=True, split=val, save_json=False, save_hybrid=False, conf=None, iou=0.7, max_det=300, half=False, dnn=False, plots=True, source=None, vid_stride=1, stream_buffer=False, visualize=False, augment=False, agnostic_nms=False, classes=None, retina_masks=False, embed=None, show=False, save_frames=False, save_txt=False, save_conf=False, save_crop=False, show_labels=True, show_conf=True, show_boxes=True, line_width=None, format=torchscript, keras=False, optimize=False, int8=False, dynamic=False, simplify=True, opset=None, workspace=4, nms=False, lr0=0.01, lrf=0.01, momentum=0.937, weight_decay=0.0005, warmup_epochs=3.0, warmup_momentum=0.8, warmup_bias_lr=0.1, box=7.5, cls=0.5, dfl=1.5, pose=12.0, kobj=1.0, label_smoothing=0.0, nbs=64, hsv_h=0.015, hsv_s=0.7, hsv_v=0.4, degrees=0.0, translate=0.1, scale=0.5, shear=0.0, perspective=0.0, flipud=0.0, fliplr=0.5, bgr=0.0, mosaic=1.0, mixup=0.0, copy_paste=0.0, copy_paste_mode=flip, auto_augment=randaugment, erasing=0.4, crop_fraction=1.0, cfg=None, tracker=botsort.yaml, save_dir=c:\\Users\\aidan\\OneDrive\\Desktop\\itu\\msc\\courses\\sem3\\research_project\\Research-Project-Data-Matrix-Code-\\yolo\\runs\\detect\\train2\n",
      "Overriding model.yaml nc=80 with nc=1\n",
      "\n",
      "                   from  n    params  module                                       arguments                     \n",
      "  0                  -1  1       464  ultralytics.nn.modules.conv.Conv             [3, 16, 3, 2]                 \n",
      "  1                  -1  1      4672  ultralytics.nn.modules.conv.Conv             [16, 32, 3, 2]                \n",
      "  2                  -1  1      6640  ultralytics.nn.modules.block.C3k2            [32, 64, 1, False, 0.25]      \n",
      "  3                  -1  1     36992  ultralytics.nn.modules.conv.Conv             [64, 64, 3, 2]                \n",
      "  4                  -1  1     26080  ultralytics.nn.modules.block.C3k2            [64, 128, 1, False, 0.25]     \n",
      "  5                  -1  1    147712  ultralytics.nn.modules.conv.Conv             [128, 128, 3, 2]              \n",
      "  6                  -1  1     87040  ultralytics.nn.modules.block.C3k2            [128, 128, 1, True]           \n",
      "  7                  -1  1    295424  ultralytics.nn.modules.conv.Conv             [128, 256, 3, 2]              \n",
      "  8                  -1  1    346112  ultralytics.nn.modules.block.C3k2            [256, 256, 1, True]           \n",
      "  9                  -1  1    164608  ultralytics.nn.modules.block.SPPF            [256, 256, 5]                 \n",
      " 10                  -1  1    249728  ultralytics.nn.modules.block.C2PSA           [256, 256, 1]                 \n",
      " 11                  -1  1         0  torch.nn.modules.upsampling.Upsample         [None, 2, 'nearest']          \n",
      " 12             [-1, 6]  1         0  ultralytics.nn.modules.conv.Concat           [1]                           \n",
      " 13                  -1  1    111296  ultralytics.nn.modules.block.C3k2            [384, 128, 1, False]          \n",
      " 14                  -1  1         0  torch.nn.modules.upsampling.Upsample         [None, 2, 'nearest']          \n",
      " 15             [-1, 4]  1         0  ultralytics.nn.modules.conv.Concat           [1]                           \n",
      " 16                  -1  1     32096  ultralytics.nn.modules.block.C3k2            [256, 64, 1, False]           \n",
      " 17                  -1  1     36992  ultralytics.nn.modules.conv.Conv             [64, 64, 3, 2]                \n",
      " 18            [-1, 13]  1         0  ultralytics.nn.modules.conv.Concat           [1]                           \n",
      " 19                  -1  1     86720  ultralytics.nn.modules.block.C3k2            [192, 128, 1, False]          \n",
      " 20                  -1  1    147712  ultralytics.nn.modules.conv.Conv             [128, 128, 3, 2]              \n",
      " 21            [-1, 10]  1         0  ultralytics.nn.modules.conv.Concat           [1]                           \n",
      " 22                  -1  1    378880  ultralytics.nn.modules.block.C3k2            [384, 256, 1, True]           \n",
      " 23        [16, 19, 22]  1    430867  ultralytics.nn.modules.head.Detect           [1, [64, 128, 256]]           \n",
      "YOLO11n summary: 319 layers, 2,590,035 parameters, 2,590,019 gradients\n",
      "\n",
      "Freezing layer 'model.23.dfl.conv.weight'\n",
      "\u001b[34m\u001b[1mAMP: \u001b[0mrunning Automatic Mixed Precision (AMP) checks with YOLO11n...\n",
      "Downloading https://github.com/ultralytics/assets/releases/download/v8.3.0/yolo11n.pt to 'yolo11n.pt'...\n"
     ]
    },
    {
     "name": "stderr",
     "output_type": "stream",
     "text": [
      "100%|██████████| 5.35M/5.35M [00:00<00:00, 16.3MB/s]\n"
     ]
    },
    {
     "name": "stdout",
     "output_type": "stream",
     "text": [
      "\u001b[34m\u001b[1mAMP: \u001b[0mchecks passed \n"
     ]
    },
    {
     "name": "stderr",
     "output_type": "stream",
     "text": [
      "\u001b[34m\u001b[1mtrain: \u001b[0mScanning C:\\Users\\aidan\\OneDrive\\Desktop\\itu\\msc\\courses\\sem3\\research_project\\Research-Project-Data-Matrix-Code-\\data\\kaggle\\labels\\train... 18310 images, 0 backgrounds, 0 corrupt: 100%|██████████| 18310/18310 [00:11<00:00, 1541.48it/s]\n"
     ]
    },
    {
     "name": "stdout",
     "output_type": "stream",
     "text": [
      "\u001b[34m\u001b[1mtrain: \u001b[0mNew cache created: C:\\Users\\aidan\\OneDrive\\Desktop\\itu\\msc\\courses\\sem3\\research_project\\Research-Project-Data-Matrix-Code-\\data\\kaggle\\labels\\train.cache\n"
     ]
    },
    {
     "name": "stderr",
     "output_type": "stream",
     "text": [
      "\u001b[34m\u001b[1mval: \u001b[0mScanning C:\\Users\\aidan\\OneDrive\\Desktop\\itu\\msc\\courses\\sem3\\research_project\\Research-Project-Data-Matrix-Code-\\data\\kaggle\\labels\\val... 2035 images, 0 backgrounds, 0 corrupt: 100%|██████████| 2035/2035 [00:01<00:00, 1435.34it/s]\n"
     ]
    },
    {
     "name": "stdout",
     "output_type": "stream",
     "text": [
      "\u001b[34m\u001b[1mval: \u001b[0mNew cache created: C:\\Users\\aidan\\OneDrive\\Desktop\\itu\\msc\\courses\\sem3\\research_project\\Research-Project-Data-Matrix-Code-\\data\\kaggle\\labels\\val.cache\n",
      "Plotting labels to c:\\Users\\aidan\\OneDrive\\Desktop\\itu\\msc\\courses\\sem3\\research_project\\Research-Project-Data-Matrix-Code-\\yolo\\runs\\detect\\train2\\labels.jpg... \n",
      "\u001b[34m\u001b[1moptimizer:\u001b[0m 'optimizer=auto' found, ignoring 'lr0=0.01' and 'momentum=0.937' and determining best 'optimizer', 'lr0' and 'momentum' automatically... \n",
      "\u001b[34m\u001b[1moptimizer:\u001b[0m SGD(lr=0.01, momentum=0.9) with parameter groups 81 weight(decay=0.0), 88 weight(decay=0.0005), 87 bias(decay=0.0)\n",
      "Image sizes 640 train, 640 val\n",
      "Using 0 dataloader workers\n",
      "Logging results to \u001b[1mc:\\Users\\aidan\\OneDrive\\Desktop\\itu\\msc\\courses\\sem3\\research_project\\Research-Project-Data-Matrix-Code-\\yolo\\runs\\detect\\train2\u001b[0m\n",
      "Starting training for 100 epochs...\n",
      "\n",
      "      Epoch    GPU_mem   box_loss   cls_loss   dfl_loss  Instances       Size\n"
     ]
    },
    {
     "name": "stderr",
     "output_type": "stream",
     "text": [
      "      1/100      1.25G      2.684      2.853       3.79         19        640: 100%|██████████| 2289/2289 [08:05<00:00,  4.72it/s]\n",
      "                 Class     Images  Instances      Box(P          R      mAP50  mAP50-95): 100%|██████████| 128/128 [00:25<00:00,  4.99it/s]\n"
     ]
    },
    {
     "name": "stdout",
     "output_type": "stream",
     "text": [
      "                   all       2035       2035      0.966      0.903      0.974      0.765\n",
      "\n",
      "      Epoch    GPU_mem   box_loss   cls_loss   dfl_loss  Instances       Size\n"
     ]
    },
    {
     "name": "stderr",
     "output_type": "stream",
     "text": [
      "      2/100      1.26G     0.7526      0.729      1.501         13        640: 100%|██████████| 2289/2289 [07:57<00:00,  4.80it/s]\n",
      "                 Class     Images  Instances      Box(P          R      mAP50  mAP50-95): 100%|██████████| 128/128 [00:25<00:00,  4.98it/s]"
     ]
    },
    {
     "name": "stdout",
     "output_type": "stream",
     "text": [
      "                   all       2035       2035      0.996      0.995      0.995      0.972\n"
     ]
    },
    {
     "name": "stderr",
     "output_type": "stream",
     "text": [
      "\n"
     ]
    },
    {
     "name": "stdout",
     "output_type": "stream",
     "text": [
      "\n",
      "      Epoch    GPU_mem   box_loss   cls_loss   dfl_loss  Instances       Size\n"
     ]
    },
    {
     "name": "stderr",
     "output_type": "stream",
     "text": [
      "      3/100      1.24G     0.4145     0.4006      1.066         13        640: 100%|██████████| 2289/2289 [08:13<00:00,  4.64it/s]\n",
      "                 Class     Images  Instances      Box(P          R      mAP50  mAP50-95): 100%|██████████| 128/128 [00:25<00:00,  4.98it/s]"
     ]
    },
    {
     "name": "stdout",
     "output_type": "stream",
     "text": [
      "                   all       2035       2035      0.996      0.996      0.995      0.993\n"
     ]
    },
    {
     "name": "stderr",
     "output_type": "stream",
     "text": [
      "\n"
     ]
    },
    {
     "name": "stdout",
     "output_type": "stream",
     "text": [
      "\n",
      "      Epoch    GPU_mem   box_loss   cls_loss   dfl_loss  Instances       Size\n"
     ]
    },
    {
     "name": "stderr",
     "output_type": "stream",
     "text": [
      "      4/100      1.24G     0.3207     0.3218     0.9754         13        640: 100%|██████████| 2289/2289 [08:11<00:00,  4.66it/s]\n",
      "                 Class     Images  Instances      Box(P          R      mAP50  mAP50-95): 100%|██████████| 128/128 [00:24<00:00,  5.15it/s]"
     ]
    },
    {
     "name": "stdout",
     "output_type": "stream",
     "text": [
      "                   all       2035       2035      0.996      0.996      0.995      0.993\n"
     ]
    },
    {
     "name": "stderr",
     "output_type": "stream",
     "text": [
      "\n"
     ]
    },
    {
     "name": "stdout",
     "output_type": "stream",
     "text": [
      "\n",
      "      Epoch    GPU_mem   box_loss   cls_loss   dfl_loss  Instances       Size\n"
     ]
    },
    {
     "name": "stderr",
     "output_type": "stream",
     "text": [
      "      5/100      1.24G     0.2637     0.2794     0.9417         12        640: 100%|██████████| 2289/2289 [08:13<00:00,  4.64it/s]\n",
      "                 Class     Images  Instances      Box(P          R      mAP50  mAP50-95): 100%|██████████| 128/128 [00:25<00:00,  5.01it/s]"
     ]
    },
    {
     "name": "stdout",
     "output_type": "stream",
     "text": [
      "                   all       2035       2035      0.996      0.996      0.995      0.993\n"
     ]
    },
    {
     "name": "stderr",
     "output_type": "stream",
     "text": [
      "\n"
     ]
    },
    {
     "name": "stdout",
     "output_type": "stream",
     "text": [
      "\n",
      "      Epoch    GPU_mem   box_loss   cls_loss   dfl_loss  Instances       Size\n"
     ]
    },
    {
     "name": "stderr",
     "output_type": "stream",
     "text": [
      "      6/100      1.24G     0.2295      0.253     0.9247         17        640: 100%|██████████| 2289/2289 [08:10<00:00,  4.66it/s]\n",
      "                 Class     Images  Instances      Box(P          R      mAP50  mAP50-95): 100%|██████████| 128/128 [00:25<00:00,  5.04it/s]"
     ]
    },
    {
     "name": "stdout",
     "output_type": "stream",
     "text": [
      "                   all       2035       2035      0.996      0.996      0.995      0.994\n"
     ]
    },
    {
     "name": "stderr",
     "output_type": "stream",
     "text": [
      "\n"
     ]
    },
    {
     "name": "stdout",
     "output_type": "stream",
     "text": [
      "\n",
      "      Epoch    GPU_mem   box_loss   cls_loss   dfl_loss  Instances       Size\n"
     ]
    },
    {
     "name": "stderr",
     "output_type": "stream",
     "text": [
      "      7/100      1.24G     0.2085      0.234     0.9159         16        640: 100%|██████████| 2289/2289 [07:40<00:00,  4.97it/s]\n",
      "                 Class     Images  Instances      Box(P          R      mAP50  mAP50-95): 100%|██████████| 128/128 [00:26<00:00,  4.81it/s]"
     ]
    },
    {
     "name": "stdout",
     "output_type": "stream",
     "text": [
      "                   all       2035       2035      0.996      0.996      0.995      0.994\n"
     ]
    },
    {
     "name": "stderr",
     "output_type": "stream",
     "text": [
      "\n"
     ]
    },
    {
     "name": "stdout",
     "output_type": "stream",
     "text": [
      "\n",
      "      Epoch    GPU_mem   box_loss   cls_loss   dfl_loss  Instances       Size\n"
     ]
    },
    {
     "name": "stderr",
     "output_type": "stream",
     "text": [
      "      8/100      1.24G      0.194     0.2211      0.911         12        640: 100%|██████████| 2289/2289 [07:56<00:00,  4.80it/s]\n",
      "                 Class     Images  Instances      Box(P          R      mAP50  mAP50-95): 100%|██████████| 128/128 [00:25<00:00,  5.08it/s]"
     ]
    },
    {
     "name": "stdout",
     "output_type": "stream",
     "text": [
      "                   all       2035       2035      0.996      0.996      0.995      0.994\n"
     ]
    },
    {
     "name": "stderr",
     "output_type": "stream",
     "text": [
      "\n"
     ]
    },
    {
     "name": "stdout",
     "output_type": "stream",
     "text": [
      "\n",
      "      Epoch    GPU_mem   box_loss   cls_loss   dfl_loss  Instances       Size\n"
     ]
    },
    {
     "name": "stderr",
     "output_type": "stream",
     "text": [
      "      9/100      1.26G     0.1829      0.211     0.9085         16        640: 100%|██████████| 2289/2289 [07:42<00:00,  4.95it/s]\n",
      "                 Class     Images  Instances      Box(P          R      mAP50  mAP50-95): 100%|██████████| 128/128 [00:23<00:00,  5.36it/s]"
     ]
    },
    {
     "name": "stdout",
     "output_type": "stream",
     "text": [
      "                   all       2035       2035      0.996      0.996      0.995      0.994\n"
     ]
    },
    {
     "name": "stderr",
     "output_type": "stream",
     "text": [
      "\n"
     ]
    },
    {
     "name": "stdout",
     "output_type": "stream",
     "text": [
      "\n",
      "      Epoch    GPU_mem   box_loss   cls_loss   dfl_loss  Instances       Size\n"
     ]
    },
    {
     "name": "stderr",
     "output_type": "stream",
     "text": [
      "     10/100      1.25G      0.173     0.2001     0.9041         17        640: 100%|██████████| 2289/2289 [07:47<00:00,  4.90it/s]\n",
      "                 Class     Images  Instances      Box(P          R      mAP50  mAP50-95): 100%|██████████| 128/128 [00:25<00:00,  5.01it/s]"
     ]
    },
    {
     "name": "stdout",
     "output_type": "stream",
     "text": [
      "                   all       2035       2035      0.996      0.996      0.995      0.994\n"
     ]
    },
    {
     "name": "stderr",
     "output_type": "stream",
     "text": [
      "\n"
     ]
    },
    {
     "name": "stdout",
     "output_type": "stream",
     "text": [
      "\n",
      "      Epoch    GPU_mem   box_loss   cls_loss   dfl_loss  Instances       Size\n"
     ]
    },
    {
     "name": "stderr",
     "output_type": "stream",
     "text": [
      "     11/100      1.25G      0.168     0.1921     0.9028         15        640: 100%|██████████| 2289/2289 [07:46<00:00,  4.91it/s]\n",
      "                 Class     Images  Instances      Box(P          R      mAP50  mAP50-95): 100%|██████████| 128/128 [00:24<00:00,  5.19it/s]"
     ]
    },
    {
     "name": "stdout",
     "output_type": "stream",
     "text": [
      "                   all       2035       2035      0.996      0.996      0.995      0.994\n"
     ]
    },
    {
     "name": "stderr",
     "output_type": "stream",
     "text": [
      "\n"
     ]
    },
    {
     "name": "stdout",
     "output_type": "stream",
     "text": [
      "\n",
      "      Epoch    GPU_mem   box_loss   cls_loss   dfl_loss  Instances       Size\n"
     ]
    },
    {
     "name": "stderr",
     "output_type": "stream",
     "text": [
      "     12/100      1.25G     0.1635      0.189     0.9017         14        640: 100%|██████████| 2289/2289 [07:45<00:00,  4.91it/s]\n",
      "                 Class     Images  Instances      Box(P          R      mAP50  mAP50-95): 100%|██████████| 128/128 [00:23<00:00,  5.42it/s]"
     ]
    },
    {
     "name": "stdout",
     "output_type": "stream",
     "text": [
      "                   all       2035       2035      0.996      0.996      0.995      0.994\n"
     ]
    },
    {
     "name": "stderr",
     "output_type": "stream",
     "text": [
      "\n"
     ]
    },
    {
     "name": "stdout",
     "output_type": "stream",
     "text": [
      "\n",
      "      Epoch    GPU_mem   box_loss   cls_loss   dfl_loss  Instances       Size\n"
     ]
    },
    {
     "name": "stderr",
     "output_type": "stream",
     "text": [
      "     13/100      1.25G      0.159     0.1827     0.8997         18        640: 100%|██████████| 2289/2289 [07:38<00:00,  4.99it/s]\n",
      "                 Class     Images  Instances      Box(P          R      mAP50  mAP50-95): 100%|██████████| 128/128 [00:23<00:00,  5.50it/s]"
     ]
    },
    {
     "name": "stdout",
     "output_type": "stream",
     "text": [
      "                   all       2035       2035      0.996      0.996      0.995      0.994\n"
     ]
    },
    {
     "name": "stderr",
     "output_type": "stream",
     "text": [
      "\n"
     ]
    },
    {
     "name": "stdout",
     "output_type": "stream",
     "text": [
      "\n",
      "      Epoch    GPU_mem   box_loss   cls_loss   dfl_loss  Instances       Size\n"
     ]
    },
    {
     "name": "stderr",
     "output_type": "stream",
     "text": [
      "     14/100      1.25G     0.1527     0.1773     0.8953         12        640: 100%|██████████| 2289/2289 [07:44<00:00,  4.93it/s]\n",
      "                 Class     Images  Instances      Box(P          R      mAP50  mAP50-95): 100%|██████████| 128/128 [00:24<00:00,  5.27it/s]"
     ]
    },
    {
     "name": "stdout",
     "output_type": "stream",
     "text": [
      "                   all       2035       2035      0.996      0.996      0.995      0.994\n"
     ]
    },
    {
     "name": "stderr",
     "output_type": "stream",
     "text": [
      "\n"
     ]
    },
    {
     "name": "stdout",
     "output_type": "stream",
     "text": [
      "\n",
      "      Epoch    GPU_mem   box_loss   cls_loss   dfl_loss  Instances       Size\n"
     ]
    },
    {
     "name": "stderr",
     "output_type": "stream",
     "text": [
      "     15/100      1.25G     0.1504     0.1746     0.8969         19        640: 100%|██████████| 2289/2289 [07:46<00:00,  4.91it/s]\n",
      "                 Class     Images  Instances      Box(P          R      mAP50  mAP50-95): 100%|██████████| 128/128 [00:23<00:00,  5.36it/s]"
     ]
    },
    {
     "name": "stdout",
     "output_type": "stream",
     "text": [
      "                   all       2035       2035      0.996      0.996      0.995      0.995\n"
     ]
    },
    {
     "name": "stderr",
     "output_type": "stream",
     "text": [
      "\n"
     ]
    },
    {
     "name": "stdout",
     "output_type": "stream",
     "text": [
      "\n",
      "      Epoch    GPU_mem   box_loss   cls_loss   dfl_loss  Instances       Size\n"
     ]
    },
    {
     "name": "stderr",
     "output_type": "stream",
     "text": [
      "     16/100      1.25G     0.1469      0.168     0.8956         16        640: 100%|██████████| 2289/2289 [07:36<00:00,  5.02it/s]\n",
      "                 Class     Images  Instances      Box(P          R      mAP50  mAP50-95): 100%|██████████| 128/128 [00:22<00:00,  5.80it/s]"
     ]
    },
    {
     "name": "stdout",
     "output_type": "stream",
     "text": [
      "                   all       2035       2035      0.996      0.996      0.995      0.994\n"
     ]
    },
    {
     "name": "stderr",
     "output_type": "stream",
     "text": [
      "\n"
     ]
    },
    {
     "name": "stdout",
     "output_type": "stream",
     "text": [
      "\n",
      "      Epoch    GPU_mem   box_loss   cls_loss   dfl_loss  Instances       Size\n"
     ]
    },
    {
     "name": "stderr",
     "output_type": "stream",
     "text": [
      "     17/100      1.26G     0.1439     0.1672     0.8941         11        640: 100%|██████████| 2289/2289 [07:33<00:00,  5.04it/s]\n",
      "                 Class     Images  Instances      Box(P          R      mAP50  mAP50-95): 100%|██████████| 128/128 [00:23<00:00,  5.46it/s]"
     ]
    },
    {
     "name": "stdout",
     "output_type": "stream",
     "text": [
      "                   all       2035       2035      0.995      0.996      0.995      0.994\n"
     ]
    },
    {
     "name": "stderr",
     "output_type": "stream",
     "text": [
      "\n"
     ]
    },
    {
     "name": "stdout",
     "output_type": "stream",
     "text": [
      "\n",
      "      Epoch    GPU_mem   box_loss   cls_loss   dfl_loss  Instances       Size\n"
     ]
    },
    {
     "name": "stderr",
     "output_type": "stream",
     "text": [
      "     18/100      1.25G     0.1408     0.1647      0.892         13        640: 100%|██████████| 2289/2289 [07:43<00:00,  4.94it/s]\n",
      "                 Class     Images  Instances      Box(P          R      mAP50  mAP50-95): 100%|██████████| 128/128 [00:23<00:00,  5.35it/s]"
     ]
    },
    {
     "name": "stdout",
     "output_type": "stream",
     "text": [
      "                   all       2035       2035      0.996      0.996      0.995      0.994\n"
     ]
    },
    {
     "name": "stderr",
     "output_type": "stream",
     "text": [
      "\n"
     ]
    },
    {
     "name": "stdout",
     "output_type": "stream",
     "text": [
      "\n",
      "      Epoch    GPU_mem   box_loss   cls_loss   dfl_loss  Instances       Size\n"
     ]
    },
    {
     "name": "stderr",
     "output_type": "stream",
     "text": [
      "     19/100      1.25G     0.1392     0.1589     0.8905         13        640: 100%|██████████| 2289/2289 [07:35<00:00,  5.03it/s]\n",
      "                 Class     Images  Instances      Box(P          R      mAP50  mAP50-95): 100%|██████████| 128/128 [00:22<00:00,  5.63it/s]"
     ]
    },
    {
     "name": "stdout",
     "output_type": "stream",
     "text": [
      "                   all       2035       2035      0.995      0.996      0.995      0.994\n"
     ]
    },
    {
     "name": "stderr",
     "output_type": "stream",
     "text": [
      "\n"
     ]
    },
    {
     "name": "stdout",
     "output_type": "stream",
     "text": [
      "\n",
      "      Epoch    GPU_mem   box_loss   cls_loss   dfl_loss  Instances       Size\n"
     ]
    },
    {
     "name": "stderr",
     "output_type": "stream",
     "text": [
      "     20/100      1.25G     0.1353     0.1565      0.889         15        640: 100%|██████████| 2289/2289 [07:38<00:00,  4.99it/s]\n",
      "                 Class     Images  Instances      Box(P          R      mAP50  mAP50-95): 100%|██████████| 128/128 [00:24<00:00,  5.32it/s]"
     ]
    },
    {
     "name": "stdout",
     "output_type": "stream",
     "text": [
      "                   all       2035       2035      0.996      0.996      0.995      0.994\n"
     ]
    },
    {
     "name": "stderr",
     "output_type": "stream",
     "text": [
      "\n"
     ]
    },
    {
     "name": "stdout",
     "output_type": "stream",
     "text": [
      "\n",
      "      Epoch    GPU_mem   box_loss   cls_loss   dfl_loss  Instances       Size\n"
     ]
    },
    {
     "name": "stderr",
     "output_type": "stream",
     "text": [
      "     21/100      1.25G     0.1342     0.1535     0.8883         12        640: 100%|██████████| 2289/2289 [07:49<00:00,  4.88it/s]\n",
      "                 Class     Images  Instances      Box(P          R      mAP50  mAP50-95): 100%|██████████| 128/128 [00:22<00:00,  5.57it/s]"
     ]
    },
    {
     "name": "stdout",
     "output_type": "stream",
     "text": [
      "                   all       2035       2035      0.996      0.996      0.995      0.994\n"
     ]
    },
    {
     "name": "stderr",
     "output_type": "stream",
     "text": [
      "\n"
     ]
    },
    {
     "name": "stdout",
     "output_type": "stream",
     "text": [
      "\n",
      "      Epoch    GPU_mem   box_loss   cls_loss   dfl_loss  Instances       Size\n"
     ]
    },
    {
     "name": "stderr",
     "output_type": "stream",
     "text": [
      "     22/100      1.25G     0.1326     0.1538      0.889         10        640: 100%|██████████| 2289/2289 [07:29<00:00,  5.09it/s]\n",
      "                 Class     Images  Instances      Box(P          R      mAP50  mAP50-95): 100%|██████████| 128/128 [00:22<00:00,  5.74it/s]"
     ]
    },
    {
     "name": "stdout",
     "output_type": "stream",
     "text": [
      "                   all       2035       2035      0.996      0.996      0.995      0.994\n"
     ]
    },
    {
     "name": "stderr",
     "output_type": "stream",
     "text": [
      "\n"
     ]
    },
    {
     "name": "stdout",
     "output_type": "stream",
     "text": [
      "\n",
      "      Epoch    GPU_mem   box_loss   cls_loss   dfl_loss  Instances       Size\n"
     ]
    },
    {
     "name": "stderr",
     "output_type": "stream",
     "text": [
      "     23/100      1.25G     0.1303     0.1489      0.888         13        640: 100%|██████████| 2289/2289 [07:28<00:00,  5.10it/s]\n",
      "                 Class     Images  Instances      Box(P          R      mAP50  mAP50-95): 100%|██████████| 128/128 [00:22<00:00,  5.66it/s]"
     ]
    },
    {
     "name": "stdout",
     "output_type": "stream",
     "text": [
      "                   all       2035       2035      0.996      0.996      0.995      0.994\n"
     ]
    },
    {
     "name": "stderr",
     "output_type": "stream",
     "text": [
      "\n"
     ]
    },
    {
     "name": "stdout",
     "output_type": "stream",
     "text": [
      "\n",
      "      Epoch    GPU_mem   box_loss   cls_loss   dfl_loss  Instances       Size\n"
     ]
    },
    {
     "name": "stderr",
     "output_type": "stream",
     "text": [
      "     24/100      1.25G     0.1287     0.1486     0.8871         10        640: 100%|██████████| 2289/2289 [07:31<00:00,  5.07it/s]\n",
      "                 Class     Images  Instances      Box(P          R      mAP50  mAP50-95): 100%|██████████| 128/128 [00:22<00:00,  5.64it/s]"
     ]
    },
    {
     "name": "stdout",
     "output_type": "stream",
     "text": [
      "                   all       2035       2035      0.996      0.996      0.995      0.995\n"
     ]
    },
    {
     "name": "stderr",
     "output_type": "stream",
     "text": [
      "\n"
     ]
    },
    {
     "name": "stdout",
     "output_type": "stream",
     "text": [
      "\n",
      "      Epoch    GPU_mem   box_loss   cls_loss   dfl_loss  Instances       Size\n"
     ]
    },
    {
     "name": "stderr",
     "output_type": "stream",
     "text": [
      "     25/100      1.26G     0.1266     0.1485     0.8884         15        640: 100%|██████████| 2289/2289 [07:34<00:00,  5.04it/s]\n",
      "                 Class     Images  Instances      Box(P          R      mAP50  mAP50-95): 100%|██████████| 128/128 [00:23<00:00,  5.52it/s]"
     ]
    },
    {
     "name": "stdout",
     "output_type": "stream",
     "text": [
      "                   all       2035       2035      0.996      0.996      0.995      0.994\n"
     ]
    },
    {
     "name": "stderr",
     "output_type": "stream",
     "text": [
      "\n"
     ]
    },
    {
     "name": "stdout",
     "output_type": "stream",
     "text": [
      "\n",
      "      Epoch    GPU_mem   box_loss   cls_loss   dfl_loss  Instances       Size\n"
     ]
    },
    {
     "name": "stderr",
     "output_type": "stream",
     "text": [
      "     26/100      1.25G     0.1235     0.1467     0.8849         16        640: 100%|██████████| 2289/2289 [07:37<00:00,  5.00it/s]\n",
      "                 Class     Images  Instances      Box(P          R      mAP50  mAP50-95): 100%|██████████| 128/128 [00:23<00:00,  5.56it/s]"
     ]
    },
    {
     "name": "stdout",
     "output_type": "stream",
     "text": [
      "                   all       2035       2035      0.996      0.996      0.995      0.994\n"
     ]
    },
    {
     "name": "stderr",
     "output_type": "stream",
     "text": [
      "\n"
     ]
    },
    {
     "name": "stdout",
     "output_type": "stream",
     "text": [
      "\n",
      "      Epoch    GPU_mem   box_loss   cls_loss   dfl_loss  Instances       Size\n"
     ]
    },
    {
     "name": "stderr",
     "output_type": "stream",
     "text": [
      "     27/100      1.25G     0.1225     0.1426     0.8857         11        640: 100%|██████████| 2289/2289 [07:38<00:00,  5.00it/s]\n",
      "                 Class     Images  Instances      Box(P          R      mAP50  mAP50-95): 100%|██████████| 128/128 [00:22<00:00,  5.59it/s]"
     ]
    },
    {
     "name": "stdout",
     "output_type": "stream",
     "text": [
      "                   all       2035       2035      0.996      0.996      0.995      0.994\n"
     ]
    },
    {
     "name": "stderr",
     "output_type": "stream",
     "text": [
      "\n"
     ]
    },
    {
     "name": "stdout",
     "output_type": "stream",
     "text": [
      "\n",
      "      Epoch    GPU_mem   box_loss   cls_loss   dfl_loss  Instances       Size\n"
     ]
    },
    {
     "name": "stderr",
     "output_type": "stream",
     "text": [
      "     28/100      1.25G     0.1213     0.1417     0.8846         14        640: 100%|██████████| 2289/2289 [07:35<00:00,  5.02it/s]\n",
      "                 Class     Images  Instances      Box(P          R      mAP50  mAP50-95): 100%|██████████| 128/128 [00:23<00:00,  5.53it/s]"
     ]
    },
    {
     "name": "stdout",
     "output_type": "stream",
     "text": [
      "                   all       2035       2035      0.996      0.996      0.995      0.994\n"
     ]
    },
    {
     "name": "stderr",
     "output_type": "stream",
     "text": [
      "\n"
     ]
    },
    {
     "name": "stdout",
     "output_type": "stream",
     "text": [
      "\n",
      "      Epoch    GPU_mem   box_loss   cls_loss   dfl_loss  Instances       Size\n"
     ]
    },
    {
     "name": "stderr",
     "output_type": "stream",
     "text": [
      "     29/100      1.25G      0.119     0.1397     0.8828         10        640: 100%|██████████| 2289/2289 [07:36<00:00,  5.02it/s]\n",
      "                 Class     Images  Instances      Box(P          R      mAP50  mAP50-95): 100%|██████████| 128/128 [00:22<00:00,  5.63it/s]"
     ]
    },
    {
     "name": "stdout",
     "output_type": "stream",
     "text": [
      "                   all       2035       2035      0.996      0.996      0.995      0.994\n"
     ]
    },
    {
     "name": "stderr",
     "output_type": "stream",
     "text": [
      "\n"
     ]
    },
    {
     "name": "stdout",
     "output_type": "stream",
     "text": [
      "\n",
      "      Epoch    GPU_mem   box_loss   cls_loss   dfl_loss  Instances       Size\n"
     ]
    },
    {
     "name": "stderr",
     "output_type": "stream",
     "text": [
      "     30/100      1.25G     0.1179     0.1375      0.884         16        640: 100%|██████████| 2289/2289 [07:34<00:00,  5.03it/s]\n",
      "                 Class     Images  Instances      Box(P          R      mAP50  mAP50-95): 100%|██████████| 128/128 [00:23<00:00,  5.55it/s]"
     ]
    },
    {
     "name": "stdout",
     "output_type": "stream",
     "text": [
      "                   all       2035       2035      0.996      0.996      0.995      0.994\n"
     ]
    },
    {
     "name": "stderr",
     "output_type": "stream",
     "text": [
      "\n"
     ]
    },
    {
     "name": "stdout",
     "output_type": "stream",
     "text": [
      "\n",
      "      Epoch    GPU_mem   box_loss   cls_loss   dfl_loss  Instances       Size\n"
     ]
    },
    {
     "name": "stderr",
     "output_type": "stream",
     "text": [
      "     31/100      1.25G      0.117     0.1346     0.8825         16        640: 100%|██████████| 2289/2289 [07:36<00:00,  5.01it/s]\n",
      "                 Class     Images  Instances      Box(P          R      mAP50  mAP50-95): 100%|██████████| 128/128 [00:22<00:00,  5.60it/s]"
     ]
    },
    {
     "name": "stdout",
     "output_type": "stream",
     "text": [
      "                   all       2035       2035      0.996      0.996      0.995      0.994\n"
     ]
    },
    {
     "name": "stderr",
     "output_type": "stream",
     "text": [
      "\n"
     ]
    },
    {
     "name": "stdout",
     "output_type": "stream",
     "text": [
      "\n",
      "      Epoch    GPU_mem   box_loss   cls_loss   dfl_loss  Instances       Size\n"
     ]
    },
    {
     "name": "stderr",
     "output_type": "stream",
     "text": [
      "     32/100      1.25G     0.1174     0.1372     0.8834         17        640: 100%|██████████| 2289/2289 [07:36<00:00,  5.01it/s]\n",
      "                 Class     Images  Instances      Box(P          R      mAP50  mAP50-95): 100%|██████████| 128/128 [00:23<00:00,  5.45it/s]"
     ]
    },
    {
     "name": "stdout",
     "output_type": "stream",
     "text": [
      "                   all       2035       2035      0.996      0.996      0.995      0.994\n"
     ]
    },
    {
     "name": "stderr",
     "output_type": "stream",
     "text": [
      "\n"
     ]
    },
    {
     "name": "stdout",
     "output_type": "stream",
     "text": [
      "\n",
      "      Epoch    GPU_mem   box_loss   cls_loss   dfl_loss  Instances       Size\n"
     ]
    },
    {
     "name": "stderr",
     "output_type": "stream",
     "text": [
      "     33/100      1.26G     0.1146     0.1371     0.8824         14        640: 100%|██████████| 2289/2289 [07:33<00:00,  5.04it/s]\n",
      "                 Class     Images  Instances      Box(P          R      mAP50  mAP50-95): 100%|██████████| 128/128 [00:22<00:00,  5.64it/s]"
     ]
    },
    {
     "name": "stdout",
     "output_type": "stream",
     "text": [
      "                   all       2035       2035      0.997      0.996      0.995      0.994\n"
     ]
    },
    {
     "name": "stderr",
     "output_type": "stream",
     "text": [
      "\n"
     ]
    },
    {
     "name": "stdout",
     "output_type": "stream",
     "text": [
      "\n",
      "      Epoch    GPU_mem   box_loss   cls_loss   dfl_loss  Instances       Size\n"
     ]
    },
    {
     "name": "stderr",
     "output_type": "stream",
     "text": [
      "     34/100      1.25G     0.1156     0.1361     0.8834         12        640: 100%|██████████| 2289/2289 [07:32<00:00,  5.06it/s]\n",
      "                 Class     Images  Instances      Box(P          R      mAP50  mAP50-95): 100%|██████████| 128/128 [00:23<00:00,  5.56it/s]"
     ]
    },
    {
     "name": "stdout",
     "output_type": "stream",
     "text": [
      "                   all       2035       2035      0.996      0.996      0.995      0.994\n",
      "\u001b[34m\u001b[1mEarlyStopping: \u001b[0mTraining stopped early as no improvement observed in last 10 epochs. Best results observed at epoch 24, best model saved as best.pt.\n",
      "To update EarlyStopping(patience=10) pass a new patience value, i.e. `patience=300` or use `patience=0` to disable EarlyStopping.\n"
     ]
    },
    {
     "name": "stderr",
     "output_type": "stream",
     "text": [
      "\n"
     ]
    },
    {
     "name": "stdout",
     "output_type": "stream",
     "text": [
      "\n",
      "34 epochs completed in 4.615 hours.\n",
      "Optimizer stripped from c:\\Users\\aidan\\OneDrive\\Desktop\\itu\\msc\\courses\\sem3\\research_project\\Research-Project-Data-Matrix-Code-\\yolo\\runs\\detect\\train2\\weights\\last.pt, 5.5MB\n",
      "Optimizer stripped from c:\\Users\\aidan\\OneDrive\\Desktop\\itu\\msc\\courses\\sem3\\research_project\\Research-Project-Data-Matrix-Code-\\yolo\\runs\\detect\\train2\\weights\\best.pt, 5.5MB\n",
      "\n",
      "Validating c:\\Users\\aidan\\OneDrive\\Desktop\\itu\\msc\\courses\\sem3\\research_project\\Research-Project-Data-Matrix-Code-\\yolo\\runs\\detect\\train2\\weights\\best.pt...\n",
      "WARNING  validating an untrained model YAML will result in 0 mAP.\n",
      "Ultralytics 8.3.6  Python-3.12.5 torch-2.4.1 CUDA:0 (NVIDIA GeForce RTX 2070, 8192MiB)\n",
      "YOLO11n summary (fused): 238 layers, 2,582,347 parameters, 0 gradients\n"
     ]
    },
    {
     "name": "stderr",
     "output_type": "stream",
     "text": [
      "                 Class     Images  Instances      Box(P          R      mAP50  mAP50-95): 100%|██████████| 128/128 [00:23<00:00,  5.52it/s]\n"
     ]
    },
    {
     "name": "stdout",
     "output_type": "stream",
     "text": [
      "                   all       2035       2035      0.996      0.996      0.995      0.995\n",
      "Speed: 0.2ms preprocess, 2.5ms inference, 0.0ms loss, 0.9ms postprocess per image\n",
      "Results saved to \u001b[1mc:\\Users\\aidan\\OneDrive\\Desktop\\itu\\msc\\courses\\sem3\\research_project\\Research-Project-Data-Matrix-Code-\\yolo\\runs\\detect\\train2\u001b[0m\n"
     ]
    },
    {
     "data": {
      "text/plain": [
       "ultralytics.utils.metrics.DetMetrics object with attributes:\n",
       "\n",
       "ap_class_index: array([0])\n",
       "box: ultralytics.utils.metrics.Metric object\n",
       "confusion_matrix: <ultralytics.utils.metrics.ConfusionMatrix object at 0x0000011AD7341490>\n",
       "curves: ['Precision-Recall(B)', 'F1-Confidence(B)', 'Precision-Confidence(B)', 'Recall-Confidence(B)']\n",
       "curves_results: [[array([          0,    0.001001,    0.002002,    0.003003,    0.004004,    0.005005,    0.006006,    0.007007,    0.008008,    0.009009,     0.01001,    0.011011,    0.012012,    0.013013,    0.014014,    0.015015,    0.016016,    0.017017,    0.018018,    0.019019,     0.02002,    0.021021,    0.022022,    0.023023,\n",
       "          0.024024,    0.025025,    0.026026,    0.027027,    0.028028,    0.029029,     0.03003,    0.031031,    0.032032,    0.033033,    0.034034,    0.035035,    0.036036,    0.037037,    0.038038,    0.039039,     0.04004,    0.041041,    0.042042,    0.043043,    0.044044,    0.045045,    0.046046,    0.047047,\n",
       "          0.048048,    0.049049,     0.05005,    0.051051,    0.052052,    0.053053,    0.054054,    0.055055,    0.056056,    0.057057,    0.058058,    0.059059,     0.06006,    0.061061,    0.062062,    0.063063,    0.064064,    0.065065,    0.066066,    0.067067,    0.068068,    0.069069,     0.07007,    0.071071,\n",
       "          0.072072,    0.073073,    0.074074,    0.075075,    0.076076,    0.077077,    0.078078,    0.079079,     0.08008,    0.081081,    0.082082,    0.083083,    0.084084,    0.085085,    0.086086,    0.087087,    0.088088,    0.089089,     0.09009,    0.091091,    0.092092,    0.093093,    0.094094,    0.095095,\n",
       "          0.096096,    0.097097,    0.098098,    0.099099,      0.1001,      0.1011,      0.1021,      0.1031,      0.1041,     0.10511,     0.10611,     0.10711,     0.10811,     0.10911,     0.11011,     0.11111,     0.11211,     0.11311,     0.11411,     0.11512,     0.11612,     0.11712,     0.11812,     0.11912,\n",
       "           0.12012,     0.12112,     0.12212,     0.12312,     0.12412,     0.12513,     0.12613,     0.12713,     0.12813,     0.12913,     0.13013,     0.13113,     0.13213,     0.13313,     0.13413,     0.13514,     0.13614,     0.13714,     0.13814,     0.13914,     0.14014,     0.14114,     0.14214,     0.14314,\n",
       "           0.14414,     0.14515,     0.14615,     0.14715,     0.14815,     0.14915,     0.15015,     0.15115,     0.15215,     0.15315,     0.15415,     0.15516,     0.15616,     0.15716,     0.15816,     0.15916,     0.16016,     0.16116,     0.16216,     0.16316,     0.16416,     0.16517,     0.16617,     0.16717,\n",
       "           0.16817,     0.16917,     0.17017,     0.17117,     0.17217,     0.17317,     0.17417,     0.17518,     0.17618,     0.17718,     0.17818,     0.17918,     0.18018,     0.18118,     0.18218,     0.18318,     0.18418,     0.18519,     0.18619,     0.18719,     0.18819,     0.18919,     0.19019,     0.19119,\n",
       "           0.19219,     0.19319,     0.19419,      0.1952,      0.1962,      0.1972,      0.1982,      0.1992,      0.2002,      0.2012,      0.2022,      0.2032,      0.2042,     0.20521,     0.20621,     0.20721,     0.20821,     0.20921,     0.21021,     0.21121,     0.21221,     0.21321,     0.21421,     0.21522,\n",
       "           0.21622,     0.21722,     0.21822,     0.21922,     0.22022,     0.22122,     0.22222,     0.22322,     0.22422,     0.22523,     0.22623,     0.22723,     0.22823,     0.22923,     0.23023,     0.23123,     0.23223,     0.23323,     0.23423,     0.23524,     0.23624,     0.23724,     0.23824,     0.23924,\n",
       "           0.24024,     0.24124,     0.24224,     0.24324,     0.24424,     0.24525,     0.24625,     0.24725,     0.24825,     0.24925,     0.25025,     0.25125,     0.25225,     0.25325,     0.25425,     0.25526,     0.25626,     0.25726,     0.25826,     0.25926,     0.26026,     0.26126,     0.26226,     0.26326,\n",
       "           0.26426,     0.26527,     0.26627,     0.26727,     0.26827,     0.26927,     0.27027,     0.27127,     0.27227,     0.27327,     0.27427,     0.27528,     0.27628,     0.27728,     0.27828,     0.27928,     0.28028,     0.28128,     0.28228,     0.28328,     0.28428,     0.28529,     0.28629,     0.28729,\n",
       "           0.28829,     0.28929,     0.29029,     0.29129,     0.29229,     0.29329,     0.29429,      0.2953,      0.2963,      0.2973,      0.2983,      0.2993,      0.3003,      0.3013,      0.3023,      0.3033,      0.3043,     0.30531,     0.30631,     0.30731,     0.30831,     0.30931,     0.31031,     0.31131,\n",
       "           0.31231,     0.31331,     0.31431,     0.31532,     0.31632,     0.31732,     0.31832,     0.31932,     0.32032,     0.32132,     0.32232,     0.32332,     0.32432,     0.32533,     0.32633,     0.32733,     0.32833,     0.32933,     0.33033,     0.33133,     0.33233,     0.33333,     0.33433,     0.33534,\n",
       "           0.33634,     0.33734,     0.33834,     0.33934,     0.34034,     0.34134,     0.34234,     0.34334,     0.34434,     0.34535,     0.34635,     0.34735,     0.34835,     0.34935,     0.35035,     0.35135,     0.35235,     0.35335,     0.35435,     0.35536,     0.35636,     0.35736,     0.35836,     0.35936,\n",
       "           0.36036,     0.36136,     0.36236,     0.36336,     0.36436,     0.36537,     0.36637,     0.36737,     0.36837,     0.36937,     0.37037,     0.37137,     0.37237,     0.37337,     0.37437,     0.37538,     0.37638,     0.37738,     0.37838,     0.37938,     0.38038,     0.38138,     0.38238,     0.38338,\n",
       "           0.38438,     0.38539,     0.38639,     0.38739,     0.38839,     0.38939,     0.39039,     0.39139,     0.39239,     0.39339,     0.39439,      0.3954,      0.3964,      0.3974,      0.3984,      0.3994,      0.4004,      0.4014,      0.4024,      0.4034,      0.4044,     0.40541,     0.40641,     0.40741,\n",
       "           0.40841,     0.40941,     0.41041,     0.41141,     0.41241,     0.41341,     0.41441,     0.41542,     0.41642,     0.41742,     0.41842,     0.41942,     0.42042,     0.42142,     0.42242,     0.42342,     0.42442,     0.42543,     0.42643,     0.42743,     0.42843,     0.42943,     0.43043,     0.43143,\n",
       "           0.43243,     0.43343,     0.43443,     0.43544,     0.43644,     0.43744,     0.43844,     0.43944,     0.44044,     0.44144,     0.44244,     0.44344,     0.44444,     0.44545,     0.44645,     0.44745,     0.44845,     0.44945,     0.45045,     0.45145,     0.45245,     0.45345,     0.45445,     0.45546,\n",
       "           0.45646,     0.45746,     0.45846,     0.45946,     0.46046,     0.46146,     0.46246,     0.46346,     0.46446,     0.46547,     0.46647,     0.46747,     0.46847,     0.46947,     0.47047,     0.47147,     0.47247,     0.47347,     0.47447,     0.47548,     0.47648,     0.47748,     0.47848,     0.47948,\n",
       "           0.48048,     0.48148,     0.48248,     0.48348,     0.48448,     0.48549,     0.48649,     0.48749,     0.48849,     0.48949,     0.49049,     0.49149,     0.49249,     0.49349,     0.49449,      0.4955,      0.4965,      0.4975,      0.4985,      0.4995,      0.5005,      0.5015,      0.5025,      0.5035,\n",
       "            0.5045,     0.50551,     0.50651,     0.50751,     0.50851,     0.50951,     0.51051,     0.51151,     0.51251,     0.51351,     0.51451,     0.51552,     0.51652,     0.51752,     0.51852,     0.51952,     0.52052,     0.52152,     0.52252,     0.52352,     0.52452,     0.52553,     0.52653,     0.52753,\n",
       "           0.52853,     0.52953,     0.53053,     0.53153,     0.53253,     0.53353,     0.53453,     0.53554,     0.53654,     0.53754,     0.53854,     0.53954,     0.54054,     0.54154,     0.54254,     0.54354,     0.54454,     0.54555,     0.54655,     0.54755,     0.54855,     0.54955,     0.55055,     0.55155,\n",
       "           0.55255,     0.55355,     0.55455,     0.55556,     0.55656,     0.55756,     0.55856,     0.55956,     0.56056,     0.56156,     0.56256,     0.56356,     0.56456,     0.56557,     0.56657,     0.56757,     0.56857,     0.56957,     0.57057,     0.57157,     0.57257,     0.57357,     0.57457,     0.57558,\n",
       "           0.57658,     0.57758,     0.57858,     0.57958,     0.58058,     0.58158,     0.58258,     0.58358,     0.58458,     0.58559,     0.58659,     0.58759,     0.58859,     0.58959,     0.59059,     0.59159,     0.59259,     0.59359,     0.59459,      0.5956,      0.5966,      0.5976,      0.5986,      0.5996,\n",
       "            0.6006,      0.6016,      0.6026,      0.6036,      0.6046,     0.60561,     0.60661,     0.60761,     0.60861,     0.60961,     0.61061,     0.61161,     0.61261,     0.61361,     0.61461,     0.61562,     0.61662,     0.61762,     0.61862,     0.61962,     0.62062,     0.62162,     0.62262,     0.62362,\n",
       "           0.62462,     0.62563,     0.62663,     0.62763,     0.62863,     0.62963,     0.63063,     0.63163,     0.63263,     0.63363,     0.63463,     0.63564,     0.63664,     0.63764,     0.63864,     0.63964,     0.64064,     0.64164,     0.64264,     0.64364,     0.64464,     0.64565,     0.64665,     0.64765,\n",
       "           0.64865,     0.64965,     0.65065,     0.65165,     0.65265,     0.65365,     0.65465,     0.65566,     0.65666,     0.65766,     0.65866,     0.65966,     0.66066,     0.66166,     0.66266,     0.66366,     0.66466,     0.66567,     0.66667,     0.66767,     0.66867,     0.66967,     0.67067,     0.67167,\n",
       "           0.67267,     0.67367,     0.67467,     0.67568,     0.67668,     0.67768,     0.67868,     0.67968,     0.68068,     0.68168,     0.68268,     0.68368,     0.68468,     0.68569,     0.68669,     0.68769,     0.68869,     0.68969,     0.69069,     0.69169,     0.69269,     0.69369,     0.69469,      0.6957,\n",
       "            0.6967,      0.6977,      0.6987,      0.6997,      0.7007,      0.7017,      0.7027,      0.7037,      0.7047,     0.70571,     0.70671,     0.70771,     0.70871,     0.70971,     0.71071,     0.71171,     0.71271,     0.71371,     0.71471,     0.71572,     0.71672,     0.71772,     0.71872,     0.71972,\n",
       "           0.72072,     0.72172,     0.72272,     0.72372,     0.72472,     0.72573,     0.72673,     0.72773,     0.72873,     0.72973,     0.73073,     0.73173,     0.73273,     0.73373,     0.73473,     0.73574,     0.73674,     0.73774,     0.73874,     0.73974,     0.74074,     0.74174,     0.74274,     0.74374,\n",
       "           0.74474,     0.74575,     0.74675,     0.74775,     0.74875,     0.74975,     0.75075,     0.75175,     0.75275,     0.75375,     0.75475,     0.75576,     0.75676,     0.75776,     0.75876,     0.75976,     0.76076,     0.76176,     0.76276,     0.76376,     0.76476,     0.76577,     0.76677,     0.76777,\n",
       "           0.76877,     0.76977,     0.77077,     0.77177,     0.77277,     0.77377,     0.77477,     0.77578,     0.77678,     0.77778,     0.77878,     0.77978,     0.78078,     0.78178,     0.78278,     0.78378,     0.78478,     0.78579,     0.78679,     0.78779,     0.78879,     0.78979,     0.79079,     0.79179,\n",
       "           0.79279,     0.79379,     0.79479,      0.7958,      0.7968,      0.7978,      0.7988,      0.7998,      0.8008,      0.8018,      0.8028,      0.8038,      0.8048,     0.80581,     0.80681,     0.80781,     0.80881,     0.80981,     0.81081,     0.81181,     0.81281,     0.81381,     0.81481,     0.81582,\n",
       "           0.81682,     0.81782,     0.81882,     0.81982,     0.82082,     0.82182,     0.82282,     0.82382,     0.82482,     0.82583,     0.82683,     0.82783,     0.82883,     0.82983,     0.83083,     0.83183,     0.83283,     0.83383,     0.83483,     0.83584,     0.83684,     0.83784,     0.83884,     0.83984,\n",
       "           0.84084,     0.84184,     0.84284,     0.84384,     0.84484,     0.84585,     0.84685,     0.84785,     0.84885,     0.84985,     0.85085,     0.85185,     0.85285,     0.85385,     0.85485,     0.85586,     0.85686,     0.85786,     0.85886,     0.85986,     0.86086,     0.86186,     0.86286,     0.86386,\n",
       "           0.86486,     0.86587,     0.86687,     0.86787,     0.86887,     0.86987,     0.87087,     0.87187,     0.87287,     0.87387,     0.87487,     0.87588,     0.87688,     0.87788,     0.87888,     0.87988,     0.88088,     0.88188,     0.88288,     0.88388,     0.88488,     0.88589,     0.88689,     0.88789,\n",
       "           0.88889,     0.88989,     0.89089,     0.89189,     0.89289,     0.89389,     0.89489,      0.8959,      0.8969,      0.8979,      0.8989,      0.8999,      0.9009,      0.9019,      0.9029,      0.9039,      0.9049,     0.90591,     0.90691,     0.90791,     0.90891,     0.90991,     0.91091,     0.91191,\n",
       "           0.91291,     0.91391,     0.91491,     0.91592,     0.91692,     0.91792,     0.91892,     0.91992,     0.92092,     0.92192,     0.92292,     0.92392,     0.92492,     0.92593,     0.92693,     0.92793,     0.92893,     0.92993,     0.93093,     0.93193,     0.93293,     0.93393,     0.93493,     0.93594,\n",
       "           0.93694,     0.93794,     0.93894,     0.93994,     0.94094,     0.94194,     0.94294,     0.94394,     0.94494,     0.94595,     0.94695,     0.94795,     0.94895,     0.94995,     0.95095,     0.95195,     0.95295,     0.95395,     0.95495,     0.95596,     0.95696,     0.95796,     0.95896,     0.95996,\n",
       "           0.96096,     0.96196,     0.96296,     0.96396,     0.96496,     0.96597,     0.96697,     0.96797,     0.96897,     0.96997,     0.97097,     0.97197,     0.97297,     0.97397,     0.97497,     0.97598,     0.97698,     0.97798,     0.97898,     0.97998,     0.98098,     0.98198,     0.98298,     0.98398,\n",
       "           0.98498,     0.98599,     0.98699,     0.98799,     0.98899,     0.98999,     0.99099,     0.99199,     0.99299,     0.99399,     0.99499,       0.996,       0.997,       0.998,       0.999,           1]), array([[          1,           1,           1,           1,           1,           1,           1,           1,           1,           1,           1,           1,           1,           1,           1,           1,           1,           1,           1,           1,           1,           1,           1,\n",
       "                  1,           1,           1,           1,           1,           1,           1,           1,           1,           1,           1,           1,           1,           1,           1,           1,           1,           1,           1,           1,           1,           1,           1,\n",
       "                  1,           1,           1,           1,           1,           1,           1,           1,           1,           1,           1,           1,           1,           1,           1,           1,           1,           1,           1,           1,           1,           1,           1,\n",
       "                  1,           1,           1,           1,           1,           1,           1,           1,           1,           1,           1,           1,           1,           1,           1,           1,           1,           1,           1,           1,           1,           1,           1,\n",
       "                  1,           1,           1,           1,           1,           1,           1,           1,           1,           1,           1,           1,           1,           1,           1,           1,           1,           1,           1,           1,           1,           1,           1,\n",
       "                  1,           1,           1,           1,           1,           1,           1,           1,           1,           1,           1,           1,           1,           1,           1,           1,           1,           1,           1,           1,           1,           1,           1,\n",
       "                  1,           1,           1,           1,           1,           1,           1,           1,           1,           1,           1,           1,           1,           1,           1,           1,           1,           1,           1,           1,           1,           1,           1,\n",
       "                  1,           1,           1,           1,           1,           1,           1,           1,           1,           1,           1,           1,           1,           1,           1,           1,           1,           1,           1,           1,           1,           1,           1,\n",
       "                  1,           1,           1,           1,           1,           1,           1,           1,           1,           1,           1,           1,           1,           1,           1,           1,           1,           1,           1,           1,           1,           1,           1,\n",
       "                  1,           1,           1,           1,           1,           1,           1,           1,           1,           1,           1,           1,           1,           1,           1,           1,           1,           1,           1,           1,           1,           1,           1,\n",
       "                  1,           1,           1,           1,           1,           1,           1,           1,           1,           1,           1,           1,           1,           1,           1,           1,           1,           1,           1,           1,           1,           1,           1,\n",
       "                  1,           1,           1,           1,           1,           1,           1,           1,           1,           1,           1,           1,           1,           1,           1,           1,           1,           1,           1,           1,           1,           1,           1,\n",
       "                  1,           1,           1,           1,           1,           1,           1,           1,           1,           1,           1,           1,           1,           1,           1,           1,           1,           1,           1,           1,           1,           1,           1,\n",
       "                  1,           1,           1,           1,           1,           1,           1,           1,           1,           1,           1,           1,           1,           1,           1,           1,           1,           1,           1,           1,           1,           1,           1,\n",
       "                  1,           1,           1,           1,           1,           1,           1,           1,           1,           1,           1,           1,           1,           1,           1,           1,           1,           1,           1,           1,           1,           1,           1,\n",
       "                  1,           1,           1,           1,           1,           1,           1,           1,           1,           1,           1,           1,           1,           1,           1,           1,           1,           1,           1,           1,           1,           1,           1,\n",
       "                  1,           1,           1,           1,           1,           1,           1,           1,           1,           1,           1,           1,           1,           1,           1,           1,           1,           1,           1,           1,           1,           1,           1,\n",
       "                  1,           1,           1,           1,           1,           1,           1,           1,           1,           1,           1,           1,           1,           1,           1,           1,           1,           1,           1,           1,           1,           1,           1,\n",
       "                  1,           1,           1,           1,           1,           1,           1,           1,           1,           1,           1,           1,           1,           1,           1,           1,           1,           1,           1,           1,           1,           1,           1,\n",
       "                  1,           1,           1,           1,           1,           1,           1,           1,           1,           1,           1,           1,           1,           1,           1,           1,           1,           1,           1,           1,           1,           1,           1,\n",
       "                  1,           1,           1,           1,           1,           1,           1,           1,           1,           1,           1,           1,           1,           1,           1,           1,           1,           1,           1,           1,           1,           1,           1,\n",
       "                  1,           1,           1,           1,           1,           1,           1,           1,           1,           1,           1,           1,           1,           1,           1,           1,           1,           1,           1,           1,           1,           1,           1,\n",
       "                  1,           1,           1,           1,           1,           1,           1,           1,           1,           1,           1,           1,           1,           1,           1,           1,           1,           1,           1,           1,           1,           1,           1,\n",
       "                  1,           1,           1,           1,           1,           1,           1,           1,           1,           1,           1,           1,           1,           1,           1,           1,           1,           1,           1,           1,           1,           1,           1,\n",
       "                  1,           1,           1,           1,           1,           1,           1,           1,           1,           1,           1,           1,           1,           1,           1,           1,           1,           1,           1,           1,           1,           1,           1,\n",
       "                  1,           1,           1,           1,           1,           1,           1,           1,           1,           1,           1,           1,           1,           1,           1,           1,           1,           1,           1,           1,           1,           1,           1,\n",
       "                  1,           1,           1,           1,           1,           1,           1,           1,           1,           1,           1,           1,           1,           1,           1,           1,           1,           1,           1,           1,           1,           1,           1,\n",
       "                  1,           1,           1,           1,           1,           1,           1,           1,           1,           1,           1,           1,           1,           1,           1,           1,           1,           1,           1,           1,           1,           1,           1,\n",
       "                  1,           1,           1,           1,           1,           1,           1,           1,           1,           1,           1,           1,           1,           1,           1,           1,           1,           1,           1,           1,           1,           1,           1,\n",
       "                  1,           1,           1,           1,           1,           1,           1,           1,           1,           1,           1,           1,           1,           1,           1,           1,           1,           1,           1,           1,           1,           1,           1,\n",
       "                  1,           1,           1,           1,           1,           1,           1,           1,           1,           1,           1,           1,           1,           1,           1,           1,           1,           1,           1,           1,           1,           1,           1,\n",
       "                  1,           1,           1,           1,           1,           1,           1,           1,           1,           1,           1,           1,           1,           1,           1,           1,           1,           1,           1,           1,           1,           1,           1,\n",
       "                  1,           1,           1,           1,           1,           1,           1,           1,           1,           1,           1,           1,           1,           1,           1,           1,           1,           1,           1,           1,           1,           1,           1,\n",
       "                  1,           1,           1,           1,           1,           1,           1,           1,           1,           1,           1,           1,           1,           1,           1,           1,           1,           1,           1,           1,           1,           1,           1,\n",
       "                  1,           1,           1,           1,           1,           1,           1,           1,           1,           1,           1,           1,           1,           1,           1,           1,           1,           1,           1,           1,           1,           1,           1,\n",
       "                  1,           1,           1,           1,           1,           1,           1,           1,           1,           1,           1,           1,           1,           1,           1,           1,           1,           1,           1,           1,           1,           1,           1,\n",
       "                  1,           1,           1,           1,           1,           1,           1,           1,           1,           1,           1,           1,           1,           1,           1,           1,           1,           1,           1,           1,           1,           1,           1,\n",
       "                  1,           1,           1,           1,           1,           1,           1,           1,           1,           1,           1,           1,           1,           1,           1,           1,           1,           1,           1,           1,           1,           1,           1,\n",
       "                  1,           1,           1,           1,           1,           1,           1,           1,           1,           1,           1,           1,           1,           1,           1,           1,           1,           1,           1,           1,           1,           1,           1,\n",
       "                  1,           1,           1,           1,           1,           1,           1,           1,           1,           1,           1,           1,           1,           1,           1,           1,           1,           1,           1,           1,           1,           1,           1,\n",
       "                  1,           1,           1,           1,           1,           1,           1,           1,           1,           1,           1,           1,           1,           1,           1,           1,           1,           1,           1,           1,           1,           1,           1,\n",
       "                  1,           1,           1,           1,           1,           1,           1,           1,           1,           1,           1,           1,           1,           1,           1,           1,           1,           1,           1,           1,           1,           1,           1,\n",
       "                  1,           1,           1,           1,           1,           1,           1,      0.9995,      0.9995,      0.9985,      0.9985,      0.9985,     0.99752,     0.99752,     0.99752,     0.99752,     0.99752,     0.99752,     0.99752,     0.99752,     0.99703,     0.99703,     0.99607,\n",
       "            0.99607,     0.99607,     0.99607,     0.99607,     0.99607,     0.99607,     0.99607,     0.97314,      0.9653,     0.95044,           0]]), 'Recall', 'Precision'], [array([          0,    0.001001,    0.002002,    0.003003,    0.004004,    0.005005,    0.006006,    0.007007,    0.008008,    0.009009,     0.01001,    0.011011,    0.012012,    0.013013,    0.014014,    0.015015,    0.016016,    0.017017,    0.018018,    0.019019,     0.02002,    0.021021,    0.022022,    0.023023,\n",
       "          0.024024,    0.025025,    0.026026,    0.027027,    0.028028,    0.029029,     0.03003,    0.031031,    0.032032,    0.033033,    0.034034,    0.035035,    0.036036,    0.037037,    0.038038,    0.039039,     0.04004,    0.041041,    0.042042,    0.043043,    0.044044,    0.045045,    0.046046,    0.047047,\n",
       "          0.048048,    0.049049,     0.05005,    0.051051,    0.052052,    0.053053,    0.054054,    0.055055,    0.056056,    0.057057,    0.058058,    0.059059,     0.06006,    0.061061,    0.062062,    0.063063,    0.064064,    0.065065,    0.066066,    0.067067,    0.068068,    0.069069,     0.07007,    0.071071,\n",
       "          0.072072,    0.073073,    0.074074,    0.075075,    0.076076,    0.077077,    0.078078,    0.079079,     0.08008,    0.081081,    0.082082,    0.083083,    0.084084,    0.085085,    0.086086,    0.087087,    0.088088,    0.089089,     0.09009,    0.091091,    0.092092,    0.093093,    0.094094,    0.095095,\n",
       "          0.096096,    0.097097,    0.098098,    0.099099,      0.1001,      0.1011,      0.1021,      0.1031,      0.1041,     0.10511,     0.10611,     0.10711,     0.10811,     0.10911,     0.11011,     0.11111,     0.11211,     0.11311,     0.11411,     0.11512,     0.11612,     0.11712,     0.11812,     0.11912,\n",
       "           0.12012,     0.12112,     0.12212,     0.12312,     0.12412,     0.12513,     0.12613,     0.12713,     0.12813,     0.12913,     0.13013,     0.13113,     0.13213,     0.13313,     0.13413,     0.13514,     0.13614,     0.13714,     0.13814,     0.13914,     0.14014,     0.14114,     0.14214,     0.14314,\n",
       "           0.14414,     0.14515,     0.14615,     0.14715,     0.14815,     0.14915,     0.15015,     0.15115,     0.15215,     0.15315,     0.15415,     0.15516,     0.15616,     0.15716,     0.15816,     0.15916,     0.16016,     0.16116,     0.16216,     0.16316,     0.16416,     0.16517,     0.16617,     0.16717,\n",
       "           0.16817,     0.16917,     0.17017,     0.17117,     0.17217,     0.17317,     0.17417,     0.17518,     0.17618,     0.17718,     0.17818,     0.17918,     0.18018,     0.18118,     0.18218,     0.18318,     0.18418,     0.18519,     0.18619,     0.18719,     0.18819,     0.18919,     0.19019,     0.19119,\n",
       "           0.19219,     0.19319,     0.19419,      0.1952,      0.1962,      0.1972,      0.1982,      0.1992,      0.2002,      0.2012,      0.2022,      0.2032,      0.2042,     0.20521,     0.20621,     0.20721,     0.20821,     0.20921,     0.21021,     0.21121,     0.21221,     0.21321,     0.21421,     0.21522,\n",
       "           0.21622,     0.21722,     0.21822,     0.21922,     0.22022,     0.22122,     0.22222,     0.22322,     0.22422,     0.22523,     0.22623,     0.22723,     0.22823,     0.22923,     0.23023,     0.23123,     0.23223,     0.23323,     0.23423,     0.23524,     0.23624,     0.23724,     0.23824,     0.23924,\n",
       "           0.24024,     0.24124,     0.24224,     0.24324,     0.24424,     0.24525,     0.24625,     0.24725,     0.24825,     0.24925,     0.25025,     0.25125,     0.25225,     0.25325,     0.25425,     0.25526,     0.25626,     0.25726,     0.25826,     0.25926,     0.26026,     0.26126,     0.26226,     0.26326,\n",
       "           0.26426,     0.26527,     0.26627,     0.26727,     0.26827,     0.26927,     0.27027,     0.27127,     0.27227,     0.27327,     0.27427,     0.27528,     0.27628,     0.27728,     0.27828,     0.27928,     0.28028,     0.28128,     0.28228,     0.28328,     0.28428,     0.28529,     0.28629,     0.28729,\n",
       "           0.28829,     0.28929,     0.29029,     0.29129,     0.29229,     0.29329,     0.29429,      0.2953,      0.2963,      0.2973,      0.2983,      0.2993,      0.3003,      0.3013,      0.3023,      0.3033,      0.3043,     0.30531,     0.30631,     0.30731,     0.30831,     0.30931,     0.31031,     0.31131,\n",
       "           0.31231,     0.31331,     0.31431,     0.31532,     0.31632,     0.31732,     0.31832,     0.31932,     0.32032,     0.32132,     0.32232,     0.32332,     0.32432,     0.32533,     0.32633,     0.32733,     0.32833,     0.32933,     0.33033,     0.33133,     0.33233,     0.33333,     0.33433,     0.33534,\n",
       "           0.33634,     0.33734,     0.33834,     0.33934,     0.34034,     0.34134,     0.34234,     0.34334,     0.34434,     0.34535,     0.34635,     0.34735,     0.34835,     0.34935,     0.35035,     0.35135,     0.35235,     0.35335,     0.35435,     0.35536,     0.35636,     0.35736,     0.35836,     0.35936,\n",
       "           0.36036,     0.36136,     0.36236,     0.36336,     0.36436,     0.36537,     0.36637,     0.36737,     0.36837,     0.36937,     0.37037,     0.37137,     0.37237,     0.37337,     0.37437,     0.37538,     0.37638,     0.37738,     0.37838,     0.37938,     0.38038,     0.38138,     0.38238,     0.38338,\n",
       "           0.38438,     0.38539,     0.38639,     0.38739,     0.38839,     0.38939,     0.39039,     0.39139,     0.39239,     0.39339,     0.39439,      0.3954,      0.3964,      0.3974,      0.3984,      0.3994,      0.4004,      0.4014,      0.4024,      0.4034,      0.4044,     0.40541,     0.40641,     0.40741,\n",
       "           0.40841,     0.40941,     0.41041,     0.41141,     0.41241,     0.41341,     0.41441,     0.41542,     0.41642,     0.41742,     0.41842,     0.41942,     0.42042,     0.42142,     0.42242,     0.42342,     0.42442,     0.42543,     0.42643,     0.42743,     0.42843,     0.42943,     0.43043,     0.43143,\n",
       "           0.43243,     0.43343,     0.43443,     0.43544,     0.43644,     0.43744,     0.43844,     0.43944,     0.44044,     0.44144,     0.44244,     0.44344,     0.44444,     0.44545,     0.44645,     0.44745,     0.44845,     0.44945,     0.45045,     0.45145,     0.45245,     0.45345,     0.45445,     0.45546,\n",
       "           0.45646,     0.45746,     0.45846,     0.45946,     0.46046,     0.46146,     0.46246,     0.46346,     0.46446,     0.46547,     0.46647,     0.46747,     0.46847,     0.46947,     0.47047,     0.47147,     0.47247,     0.47347,     0.47447,     0.47548,     0.47648,     0.47748,     0.47848,     0.47948,\n",
       "           0.48048,     0.48148,     0.48248,     0.48348,     0.48448,     0.48549,     0.48649,     0.48749,     0.48849,     0.48949,     0.49049,     0.49149,     0.49249,     0.49349,     0.49449,      0.4955,      0.4965,      0.4975,      0.4985,      0.4995,      0.5005,      0.5015,      0.5025,      0.5035,\n",
       "            0.5045,     0.50551,     0.50651,     0.50751,     0.50851,     0.50951,     0.51051,     0.51151,     0.51251,     0.51351,     0.51451,     0.51552,     0.51652,     0.51752,     0.51852,     0.51952,     0.52052,     0.52152,     0.52252,     0.52352,     0.52452,     0.52553,     0.52653,     0.52753,\n",
       "           0.52853,     0.52953,     0.53053,     0.53153,     0.53253,     0.53353,     0.53453,     0.53554,     0.53654,     0.53754,     0.53854,     0.53954,     0.54054,     0.54154,     0.54254,     0.54354,     0.54454,     0.54555,     0.54655,     0.54755,     0.54855,     0.54955,     0.55055,     0.55155,\n",
       "           0.55255,     0.55355,     0.55455,     0.55556,     0.55656,     0.55756,     0.55856,     0.55956,     0.56056,     0.56156,     0.56256,     0.56356,     0.56456,     0.56557,     0.56657,     0.56757,     0.56857,     0.56957,     0.57057,     0.57157,     0.57257,     0.57357,     0.57457,     0.57558,\n",
       "           0.57658,     0.57758,     0.57858,     0.57958,     0.58058,     0.58158,     0.58258,     0.58358,     0.58458,     0.58559,     0.58659,     0.58759,     0.58859,     0.58959,     0.59059,     0.59159,     0.59259,     0.59359,     0.59459,      0.5956,      0.5966,      0.5976,      0.5986,      0.5996,\n",
       "            0.6006,      0.6016,      0.6026,      0.6036,      0.6046,     0.60561,     0.60661,     0.60761,     0.60861,     0.60961,     0.61061,     0.61161,     0.61261,     0.61361,     0.61461,     0.61562,     0.61662,     0.61762,     0.61862,     0.61962,     0.62062,     0.62162,     0.62262,     0.62362,\n",
       "           0.62462,     0.62563,     0.62663,     0.62763,     0.62863,     0.62963,     0.63063,     0.63163,     0.63263,     0.63363,     0.63463,     0.63564,     0.63664,     0.63764,     0.63864,     0.63964,     0.64064,     0.64164,     0.64264,     0.64364,     0.64464,     0.64565,     0.64665,     0.64765,\n",
       "           0.64865,     0.64965,     0.65065,     0.65165,     0.65265,     0.65365,     0.65465,     0.65566,     0.65666,     0.65766,     0.65866,     0.65966,     0.66066,     0.66166,     0.66266,     0.66366,     0.66466,     0.66567,     0.66667,     0.66767,     0.66867,     0.66967,     0.67067,     0.67167,\n",
       "           0.67267,     0.67367,     0.67467,     0.67568,     0.67668,     0.67768,     0.67868,     0.67968,     0.68068,     0.68168,     0.68268,     0.68368,     0.68468,     0.68569,     0.68669,     0.68769,     0.68869,     0.68969,     0.69069,     0.69169,     0.69269,     0.69369,     0.69469,      0.6957,\n",
       "            0.6967,      0.6977,      0.6987,      0.6997,      0.7007,      0.7017,      0.7027,      0.7037,      0.7047,     0.70571,     0.70671,     0.70771,     0.70871,     0.70971,     0.71071,     0.71171,     0.71271,     0.71371,     0.71471,     0.71572,     0.71672,     0.71772,     0.71872,     0.71972,\n",
       "           0.72072,     0.72172,     0.72272,     0.72372,     0.72472,     0.72573,     0.72673,     0.72773,     0.72873,     0.72973,     0.73073,     0.73173,     0.73273,     0.73373,     0.73473,     0.73574,     0.73674,     0.73774,     0.73874,     0.73974,     0.74074,     0.74174,     0.74274,     0.74374,\n",
       "           0.74474,     0.74575,     0.74675,     0.74775,     0.74875,     0.74975,     0.75075,     0.75175,     0.75275,     0.75375,     0.75475,     0.75576,     0.75676,     0.75776,     0.75876,     0.75976,     0.76076,     0.76176,     0.76276,     0.76376,     0.76476,     0.76577,     0.76677,     0.76777,\n",
       "           0.76877,     0.76977,     0.77077,     0.77177,     0.77277,     0.77377,     0.77477,     0.77578,     0.77678,     0.77778,     0.77878,     0.77978,     0.78078,     0.78178,     0.78278,     0.78378,     0.78478,     0.78579,     0.78679,     0.78779,     0.78879,     0.78979,     0.79079,     0.79179,\n",
       "           0.79279,     0.79379,     0.79479,      0.7958,      0.7968,      0.7978,      0.7988,      0.7998,      0.8008,      0.8018,      0.8028,      0.8038,      0.8048,     0.80581,     0.80681,     0.80781,     0.80881,     0.80981,     0.81081,     0.81181,     0.81281,     0.81381,     0.81481,     0.81582,\n",
       "           0.81682,     0.81782,     0.81882,     0.81982,     0.82082,     0.82182,     0.82282,     0.82382,     0.82482,     0.82583,     0.82683,     0.82783,     0.82883,     0.82983,     0.83083,     0.83183,     0.83283,     0.83383,     0.83483,     0.83584,     0.83684,     0.83784,     0.83884,     0.83984,\n",
       "           0.84084,     0.84184,     0.84284,     0.84384,     0.84484,     0.84585,     0.84685,     0.84785,     0.84885,     0.84985,     0.85085,     0.85185,     0.85285,     0.85385,     0.85485,     0.85586,     0.85686,     0.85786,     0.85886,     0.85986,     0.86086,     0.86186,     0.86286,     0.86386,\n",
       "           0.86486,     0.86587,     0.86687,     0.86787,     0.86887,     0.86987,     0.87087,     0.87187,     0.87287,     0.87387,     0.87487,     0.87588,     0.87688,     0.87788,     0.87888,     0.87988,     0.88088,     0.88188,     0.88288,     0.88388,     0.88488,     0.88589,     0.88689,     0.88789,\n",
       "           0.88889,     0.88989,     0.89089,     0.89189,     0.89289,     0.89389,     0.89489,      0.8959,      0.8969,      0.8979,      0.8989,      0.8999,      0.9009,      0.9019,      0.9029,      0.9039,      0.9049,     0.90591,     0.90691,     0.90791,     0.90891,     0.90991,     0.91091,     0.91191,\n",
       "           0.91291,     0.91391,     0.91491,     0.91592,     0.91692,     0.91792,     0.91892,     0.91992,     0.92092,     0.92192,     0.92292,     0.92392,     0.92492,     0.92593,     0.92693,     0.92793,     0.92893,     0.92993,     0.93093,     0.93193,     0.93293,     0.93393,     0.93493,     0.93594,\n",
       "           0.93694,     0.93794,     0.93894,     0.93994,     0.94094,     0.94194,     0.94294,     0.94394,     0.94494,     0.94595,     0.94695,     0.94795,     0.94895,     0.94995,     0.95095,     0.95195,     0.95295,     0.95395,     0.95495,     0.95596,     0.95696,     0.95796,     0.95896,     0.95996,\n",
       "           0.96096,     0.96196,     0.96296,     0.96396,     0.96496,     0.96597,     0.96697,     0.96797,     0.96897,     0.96997,     0.97097,     0.97197,     0.97297,     0.97397,     0.97497,     0.97598,     0.97698,     0.97798,     0.97898,     0.97998,     0.98098,     0.98198,     0.98298,     0.98398,\n",
       "           0.98498,     0.98599,     0.98699,     0.98799,     0.98899,     0.98999,     0.99099,     0.99199,     0.99299,     0.99399,     0.99499,       0.996,       0.997,       0.998,       0.999,           1]), array([[    0.83453,     0.83453,     0.88806,     0.90686,     0.91572,     0.92417,     0.93069,     0.93572,     0.94002,     0.94603,     0.94825,     0.95081,     0.95326,     0.95525,     0.95743,      0.9593,     0.96086,     0.96199,     0.96278,     0.96366,     0.96537,     0.96646,     0.96727,\n",
       "            0.96823,     0.96911,     0.96968,     0.97058,     0.97134,      0.9715,     0.97188,     0.97226,     0.97285,     0.97312,     0.97366,     0.97406,     0.97541,     0.97566,      0.9768,     0.97759,     0.97809,     0.97855,     0.97931,     0.97956,     0.97969,     0.97971,     0.97985,\n",
       "            0.97997,     0.98061,     0.98119,     0.98136,     0.98216,     0.98278,     0.98355,     0.98368,     0.98405,     0.98427,     0.98482,     0.98511,       0.985,     0.98548,     0.98565,     0.98594,     0.98611,     0.98633,     0.98677,     0.98699,     0.98735,     0.98739,     0.98744,\n",
       "            0.98748,     0.98752,     0.98756,      0.9879,     0.98814,     0.98829,     0.98867,     0.98905,     0.98929,     0.98936,     0.98942,     0.98948,     0.98979,     0.98989,     0.98998,     0.99011,     0.99023,     0.99062,     0.99089,     0.99136,     0.99148,     0.99156,     0.99163,\n",
       "            0.99169,      0.9917,     0.99171,     0.99173,     0.99174,     0.99175,     0.99177,     0.99178,     0.99179,      0.9918,     0.99182,     0.99183,     0.99184,     0.99186,     0.99187,     0.99188,     0.99189,     0.99191,     0.99192,     0.99197,     0.99203,     0.99209,     0.99215,\n",
       "            0.99218,      0.9922,     0.99222,     0.99223,     0.99225,     0.99227,     0.99228,      0.9923,     0.99232,     0.99234,     0.99235,     0.99237,     0.99239,      0.9924,     0.99244,     0.99249,     0.99254,     0.99259,     0.99264,     0.99291,     0.99292,     0.99294,     0.99295,\n",
       "            0.99297,     0.99298,       0.993,     0.99301,     0.99303,     0.99304,     0.99306,     0.99307,     0.99309,      0.9931,     0.99312,     0.99313,     0.99315,     0.99316,     0.99317,     0.99318,     0.99319,      0.9932,     0.99321,     0.99322,     0.99323,     0.99324,     0.99325,\n",
       "            0.99326,     0.99327,     0.99328,     0.99329,      0.9933,     0.99332,     0.99333,     0.99334,     0.99335,     0.99336,     0.99337,     0.99338,     0.99341,     0.99346,     0.99352,     0.99357,     0.99362,     0.99365,     0.99367,      0.9937,     0.99372,     0.99374,     0.99377,\n",
       "            0.99379,     0.99381,     0.99383,     0.99386,     0.99442,     0.99455,     0.99462,     0.99466,     0.99469,     0.99473,     0.99476,     0.99479,     0.99483,     0.99487,     0.99494,       0.995,     0.99507,      0.9951,     0.99511,     0.99512,     0.99513,     0.99515,     0.99516,\n",
       "            0.99517,     0.99518,     0.99519,      0.9952,     0.99522,     0.99523,     0.99524,     0.99525,     0.99526,     0.99528,     0.99529,      0.9953,     0.99531,     0.99532,     0.99533,     0.99538,     0.99543,     0.99548,     0.99554,     0.99558,     0.99559,     0.99559,      0.9956,\n",
       "            0.99561,     0.99561,     0.99562,     0.99563,     0.99563,     0.99564,     0.99565,     0.99565,     0.99566,     0.99567,     0.99567,     0.99568,     0.99569,     0.99569,      0.9957,     0.99571,     0.99571,     0.99572,     0.99573,     0.99573,     0.99574,     0.99575,     0.99575,\n",
       "            0.99576,     0.99577,     0.99577,     0.99578,     0.99579,     0.99579,      0.9958,     0.99581,     0.99581,     0.99582,     0.99582,     0.99583,     0.99583,     0.99583,     0.99583,     0.99583,     0.99583,     0.99583,     0.99583,     0.99583,     0.99583,     0.99583,     0.99583,\n",
       "            0.99583,     0.99583,     0.99584,     0.99584,     0.99584,     0.99584,     0.99584,     0.99584,     0.99584,     0.99584,     0.99584,     0.99584,     0.99584,     0.99584,     0.99584,     0.99585,     0.99585,     0.99585,     0.99585,     0.99585,     0.99585,     0.99585,     0.99585,\n",
       "            0.99585,     0.99585,     0.99585,     0.99585,     0.99585,     0.99585,     0.99586,     0.99586,     0.99586,     0.99586,     0.99586,     0.99586,     0.99586,     0.99586,     0.99586,     0.99586,     0.99586,     0.99586,     0.99586,     0.99587,     0.99587,     0.99587,     0.99587,\n",
       "            0.99587,     0.99587,     0.99587,     0.99587,     0.99587,     0.99587,     0.99587,     0.99587,     0.99587,     0.99587,     0.99588,     0.99588,     0.99588,     0.99588,     0.99588,     0.99588,     0.99588,     0.99588,     0.99588,     0.99588,     0.99588,     0.99588,     0.99588,\n",
       "            0.99589,     0.99589,     0.99589,     0.99589,     0.99589,     0.99589,     0.99589,     0.99589,     0.99589,     0.99589,     0.99589,     0.99589,     0.99589,     0.99589,      0.9959,      0.9959,      0.9959,      0.9959,      0.9959,      0.9959,      0.9959,      0.9959,      0.9959,\n",
       "             0.9959,      0.9959,      0.9959,      0.9959,     0.99591,     0.99591,     0.99591,     0.99591,     0.99591,     0.99591,     0.99591,     0.99591,     0.99591,     0.99591,     0.99591,     0.99591,     0.99591,     0.99591,     0.99592,     0.99592,     0.99592,     0.99592,     0.99592,\n",
       "            0.99592,     0.99592,     0.99592,     0.99592,     0.99592,     0.99592,     0.99592,     0.99592,     0.99593,     0.99593,     0.99593,     0.99593,     0.99593,     0.99593,     0.99593,     0.99593,     0.99593,     0.99593,     0.99593,     0.99593,     0.99593,     0.99593,     0.99594,\n",
       "            0.99594,     0.99594,     0.99594,     0.99594,     0.99594,     0.99594,     0.99594,     0.99594,     0.99594,     0.99594,     0.99594,     0.99594,     0.99595,     0.99595,     0.99595,     0.99595,     0.99595,     0.99595,     0.99595,     0.99595,     0.99595,     0.99595,     0.99595,\n",
       "            0.99595,     0.99595,     0.99595,     0.99596,     0.99596,     0.99596,     0.99596,     0.99596,     0.99596,     0.99596,     0.99596,     0.99596,     0.99596,     0.99596,     0.99596,     0.99596,     0.99597,     0.99597,     0.99597,     0.99597,     0.99597,     0.99597,     0.99597,\n",
       "            0.99597,     0.99597,     0.99597,     0.99597,     0.99597,     0.99597,     0.99597,     0.99598,     0.99598,     0.99598,     0.99598,     0.99598,     0.99598,     0.99598,     0.99598,     0.99598,     0.99598,     0.99598,     0.99598,     0.99598,     0.99599,     0.99599,     0.99599,\n",
       "            0.99599,     0.99599,     0.99599,     0.99599,     0.99599,     0.99599,     0.99599,     0.99599,     0.99599,     0.99599,     0.99599,       0.996,       0.996,       0.996,       0.996,       0.996,       0.996,       0.996,       0.996,       0.996,       0.996,       0.996,       0.996,\n",
       "              0.996,     0.99601,     0.99601,     0.99601,     0.99601,     0.99601,     0.99601,     0.99601,     0.99601,     0.99601,     0.99601,     0.99601,     0.99601,     0.99601,     0.99601,     0.99602,     0.99602,     0.99602,     0.99602,     0.99602,     0.99602,     0.99602,     0.99602,\n",
       "            0.99602,     0.99602,     0.99602,     0.99602,     0.99602,     0.99603,     0.99603,     0.99603,     0.99603,     0.99603,     0.99603,     0.99603,     0.99603,     0.99603,     0.99603,     0.99603,     0.99603,     0.99603,     0.99603,     0.99604,     0.99604,     0.99604,     0.99604,\n",
       "            0.99604,     0.99604,     0.99604,     0.99604,     0.99604,     0.99604,     0.99604,     0.99604,     0.99604,     0.99604,     0.99605,     0.99605,     0.99605,     0.99605,     0.99605,     0.99605,     0.99605,     0.99605,     0.99605,     0.99605,     0.99605,     0.99605,     0.99605,\n",
       "            0.99606,     0.99606,     0.99606,     0.99606,     0.99606,     0.99606,     0.99606,     0.99606,     0.99606,     0.99606,     0.99606,     0.99606,     0.99606,     0.99606,     0.99607,     0.99607,     0.99607,     0.99607,     0.99607,     0.99607,     0.99606,     0.99606,     0.99606,\n",
       "            0.99606,     0.99606,     0.99605,     0.99605,     0.99605,     0.99605,     0.99605,     0.99604,     0.99604,     0.99604,     0.99604,     0.99603,     0.99603,     0.99603,     0.99603,     0.99603,     0.99602,     0.99602,     0.99602,     0.99602,     0.99602,     0.99601,     0.99601,\n",
       "            0.99601,     0.99601,       0.996,       0.996,       0.996,       0.996,       0.996,     0.99599,     0.99599,     0.99599,     0.99599,     0.99598,     0.99598,     0.99598,     0.99598,     0.99598,     0.99597,     0.99597,     0.99597,     0.99597,     0.99597,     0.99596,     0.99596,\n",
       "            0.99596,     0.99596,     0.99595,     0.99595,     0.99595,     0.99595,     0.99595,     0.99594,     0.99594,     0.99594,     0.99594,     0.99594,     0.99593,     0.99593,     0.99593,     0.99593,     0.99592,     0.99592,     0.99592,     0.99592,     0.99592,     0.99591,     0.99591,\n",
       "            0.99591,     0.99591,      0.9959,      0.9959,      0.9959,      0.9959,      0.9959,     0.99589,     0.99589,     0.99589,     0.99589,     0.99589,     0.99588,     0.99588,     0.99588,     0.99588,     0.99587,     0.99587,     0.99587,     0.99587,     0.99587,     0.99586,     0.99586,\n",
       "            0.99586,     0.99586,     0.99586,     0.99585,     0.99585,     0.99585,     0.99585,     0.99584,     0.99584,     0.99584,     0.99584,     0.99584,     0.99583,     0.99583,     0.99583,     0.99583,     0.99582,     0.99582,     0.99573,     0.99561,     0.99557,     0.99555,     0.99554,\n",
       "            0.99553,     0.99552,     0.99551,      0.9955,     0.99548,     0.99547,     0.99546,     0.99545,     0.99544,     0.99543,     0.99541,      0.9954,     0.99539,     0.99538,     0.99537,     0.99535,     0.99534,     0.99533,     0.99532,      0.9953,     0.99529,     0.99528,     0.99526,\n",
       "            0.99525,     0.99524,     0.99522,     0.99521,     0.99519,     0.99518,     0.99517,     0.99515,     0.99514,     0.99513,     0.99511,      0.9951,     0.99508,     0.99507,     0.99506,     0.99505,     0.99504,     0.99503,     0.99502,     0.99501,       0.995,     0.99499,     0.99498,\n",
       "            0.99497,     0.99496,     0.99495,     0.99494,     0.99493,     0.99492,     0.99491,      0.9949,     0.99489,     0.99488,     0.99487,     0.99486,     0.99485,     0.99484,     0.99481,     0.99475,     0.99469,     0.99462,     0.99454,     0.99444,     0.99434,     0.99429,     0.99425,\n",
       "             0.9942,     0.99415,     0.99411,     0.99399,     0.99384,      0.9938,     0.99376,     0.99372,     0.99368,     0.99364,      0.9936,     0.99358,     0.99355,     0.99353,      0.9935,     0.99348,     0.99346,     0.99343,     0.99341,     0.99338,     0.99336,      0.9927,     0.99242,\n",
       "            0.99252,     0.99233,     0.99223,     0.99213,     0.99202,     0.99192,     0.99188,     0.99198,     0.99208,      0.9918,     0.99175,      0.9917,     0.99165,      0.9916,      0.9911,     0.99085,     0.99074,     0.99064,     0.99045,      0.9903,     0.99023,     0.99016,     0.99007,\n",
       "             0.9899,     0.98966,     0.98941,     0.98927,     0.98917,     0.98905,     0.98893,     0.98875,     0.98849,     0.98827,      0.9881,     0.98812,     0.98815,     0.98817,      0.9882,     0.98823,     0.98825,     0.98828,     0.98831,     0.98833,      0.9884,     0.98848,     0.98857,\n",
       "            0.98852,     0.98843,     0.98835,     0.98786,     0.98772,     0.98759,     0.98734,     0.98731,     0.98729,     0.98727,     0.98724,     0.98722,      0.9872,     0.98718,     0.98716,     0.98714,     0.98712,     0.98709,     0.98731,     0.98723,     0.98716,     0.98708,     0.98713,\n",
       "             0.9872,     0.98727,     0.98731,      0.9873,      0.9873,     0.98729,     0.98728,     0.98727,     0.98726,     0.98725,     0.98725,     0.98724,     0.98723,     0.98722,     0.98721,      0.9872,     0.98719,     0.98719,     0.98718,     0.98717,     0.98716,     0.98715,     0.98714,\n",
       "            0.98714,     0.98713,     0.98712,     0.98711,      0.9871,     0.98709,     0.98708,     0.98708,     0.98707,     0.98701,     0.98692,     0.98684,     0.98679,     0.98675,     0.98672,     0.98668,     0.98665,     0.98662,     0.98658,     0.98679,     0.98677,     0.98674,     0.98671,\n",
       "            0.98668,     0.98665,     0.98662,     0.98659,     0.98656,     0.98654,     0.98652,      0.9865,     0.98648,     0.98646,     0.98644,     0.98642,      0.9864,     0.98638,     0.98636,     0.98634,     0.98632,      0.9863,     0.98628,     0.98627,     0.98625,     0.98623,     0.98622,\n",
       "             0.9862,     0.98618,     0.98616,     0.98615,     0.98613,     0.98611,      0.9861,     0.98608,     0.98606,     0.98604,     0.98603,     0.98601,     0.98599,     0.98598,     0.98596,     0.98594,     0.98593,     0.98591,     0.98589,     0.98588,     0.98586,     0.98584,     0.98583,\n",
       "            0.98581,      0.9857,     0.97753,     0.96687,     0.96561,      0.9655,       0.965,     0.95703,     0.93852,     0.90214,     0.88467,     0.75196,     0.70467,     0.61376,     0.45655,     0.32847,     0.29482,     0.13713,    0.051467,           0,           0,           0,           0,\n",
       "                  0,           0,           0,           0,           0,           0,           0,           0,           0,           0,           0]]), 'Confidence', 'F1'], [array([          0,    0.001001,    0.002002,    0.003003,    0.004004,    0.005005,    0.006006,    0.007007,    0.008008,    0.009009,     0.01001,    0.011011,    0.012012,    0.013013,    0.014014,    0.015015,    0.016016,    0.017017,    0.018018,    0.019019,     0.02002,    0.021021,    0.022022,    0.023023,\n",
       "          0.024024,    0.025025,    0.026026,    0.027027,    0.028028,    0.029029,     0.03003,    0.031031,    0.032032,    0.033033,    0.034034,    0.035035,    0.036036,    0.037037,    0.038038,    0.039039,     0.04004,    0.041041,    0.042042,    0.043043,    0.044044,    0.045045,    0.046046,    0.047047,\n",
       "          0.048048,    0.049049,     0.05005,    0.051051,    0.052052,    0.053053,    0.054054,    0.055055,    0.056056,    0.057057,    0.058058,    0.059059,     0.06006,    0.061061,    0.062062,    0.063063,    0.064064,    0.065065,    0.066066,    0.067067,    0.068068,    0.069069,     0.07007,    0.071071,\n",
       "          0.072072,    0.073073,    0.074074,    0.075075,    0.076076,    0.077077,    0.078078,    0.079079,     0.08008,    0.081081,    0.082082,    0.083083,    0.084084,    0.085085,    0.086086,    0.087087,    0.088088,    0.089089,     0.09009,    0.091091,    0.092092,    0.093093,    0.094094,    0.095095,\n",
       "          0.096096,    0.097097,    0.098098,    0.099099,      0.1001,      0.1011,      0.1021,      0.1031,      0.1041,     0.10511,     0.10611,     0.10711,     0.10811,     0.10911,     0.11011,     0.11111,     0.11211,     0.11311,     0.11411,     0.11512,     0.11612,     0.11712,     0.11812,     0.11912,\n",
       "           0.12012,     0.12112,     0.12212,     0.12312,     0.12412,     0.12513,     0.12613,     0.12713,     0.12813,     0.12913,     0.13013,     0.13113,     0.13213,     0.13313,     0.13413,     0.13514,     0.13614,     0.13714,     0.13814,     0.13914,     0.14014,     0.14114,     0.14214,     0.14314,\n",
       "           0.14414,     0.14515,     0.14615,     0.14715,     0.14815,     0.14915,     0.15015,     0.15115,     0.15215,     0.15315,     0.15415,     0.15516,     0.15616,     0.15716,     0.15816,     0.15916,     0.16016,     0.16116,     0.16216,     0.16316,     0.16416,     0.16517,     0.16617,     0.16717,\n",
       "           0.16817,     0.16917,     0.17017,     0.17117,     0.17217,     0.17317,     0.17417,     0.17518,     0.17618,     0.17718,     0.17818,     0.17918,     0.18018,     0.18118,     0.18218,     0.18318,     0.18418,     0.18519,     0.18619,     0.18719,     0.18819,     0.18919,     0.19019,     0.19119,\n",
       "           0.19219,     0.19319,     0.19419,      0.1952,      0.1962,      0.1972,      0.1982,      0.1992,      0.2002,      0.2012,      0.2022,      0.2032,      0.2042,     0.20521,     0.20621,     0.20721,     0.20821,     0.20921,     0.21021,     0.21121,     0.21221,     0.21321,     0.21421,     0.21522,\n",
       "           0.21622,     0.21722,     0.21822,     0.21922,     0.22022,     0.22122,     0.22222,     0.22322,     0.22422,     0.22523,     0.22623,     0.22723,     0.22823,     0.22923,     0.23023,     0.23123,     0.23223,     0.23323,     0.23423,     0.23524,     0.23624,     0.23724,     0.23824,     0.23924,\n",
       "           0.24024,     0.24124,     0.24224,     0.24324,     0.24424,     0.24525,     0.24625,     0.24725,     0.24825,     0.24925,     0.25025,     0.25125,     0.25225,     0.25325,     0.25425,     0.25526,     0.25626,     0.25726,     0.25826,     0.25926,     0.26026,     0.26126,     0.26226,     0.26326,\n",
       "           0.26426,     0.26527,     0.26627,     0.26727,     0.26827,     0.26927,     0.27027,     0.27127,     0.27227,     0.27327,     0.27427,     0.27528,     0.27628,     0.27728,     0.27828,     0.27928,     0.28028,     0.28128,     0.28228,     0.28328,     0.28428,     0.28529,     0.28629,     0.28729,\n",
       "           0.28829,     0.28929,     0.29029,     0.29129,     0.29229,     0.29329,     0.29429,      0.2953,      0.2963,      0.2973,      0.2983,      0.2993,      0.3003,      0.3013,      0.3023,      0.3033,      0.3043,     0.30531,     0.30631,     0.30731,     0.30831,     0.30931,     0.31031,     0.31131,\n",
       "           0.31231,     0.31331,     0.31431,     0.31532,     0.31632,     0.31732,     0.31832,     0.31932,     0.32032,     0.32132,     0.32232,     0.32332,     0.32432,     0.32533,     0.32633,     0.32733,     0.32833,     0.32933,     0.33033,     0.33133,     0.33233,     0.33333,     0.33433,     0.33534,\n",
       "           0.33634,     0.33734,     0.33834,     0.33934,     0.34034,     0.34134,     0.34234,     0.34334,     0.34434,     0.34535,     0.34635,     0.34735,     0.34835,     0.34935,     0.35035,     0.35135,     0.35235,     0.35335,     0.35435,     0.35536,     0.35636,     0.35736,     0.35836,     0.35936,\n",
       "           0.36036,     0.36136,     0.36236,     0.36336,     0.36436,     0.36537,     0.36637,     0.36737,     0.36837,     0.36937,     0.37037,     0.37137,     0.37237,     0.37337,     0.37437,     0.37538,     0.37638,     0.37738,     0.37838,     0.37938,     0.38038,     0.38138,     0.38238,     0.38338,\n",
       "           0.38438,     0.38539,     0.38639,     0.38739,     0.38839,     0.38939,     0.39039,     0.39139,     0.39239,     0.39339,     0.39439,      0.3954,      0.3964,      0.3974,      0.3984,      0.3994,      0.4004,      0.4014,      0.4024,      0.4034,      0.4044,     0.40541,     0.40641,     0.40741,\n",
       "           0.40841,     0.40941,     0.41041,     0.41141,     0.41241,     0.41341,     0.41441,     0.41542,     0.41642,     0.41742,     0.41842,     0.41942,     0.42042,     0.42142,     0.42242,     0.42342,     0.42442,     0.42543,     0.42643,     0.42743,     0.42843,     0.42943,     0.43043,     0.43143,\n",
       "           0.43243,     0.43343,     0.43443,     0.43544,     0.43644,     0.43744,     0.43844,     0.43944,     0.44044,     0.44144,     0.44244,     0.44344,     0.44444,     0.44545,     0.44645,     0.44745,     0.44845,     0.44945,     0.45045,     0.45145,     0.45245,     0.45345,     0.45445,     0.45546,\n",
       "           0.45646,     0.45746,     0.45846,     0.45946,     0.46046,     0.46146,     0.46246,     0.46346,     0.46446,     0.46547,     0.46647,     0.46747,     0.46847,     0.46947,     0.47047,     0.47147,     0.47247,     0.47347,     0.47447,     0.47548,     0.47648,     0.47748,     0.47848,     0.47948,\n",
       "           0.48048,     0.48148,     0.48248,     0.48348,     0.48448,     0.48549,     0.48649,     0.48749,     0.48849,     0.48949,     0.49049,     0.49149,     0.49249,     0.49349,     0.49449,      0.4955,      0.4965,      0.4975,      0.4985,      0.4995,      0.5005,      0.5015,      0.5025,      0.5035,\n",
       "            0.5045,     0.50551,     0.50651,     0.50751,     0.50851,     0.50951,     0.51051,     0.51151,     0.51251,     0.51351,     0.51451,     0.51552,     0.51652,     0.51752,     0.51852,     0.51952,     0.52052,     0.52152,     0.52252,     0.52352,     0.52452,     0.52553,     0.52653,     0.52753,\n",
       "           0.52853,     0.52953,     0.53053,     0.53153,     0.53253,     0.53353,     0.53453,     0.53554,     0.53654,     0.53754,     0.53854,     0.53954,     0.54054,     0.54154,     0.54254,     0.54354,     0.54454,     0.54555,     0.54655,     0.54755,     0.54855,     0.54955,     0.55055,     0.55155,\n",
       "           0.55255,     0.55355,     0.55455,     0.55556,     0.55656,     0.55756,     0.55856,     0.55956,     0.56056,     0.56156,     0.56256,     0.56356,     0.56456,     0.56557,     0.56657,     0.56757,     0.56857,     0.56957,     0.57057,     0.57157,     0.57257,     0.57357,     0.57457,     0.57558,\n",
       "           0.57658,     0.57758,     0.57858,     0.57958,     0.58058,     0.58158,     0.58258,     0.58358,     0.58458,     0.58559,     0.58659,     0.58759,     0.58859,     0.58959,     0.59059,     0.59159,     0.59259,     0.59359,     0.59459,      0.5956,      0.5966,      0.5976,      0.5986,      0.5996,\n",
       "            0.6006,      0.6016,      0.6026,      0.6036,      0.6046,     0.60561,     0.60661,     0.60761,     0.60861,     0.60961,     0.61061,     0.61161,     0.61261,     0.61361,     0.61461,     0.61562,     0.61662,     0.61762,     0.61862,     0.61962,     0.62062,     0.62162,     0.62262,     0.62362,\n",
       "           0.62462,     0.62563,     0.62663,     0.62763,     0.62863,     0.62963,     0.63063,     0.63163,     0.63263,     0.63363,     0.63463,     0.63564,     0.63664,     0.63764,     0.63864,     0.63964,     0.64064,     0.64164,     0.64264,     0.64364,     0.64464,     0.64565,     0.64665,     0.64765,\n",
       "           0.64865,     0.64965,     0.65065,     0.65165,     0.65265,     0.65365,     0.65465,     0.65566,     0.65666,     0.65766,     0.65866,     0.65966,     0.66066,     0.66166,     0.66266,     0.66366,     0.66466,     0.66567,     0.66667,     0.66767,     0.66867,     0.66967,     0.67067,     0.67167,\n",
       "           0.67267,     0.67367,     0.67467,     0.67568,     0.67668,     0.67768,     0.67868,     0.67968,     0.68068,     0.68168,     0.68268,     0.68368,     0.68468,     0.68569,     0.68669,     0.68769,     0.68869,     0.68969,     0.69069,     0.69169,     0.69269,     0.69369,     0.69469,      0.6957,\n",
       "            0.6967,      0.6977,      0.6987,      0.6997,      0.7007,      0.7017,      0.7027,      0.7037,      0.7047,     0.70571,     0.70671,     0.70771,     0.70871,     0.70971,     0.71071,     0.71171,     0.71271,     0.71371,     0.71471,     0.71572,     0.71672,     0.71772,     0.71872,     0.71972,\n",
       "           0.72072,     0.72172,     0.72272,     0.72372,     0.72472,     0.72573,     0.72673,     0.72773,     0.72873,     0.72973,     0.73073,     0.73173,     0.73273,     0.73373,     0.73473,     0.73574,     0.73674,     0.73774,     0.73874,     0.73974,     0.74074,     0.74174,     0.74274,     0.74374,\n",
       "           0.74474,     0.74575,     0.74675,     0.74775,     0.74875,     0.74975,     0.75075,     0.75175,     0.75275,     0.75375,     0.75475,     0.75576,     0.75676,     0.75776,     0.75876,     0.75976,     0.76076,     0.76176,     0.76276,     0.76376,     0.76476,     0.76577,     0.76677,     0.76777,\n",
       "           0.76877,     0.76977,     0.77077,     0.77177,     0.77277,     0.77377,     0.77477,     0.77578,     0.77678,     0.77778,     0.77878,     0.77978,     0.78078,     0.78178,     0.78278,     0.78378,     0.78478,     0.78579,     0.78679,     0.78779,     0.78879,     0.78979,     0.79079,     0.79179,\n",
       "           0.79279,     0.79379,     0.79479,      0.7958,      0.7968,      0.7978,      0.7988,      0.7998,      0.8008,      0.8018,      0.8028,      0.8038,      0.8048,     0.80581,     0.80681,     0.80781,     0.80881,     0.80981,     0.81081,     0.81181,     0.81281,     0.81381,     0.81481,     0.81582,\n",
       "           0.81682,     0.81782,     0.81882,     0.81982,     0.82082,     0.82182,     0.82282,     0.82382,     0.82482,     0.82583,     0.82683,     0.82783,     0.82883,     0.82983,     0.83083,     0.83183,     0.83283,     0.83383,     0.83483,     0.83584,     0.83684,     0.83784,     0.83884,     0.83984,\n",
       "           0.84084,     0.84184,     0.84284,     0.84384,     0.84484,     0.84585,     0.84685,     0.84785,     0.84885,     0.84985,     0.85085,     0.85185,     0.85285,     0.85385,     0.85485,     0.85586,     0.85686,     0.85786,     0.85886,     0.85986,     0.86086,     0.86186,     0.86286,     0.86386,\n",
       "           0.86486,     0.86587,     0.86687,     0.86787,     0.86887,     0.86987,     0.87087,     0.87187,     0.87287,     0.87387,     0.87487,     0.87588,     0.87688,     0.87788,     0.87888,     0.87988,     0.88088,     0.88188,     0.88288,     0.88388,     0.88488,     0.88589,     0.88689,     0.88789,\n",
       "           0.88889,     0.88989,     0.89089,     0.89189,     0.89289,     0.89389,     0.89489,      0.8959,      0.8969,      0.8979,      0.8989,      0.8999,      0.9009,      0.9019,      0.9029,      0.9039,      0.9049,     0.90591,     0.90691,     0.90791,     0.90891,     0.90991,     0.91091,     0.91191,\n",
       "           0.91291,     0.91391,     0.91491,     0.91592,     0.91692,     0.91792,     0.91892,     0.91992,     0.92092,     0.92192,     0.92292,     0.92392,     0.92492,     0.92593,     0.92693,     0.92793,     0.92893,     0.92993,     0.93093,     0.93193,     0.93293,     0.93393,     0.93493,     0.93594,\n",
       "           0.93694,     0.93794,     0.93894,     0.93994,     0.94094,     0.94194,     0.94294,     0.94394,     0.94494,     0.94595,     0.94695,     0.94795,     0.94895,     0.94995,     0.95095,     0.95195,     0.95295,     0.95395,     0.95495,     0.95596,     0.95696,     0.95796,     0.95896,     0.95996,\n",
       "           0.96096,     0.96196,     0.96296,     0.96396,     0.96496,     0.96597,     0.96697,     0.96797,     0.96897,     0.96997,     0.97097,     0.97197,     0.97297,     0.97397,     0.97497,     0.97598,     0.97698,     0.97798,     0.97898,     0.97998,     0.98098,     0.98198,     0.98298,     0.98398,\n",
       "           0.98498,     0.98599,     0.98699,     0.98799,     0.98899,     0.98999,     0.99099,     0.99199,     0.99299,     0.99399,     0.99499,       0.996,       0.997,       0.998,       0.999,           1]), array([[    0.71605,     0.71605,     0.79866,     0.82959,     0.84489,     0.85939,     0.87073,     0.87959,     0.88722,     0.89799,       0.902,     0.90664,      0.9111,     0.91475,     0.91875,      0.9222,     0.92508,     0.92718,     0.92865,     0.93029,     0.93348,     0.93553,     0.93747,\n",
       "            0.93928,     0.94094,     0.94202,     0.94372,     0.94515,     0.94545,     0.94617,     0.94689,     0.94802,     0.94853,     0.94957,     0.95032,     0.95335,     0.95381,     0.95599,     0.95751,     0.95847,     0.95937,     0.96081,     0.96131,     0.96166,     0.96204,     0.96232,\n",
       "            0.96254,     0.96379,     0.96537,     0.96569,     0.96724,     0.96844,      0.9704,     0.97067,     0.97138,     0.97181,     0.97335,     0.97392,     0.97405,     0.97512,     0.97545,     0.97602,     0.97634,     0.97679,     0.97764,     0.97807,     0.97878,     0.97887,     0.97895,\n",
       "            0.97903,     0.97912,      0.9792,     0.97987,     0.98034,     0.98064,     0.98139,     0.98214,      0.9826,     0.98273,     0.98286,     0.98299,     0.98359,     0.98378,     0.98397,     0.98421,     0.98446,     0.98523,     0.98576,     0.98669,     0.98694,     0.98709,     0.98724,\n",
       "            0.98734,     0.98737,      0.9874,     0.98742,     0.98745,     0.98747,      0.9875,     0.98752,     0.98755,     0.98758,      0.9876,     0.98763,     0.98765,     0.98768,      0.9877,     0.98773,     0.98776,     0.98778,     0.98781,      0.9879,     0.98802,     0.98814,     0.98827,\n",
       "            0.98832,     0.98836,     0.98839,     0.98843,     0.98846,     0.98849,     0.98853,     0.98856,      0.9886,     0.98863,     0.98866,      0.9887,     0.98873,     0.98877,     0.98884,     0.98894,     0.98904,     0.98914,     0.98923,     0.98977,      0.9898,     0.98983,     0.98986,\n",
       "            0.98989,     0.98992,     0.98995,     0.98998,     0.99001,     0.99004,     0.99007,      0.9901,     0.99013,     0.99016,     0.99019,     0.99022,     0.99024,     0.99026,     0.99028,     0.99031,     0.99033,     0.99035,     0.99037,     0.99039,     0.99041,     0.99043,     0.99045,\n",
       "            0.99047,     0.99049,     0.99051,     0.99053,     0.99056,     0.99058,      0.9906,     0.99062,     0.99064,     0.99066,     0.99068,      0.9907,     0.99076,     0.99087,     0.99098,     0.99108,     0.99119,     0.99124,     0.99129,     0.99133,     0.99138,     0.99143,     0.99147,\n",
       "            0.99152,     0.99156,     0.99161,     0.99166,     0.99277,     0.99304,     0.99318,     0.99325,     0.99332,     0.99339,     0.99345,     0.99352,     0.99359,     0.99368,     0.99381,     0.99394,     0.99407,     0.99413,     0.99415,     0.99418,      0.9942,     0.99422,     0.99425,\n",
       "            0.99427,     0.99429,     0.99432,     0.99434,     0.99437,     0.99439,     0.99441,     0.99444,     0.99446,     0.99448,     0.99451,     0.99453,     0.99455,     0.99458,      0.9946,      0.9947,      0.9948,      0.9949,       0.995,     0.99509,     0.99511,     0.99512,     0.99513,\n",
       "            0.99515,     0.99516,     0.99517,     0.99519,      0.9952,     0.99521,     0.99523,     0.99524,     0.99525,     0.99527,     0.99528,     0.99529,     0.99531,     0.99532,     0.99533,     0.99534,     0.99536,     0.99537,     0.99538,      0.9954,     0.99541,     0.99542,     0.99544,\n",
       "            0.99545,     0.99546,     0.99548,     0.99549,      0.9955,     0.99552,     0.99553,     0.99554,     0.99556,     0.99557,     0.99558,     0.99558,     0.99558,     0.99558,     0.99559,     0.99559,     0.99559,     0.99559,     0.99559,     0.99559,     0.99559,      0.9956,      0.9956,\n",
       "             0.9956,      0.9956,      0.9956,      0.9956,     0.99561,     0.99561,     0.99561,     0.99561,     0.99561,     0.99561,     0.99561,     0.99562,     0.99562,     0.99562,     0.99562,     0.99562,     0.99562,     0.99562,     0.99563,     0.99563,     0.99563,     0.99563,     0.99563,\n",
       "            0.99563,     0.99563,     0.99564,     0.99564,     0.99564,     0.99564,     0.99564,     0.99564,     0.99565,     0.99565,     0.99565,     0.99565,     0.99565,     0.99565,     0.99565,     0.99566,     0.99566,     0.99566,     0.99566,     0.99566,     0.99566,     0.99566,     0.99567,\n",
       "            0.99567,     0.99567,     0.99567,     0.99567,     0.99567,     0.99567,     0.99568,     0.99568,     0.99568,     0.99568,     0.99568,     0.99568,     0.99569,     0.99569,     0.99569,     0.99569,     0.99569,     0.99569,     0.99569,      0.9957,      0.9957,      0.9957,      0.9957,\n",
       "             0.9957,      0.9957,      0.9957,     0.99571,     0.99571,     0.99571,     0.99571,     0.99571,     0.99571,     0.99571,     0.99572,     0.99572,     0.99572,     0.99572,     0.99572,     0.99572,     0.99573,     0.99573,     0.99573,     0.99573,     0.99573,     0.99573,     0.99573,\n",
       "            0.99574,     0.99574,     0.99574,     0.99574,     0.99574,     0.99574,     0.99574,     0.99575,     0.99575,     0.99575,     0.99575,     0.99575,     0.99575,     0.99575,     0.99576,     0.99576,     0.99576,     0.99576,     0.99576,     0.99576,     0.99577,     0.99577,     0.99577,\n",
       "            0.99577,     0.99577,     0.99577,     0.99577,     0.99578,     0.99578,     0.99578,     0.99578,     0.99578,     0.99578,     0.99578,     0.99579,     0.99579,     0.99579,     0.99579,     0.99579,     0.99579,     0.99579,      0.9958,      0.9958,      0.9958,      0.9958,      0.9958,\n",
       "             0.9958,     0.99581,     0.99581,     0.99581,     0.99581,     0.99581,     0.99581,     0.99581,     0.99582,     0.99582,     0.99582,     0.99582,     0.99582,     0.99582,     0.99582,     0.99583,     0.99583,     0.99583,     0.99583,     0.99583,     0.99583,     0.99583,     0.99584,\n",
       "            0.99584,     0.99584,     0.99584,     0.99584,     0.99584,     0.99585,     0.99585,     0.99585,     0.99585,     0.99585,     0.99585,     0.99585,     0.99586,     0.99586,     0.99586,     0.99586,     0.99586,     0.99586,     0.99586,     0.99587,     0.99587,     0.99587,     0.99587,\n",
       "            0.99587,     0.99587,     0.99587,     0.99588,     0.99588,     0.99588,     0.99588,     0.99588,     0.99588,     0.99589,     0.99589,     0.99589,     0.99589,     0.99589,     0.99589,     0.99589,      0.9959,      0.9959,      0.9959,      0.9959,      0.9959,      0.9959,      0.9959,\n",
       "            0.99591,     0.99591,     0.99591,     0.99591,     0.99591,     0.99591,     0.99591,     0.99592,     0.99592,     0.99592,     0.99592,     0.99592,     0.99592,     0.99592,     0.99593,     0.99593,     0.99593,     0.99593,     0.99593,     0.99593,     0.99594,     0.99594,     0.99594,\n",
       "            0.99594,     0.99594,     0.99594,     0.99594,     0.99595,     0.99595,     0.99595,     0.99595,     0.99595,     0.99595,     0.99595,     0.99596,     0.99596,     0.99596,     0.99596,     0.99596,     0.99596,     0.99596,     0.99597,     0.99597,     0.99597,     0.99597,     0.99597,\n",
       "            0.99597,     0.99598,     0.99598,     0.99598,     0.99598,     0.99598,     0.99598,     0.99598,     0.99599,     0.99599,     0.99599,     0.99599,     0.99599,     0.99599,     0.99599,       0.996,       0.996,       0.996,       0.996,       0.996,       0.996,       0.996,     0.99601,\n",
       "            0.99601,     0.99601,     0.99601,     0.99601,     0.99601,     0.99602,     0.99602,     0.99602,     0.99602,     0.99602,     0.99602,     0.99602,     0.99603,     0.99603,     0.99603,     0.99603,     0.99603,     0.99603,     0.99603,     0.99604,     0.99604,     0.99604,     0.99604,\n",
       "            0.99604,     0.99604,     0.99604,     0.99605,     0.99605,     0.99605,     0.99605,     0.99605,     0.99605,     0.99606,     0.99606,     0.99606,     0.99606,     0.99606,     0.99606,     0.99606,     0.99607,     0.99607,     0.99607,     0.99607,     0.99607,     0.99607,     0.99607,\n",
       "            0.99607,     0.99607,     0.99607,     0.99607,     0.99607,     0.99607,     0.99607,     0.99607,     0.99607,     0.99607,     0.99607,     0.99607,     0.99607,     0.99607,     0.99607,     0.99607,     0.99607,     0.99607,     0.99607,     0.99607,     0.99607,     0.99607,     0.99607,\n",
       "            0.99607,     0.99607,     0.99607,     0.99607,     0.99607,     0.99607,     0.99607,     0.99607,     0.99607,     0.99607,     0.99607,     0.99607,     0.99607,     0.99607,     0.99607,     0.99607,     0.99607,     0.99607,     0.99607,     0.99607,     0.99607,     0.99607,     0.99607,\n",
       "            0.99607,     0.99607,     0.99607,     0.99607,     0.99607,     0.99607,     0.99607,     0.99607,     0.99607,     0.99607,     0.99607,     0.99607,     0.99607,     0.99607,     0.99607,     0.99607,     0.99607,     0.99607,     0.99607,     0.99607,     0.99607,     0.99607,     0.99607,\n",
       "            0.99607,     0.99607,     0.99607,     0.99607,     0.99607,     0.99607,     0.99607,     0.99607,     0.99607,     0.99607,     0.99607,     0.99607,     0.99607,     0.99607,     0.99607,     0.99607,     0.99607,     0.99607,     0.99607,     0.99607,     0.99607,     0.99607,     0.99607,\n",
       "            0.99607,     0.99607,     0.99607,     0.99607,     0.99607,     0.99607,     0.99607,     0.99607,     0.99607,     0.99607,     0.99607,     0.99607,     0.99607,     0.99607,     0.99607,     0.99607,     0.99607,     0.99607,     0.99607,     0.99607,     0.99606,     0.99606,     0.99606,\n",
       "            0.99606,     0.99606,     0.99606,     0.99606,     0.99606,     0.99606,     0.99606,     0.99606,     0.99606,     0.99606,     0.99606,     0.99606,     0.99606,     0.99606,     0.99606,     0.99606,     0.99606,     0.99606,     0.99606,     0.99606,     0.99606,     0.99606,     0.99606,\n",
       "            0.99606,     0.99606,     0.99606,     0.99606,     0.99606,     0.99606,     0.99606,     0.99606,     0.99606,     0.99606,     0.99606,     0.99606,     0.99606,     0.99606,     0.99606,     0.99606,     0.99606,     0.99606,     0.99606,     0.99606,     0.99606,     0.99606,     0.99606,\n",
       "            0.99606,     0.99606,     0.99606,     0.99606,     0.99606,     0.99606,     0.99606,     0.99606,     0.99606,     0.99606,     0.99606,     0.99606,     0.99606,     0.99606,     0.99606,     0.99606,     0.99606,     0.99606,     0.99606,     0.99606,     0.99606,     0.99605,     0.99605,\n",
       "            0.99605,     0.99605,     0.99605,     0.99605,     0.99605,     0.99605,     0.99605,     0.99605,     0.99605,     0.99605,     0.99605,     0.99605,     0.99605,     0.99605,     0.99605,     0.99605,     0.99605,     0.99605,     0.99605,     0.99605,     0.99605,     0.99604,     0.99616,\n",
       "            0.99636,     0.99702,     0.99702,     0.99702,     0.99702,     0.99702,     0.99708,     0.99728,     0.99749,     0.99751,     0.99751,     0.99751,     0.99751,     0.99751,     0.99751,     0.99751,     0.99751,     0.99751,     0.99751,     0.99751,     0.99751,     0.99751,     0.99751,\n",
       "            0.99751,      0.9975,      0.9975,      0.9975,      0.9975,      0.9975,      0.9975,      0.9975,      0.9975,      0.9975,      0.9975,     0.99755,      0.9976,     0.99766,     0.99771,     0.99776,     0.99782,     0.99787,     0.99793,     0.99798,     0.99812,     0.99829,     0.99846,\n",
       "             0.9985,      0.9985,      0.9985,     0.99849,     0.99849,     0.99849,     0.99849,     0.99849,     0.99849,     0.99849,     0.99849,     0.99849,     0.99849,     0.99849,     0.99849,     0.99849,     0.99849,     0.99849,     0.99899,     0.99899,     0.99899,     0.99899,     0.99912,\n",
       "            0.99926,     0.99941,      0.9995,      0.9995,      0.9995,      0.9995,      0.9995,      0.9995,      0.9995,      0.9995,      0.9995,      0.9995,      0.9995,      0.9995,      0.9995,      0.9995,      0.9995,      0.9995,      0.9995,      0.9995,      0.9995,      0.9995,      0.9995,\n",
       "             0.9995,      0.9995,      0.9995,      0.9995,      0.9995,      0.9995,      0.9995,      0.9995,      0.9995,      0.9995,      0.9995,      0.9995,      0.9995,      0.9995,      0.9995,      0.9995,      0.9995,      0.9995,      0.9995,           1,           1,           1,           1,\n",
       "                  1,           1,           1,           1,           1,           1,           1,           1,           1,           1,           1,           1,           1,           1,           1,           1,           1,           1,           1,           1,           1,           1,           1,\n",
       "                  1,           1,           1,           1,           1,           1,           1,           1,           1,           1,           1,           1,           1,           1,           1,           1,           1,           1,           1,           1,           1,           1,           1,\n",
       "                  1,           1,           1,           1,           1,           1,           1,           1,           1,           1,           1,           1,           1,           1,           1,           1,           1,           1,           1,           1,           1,           1,           1,\n",
       "                  1,           1,           1,           1,           1,           1,           1,           1,           1,           1,           1]]), 'Confidence', 'Precision'], [array([          0,    0.001001,    0.002002,    0.003003,    0.004004,    0.005005,    0.006006,    0.007007,    0.008008,    0.009009,     0.01001,    0.011011,    0.012012,    0.013013,    0.014014,    0.015015,    0.016016,    0.017017,    0.018018,    0.019019,     0.02002,    0.021021,    0.022022,    0.023023,\n",
       "          0.024024,    0.025025,    0.026026,    0.027027,    0.028028,    0.029029,     0.03003,    0.031031,    0.032032,    0.033033,    0.034034,    0.035035,    0.036036,    0.037037,    0.038038,    0.039039,     0.04004,    0.041041,    0.042042,    0.043043,    0.044044,    0.045045,    0.046046,    0.047047,\n",
       "          0.048048,    0.049049,     0.05005,    0.051051,    0.052052,    0.053053,    0.054054,    0.055055,    0.056056,    0.057057,    0.058058,    0.059059,     0.06006,    0.061061,    0.062062,    0.063063,    0.064064,    0.065065,    0.066066,    0.067067,    0.068068,    0.069069,     0.07007,    0.071071,\n",
       "          0.072072,    0.073073,    0.074074,    0.075075,    0.076076,    0.077077,    0.078078,    0.079079,     0.08008,    0.081081,    0.082082,    0.083083,    0.084084,    0.085085,    0.086086,    0.087087,    0.088088,    0.089089,     0.09009,    0.091091,    0.092092,    0.093093,    0.094094,    0.095095,\n",
       "          0.096096,    0.097097,    0.098098,    0.099099,      0.1001,      0.1011,      0.1021,      0.1031,      0.1041,     0.10511,     0.10611,     0.10711,     0.10811,     0.10911,     0.11011,     0.11111,     0.11211,     0.11311,     0.11411,     0.11512,     0.11612,     0.11712,     0.11812,     0.11912,\n",
       "           0.12012,     0.12112,     0.12212,     0.12312,     0.12412,     0.12513,     0.12613,     0.12713,     0.12813,     0.12913,     0.13013,     0.13113,     0.13213,     0.13313,     0.13413,     0.13514,     0.13614,     0.13714,     0.13814,     0.13914,     0.14014,     0.14114,     0.14214,     0.14314,\n",
       "           0.14414,     0.14515,     0.14615,     0.14715,     0.14815,     0.14915,     0.15015,     0.15115,     0.15215,     0.15315,     0.15415,     0.15516,     0.15616,     0.15716,     0.15816,     0.15916,     0.16016,     0.16116,     0.16216,     0.16316,     0.16416,     0.16517,     0.16617,     0.16717,\n",
       "           0.16817,     0.16917,     0.17017,     0.17117,     0.17217,     0.17317,     0.17417,     0.17518,     0.17618,     0.17718,     0.17818,     0.17918,     0.18018,     0.18118,     0.18218,     0.18318,     0.18418,     0.18519,     0.18619,     0.18719,     0.18819,     0.18919,     0.19019,     0.19119,\n",
       "           0.19219,     0.19319,     0.19419,      0.1952,      0.1962,      0.1972,      0.1982,      0.1992,      0.2002,      0.2012,      0.2022,      0.2032,      0.2042,     0.20521,     0.20621,     0.20721,     0.20821,     0.20921,     0.21021,     0.21121,     0.21221,     0.21321,     0.21421,     0.21522,\n",
       "           0.21622,     0.21722,     0.21822,     0.21922,     0.22022,     0.22122,     0.22222,     0.22322,     0.22422,     0.22523,     0.22623,     0.22723,     0.22823,     0.22923,     0.23023,     0.23123,     0.23223,     0.23323,     0.23423,     0.23524,     0.23624,     0.23724,     0.23824,     0.23924,\n",
       "           0.24024,     0.24124,     0.24224,     0.24324,     0.24424,     0.24525,     0.24625,     0.24725,     0.24825,     0.24925,     0.25025,     0.25125,     0.25225,     0.25325,     0.25425,     0.25526,     0.25626,     0.25726,     0.25826,     0.25926,     0.26026,     0.26126,     0.26226,     0.26326,\n",
       "           0.26426,     0.26527,     0.26627,     0.26727,     0.26827,     0.26927,     0.27027,     0.27127,     0.27227,     0.27327,     0.27427,     0.27528,     0.27628,     0.27728,     0.27828,     0.27928,     0.28028,     0.28128,     0.28228,     0.28328,     0.28428,     0.28529,     0.28629,     0.28729,\n",
       "           0.28829,     0.28929,     0.29029,     0.29129,     0.29229,     0.29329,     0.29429,      0.2953,      0.2963,      0.2973,      0.2983,      0.2993,      0.3003,      0.3013,      0.3023,      0.3033,      0.3043,     0.30531,     0.30631,     0.30731,     0.30831,     0.30931,     0.31031,     0.31131,\n",
       "           0.31231,     0.31331,     0.31431,     0.31532,     0.31632,     0.31732,     0.31832,     0.31932,     0.32032,     0.32132,     0.32232,     0.32332,     0.32432,     0.32533,     0.32633,     0.32733,     0.32833,     0.32933,     0.33033,     0.33133,     0.33233,     0.33333,     0.33433,     0.33534,\n",
       "           0.33634,     0.33734,     0.33834,     0.33934,     0.34034,     0.34134,     0.34234,     0.34334,     0.34434,     0.34535,     0.34635,     0.34735,     0.34835,     0.34935,     0.35035,     0.35135,     0.35235,     0.35335,     0.35435,     0.35536,     0.35636,     0.35736,     0.35836,     0.35936,\n",
       "           0.36036,     0.36136,     0.36236,     0.36336,     0.36436,     0.36537,     0.36637,     0.36737,     0.36837,     0.36937,     0.37037,     0.37137,     0.37237,     0.37337,     0.37437,     0.37538,     0.37638,     0.37738,     0.37838,     0.37938,     0.38038,     0.38138,     0.38238,     0.38338,\n",
       "           0.38438,     0.38539,     0.38639,     0.38739,     0.38839,     0.38939,     0.39039,     0.39139,     0.39239,     0.39339,     0.39439,      0.3954,      0.3964,      0.3974,      0.3984,      0.3994,      0.4004,      0.4014,      0.4024,      0.4034,      0.4044,     0.40541,     0.40641,     0.40741,\n",
       "           0.40841,     0.40941,     0.41041,     0.41141,     0.41241,     0.41341,     0.41441,     0.41542,     0.41642,     0.41742,     0.41842,     0.41942,     0.42042,     0.42142,     0.42242,     0.42342,     0.42442,     0.42543,     0.42643,     0.42743,     0.42843,     0.42943,     0.43043,     0.43143,\n",
       "           0.43243,     0.43343,     0.43443,     0.43544,     0.43644,     0.43744,     0.43844,     0.43944,     0.44044,     0.44144,     0.44244,     0.44344,     0.44444,     0.44545,     0.44645,     0.44745,     0.44845,     0.44945,     0.45045,     0.45145,     0.45245,     0.45345,     0.45445,     0.45546,\n",
       "           0.45646,     0.45746,     0.45846,     0.45946,     0.46046,     0.46146,     0.46246,     0.46346,     0.46446,     0.46547,     0.46647,     0.46747,     0.46847,     0.46947,     0.47047,     0.47147,     0.47247,     0.47347,     0.47447,     0.47548,     0.47648,     0.47748,     0.47848,     0.47948,\n",
       "           0.48048,     0.48148,     0.48248,     0.48348,     0.48448,     0.48549,     0.48649,     0.48749,     0.48849,     0.48949,     0.49049,     0.49149,     0.49249,     0.49349,     0.49449,      0.4955,      0.4965,      0.4975,      0.4985,      0.4995,      0.5005,      0.5015,      0.5025,      0.5035,\n",
       "            0.5045,     0.50551,     0.50651,     0.50751,     0.50851,     0.50951,     0.51051,     0.51151,     0.51251,     0.51351,     0.51451,     0.51552,     0.51652,     0.51752,     0.51852,     0.51952,     0.52052,     0.52152,     0.52252,     0.52352,     0.52452,     0.52553,     0.52653,     0.52753,\n",
       "           0.52853,     0.52953,     0.53053,     0.53153,     0.53253,     0.53353,     0.53453,     0.53554,     0.53654,     0.53754,     0.53854,     0.53954,     0.54054,     0.54154,     0.54254,     0.54354,     0.54454,     0.54555,     0.54655,     0.54755,     0.54855,     0.54955,     0.55055,     0.55155,\n",
       "           0.55255,     0.55355,     0.55455,     0.55556,     0.55656,     0.55756,     0.55856,     0.55956,     0.56056,     0.56156,     0.56256,     0.56356,     0.56456,     0.56557,     0.56657,     0.56757,     0.56857,     0.56957,     0.57057,     0.57157,     0.57257,     0.57357,     0.57457,     0.57558,\n",
       "           0.57658,     0.57758,     0.57858,     0.57958,     0.58058,     0.58158,     0.58258,     0.58358,     0.58458,     0.58559,     0.58659,     0.58759,     0.58859,     0.58959,     0.59059,     0.59159,     0.59259,     0.59359,     0.59459,      0.5956,      0.5966,      0.5976,      0.5986,      0.5996,\n",
       "            0.6006,      0.6016,      0.6026,      0.6036,      0.6046,     0.60561,     0.60661,     0.60761,     0.60861,     0.60961,     0.61061,     0.61161,     0.61261,     0.61361,     0.61461,     0.61562,     0.61662,     0.61762,     0.61862,     0.61962,     0.62062,     0.62162,     0.62262,     0.62362,\n",
       "           0.62462,     0.62563,     0.62663,     0.62763,     0.62863,     0.62963,     0.63063,     0.63163,     0.63263,     0.63363,     0.63463,     0.63564,     0.63664,     0.63764,     0.63864,     0.63964,     0.64064,     0.64164,     0.64264,     0.64364,     0.64464,     0.64565,     0.64665,     0.64765,\n",
       "           0.64865,     0.64965,     0.65065,     0.65165,     0.65265,     0.65365,     0.65465,     0.65566,     0.65666,     0.65766,     0.65866,     0.65966,     0.66066,     0.66166,     0.66266,     0.66366,     0.66466,     0.66567,     0.66667,     0.66767,     0.66867,     0.66967,     0.67067,     0.67167,\n",
       "           0.67267,     0.67367,     0.67467,     0.67568,     0.67668,     0.67768,     0.67868,     0.67968,     0.68068,     0.68168,     0.68268,     0.68368,     0.68468,     0.68569,     0.68669,     0.68769,     0.68869,     0.68969,     0.69069,     0.69169,     0.69269,     0.69369,     0.69469,      0.6957,\n",
       "            0.6967,      0.6977,      0.6987,      0.6997,      0.7007,      0.7017,      0.7027,      0.7037,      0.7047,     0.70571,     0.70671,     0.70771,     0.70871,     0.70971,     0.71071,     0.71171,     0.71271,     0.71371,     0.71471,     0.71572,     0.71672,     0.71772,     0.71872,     0.71972,\n",
       "           0.72072,     0.72172,     0.72272,     0.72372,     0.72472,     0.72573,     0.72673,     0.72773,     0.72873,     0.72973,     0.73073,     0.73173,     0.73273,     0.73373,     0.73473,     0.73574,     0.73674,     0.73774,     0.73874,     0.73974,     0.74074,     0.74174,     0.74274,     0.74374,\n",
       "           0.74474,     0.74575,     0.74675,     0.74775,     0.74875,     0.74975,     0.75075,     0.75175,     0.75275,     0.75375,     0.75475,     0.75576,     0.75676,     0.75776,     0.75876,     0.75976,     0.76076,     0.76176,     0.76276,     0.76376,     0.76476,     0.76577,     0.76677,     0.76777,\n",
       "           0.76877,     0.76977,     0.77077,     0.77177,     0.77277,     0.77377,     0.77477,     0.77578,     0.77678,     0.77778,     0.77878,     0.77978,     0.78078,     0.78178,     0.78278,     0.78378,     0.78478,     0.78579,     0.78679,     0.78779,     0.78879,     0.78979,     0.79079,     0.79179,\n",
       "           0.79279,     0.79379,     0.79479,      0.7958,      0.7968,      0.7978,      0.7988,      0.7998,      0.8008,      0.8018,      0.8028,      0.8038,      0.8048,     0.80581,     0.80681,     0.80781,     0.80881,     0.80981,     0.81081,     0.81181,     0.81281,     0.81381,     0.81481,     0.81582,\n",
       "           0.81682,     0.81782,     0.81882,     0.81982,     0.82082,     0.82182,     0.82282,     0.82382,     0.82482,     0.82583,     0.82683,     0.82783,     0.82883,     0.82983,     0.83083,     0.83183,     0.83283,     0.83383,     0.83483,     0.83584,     0.83684,     0.83784,     0.83884,     0.83984,\n",
       "           0.84084,     0.84184,     0.84284,     0.84384,     0.84484,     0.84585,     0.84685,     0.84785,     0.84885,     0.84985,     0.85085,     0.85185,     0.85285,     0.85385,     0.85485,     0.85586,     0.85686,     0.85786,     0.85886,     0.85986,     0.86086,     0.86186,     0.86286,     0.86386,\n",
       "           0.86486,     0.86587,     0.86687,     0.86787,     0.86887,     0.86987,     0.87087,     0.87187,     0.87287,     0.87387,     0.87487,     0.87588,     0.87688,     0.87788,     0.87888,     0.87988,     0.88088,     0.88188,     0.88288,     0.88388,     0.88488,     0.88589,     0.88689,     0.88789,\n",
       "           0.88889,     0.88989,     0.89089,     0.89189,     0.89289,     0.89389,     0.89489,      0.8959,      0.8969,      0.8979,      0.8989,      0.8999,      0.9009,      0.9019,      0.9029,      0.9039,      0.9049,     0.90591,     0.90691,     0.90791,     0.90891,     0.90991,     0.91091,     0.91191,\n",
       "           0.91291,     0.91391,     0.91491,     0.91592,     0.91692,     0.91792,     0.91892,     0.91992,     0.92092,     0.92192,     0.92292,     0.92392,     0.92492,     0.92593,     0.92693,     0.92793,     0.92893,     0.92993,     0.93093,     0.93193,     0.93293,     0.93393,     0.93493,     0.93594,\n",
       "           0.93694,     0.93794,     0.93894,     0.93994,     0.94094,     0.94194,     0.94294,     0.94394,     0.94494,     0.94595,     0.94695,     0.94795,     0.94895,     0.94995,     0.95095,     0.95195,     0.95295,     0.95395,     0.95495,     0.95596,     0.95696,     0.95796,     0.95896,     0.95996,\n",
       "           0.96096,     0.96196,     0.96296,     0.96396,     0.96496,     0.96597,     0.96697,     0.96797,     0.96897,     0.96997,     0.97097,     0.97197,     0.97297,     0.97397,     0.97497,     0.97598,     0.97698,     0.97798,     0.97898,     0.97998,     0.98098,     0.98198,     0.98298,     0.98398,\n",
       "           0.98498,     0.98599,     0.98699,     0.98799,     0.98899,     0.98999,     0.99099,     0.99199,     0.99299,     0.99399,     0.99499,       0.996,       0.997,       0.998,       0.999,           1]), array([[          1,           1,           1,           1,     0.99951,     0.99951,     0.99951,     0.99951,     0.99951,     0.99951,     0.99951,     0.99951,     0.99951,     0.99951,     0.99951,     0.99951,     0.99951,     0.99951,     0.99951,     0.99951,     0.99951,     0.99951,     0.99902,\n",
       "            0.99902,     0.99902,     0.99902,     0.99902,     0.99902,     0.99902,     0.99902,     0.99902,     0.99902,     0.99902,     0.99902,     0.99902,     0.99853,     0.99853,     0.99853,     0.99853,     0.99853,     0.99853,     0.99853,     0.99853,      0.9984,     0.99803,     0.99803,\n",
       "            0.99803,     0.99803,     0.99754,     0.99754,     0.99754,     0.99754,     0.99705,     0.99705,     0.99705,     0.99705,     0.99656,     0.99656,     0.99619,     0.99607,     0.99607,     0.99607,     0.99607,     0.99607,     0.99607,     0.99607,     0.99607,     0.99607,     0.99607,\n",
       "            0.99607,     0.99607,     0.99607,     0.99607,     0.99607,     0.99607,     0.99607,     0.99607,     0.99607,     0.99607,     0.99607,     0.99607,     0.99607,     0.99607,     0.99607,     0.99607,     0.99607,     0.99607,     0.99607,     0.99607,     0.99607,     0.99607,     0.99607,\n",
       "            0.99607,     0.99607,     0.99607,     0.99607,     0.99607,     0.99607,     0.99607,     0.99607,     0.99607,     0.99607,     0.99607,     0.99607,     0.99607,     0.99607,     0.99607,     0.99607,     0.99607,     0.99607,     0.99607,     0.99607,     0.99607,     0.99607,     0.99607,\n",
       "            0.99607,     0.99607,     0.99607,     0.99607,     0.99607,     0.99607,     0.99607,     0.99607,     0.99607,     0.99607,     0.99607,     0.99607,     0.99607,     0.99607,     0.99607,     0.99607,     0.99607,     0.99607,     0.99607,     0.99607,     0.99607,     0.99607,     0.99607,\n",
       "            0.99607,     0.99607,     0.99607,     0.99607,     0.99607,     0.99607,     0.99607,     0.99607,     0.99607,     0.99607,     0.99607,     0.99607,     0.99607,     0.99607,     0.99607,     0.99607,     0.99607,     0.99607,     0.99607,     0.99607,     0.99607,     0.99607,     0.99607,\n",
       "            0.99607,     0.99607,     0.99607,     0.99607,     0.99607,     0.99607,     0.99607,     0.99607,     0.99607,     0.99607,     0.99607,     0.99607,     0.99607,     0.99607,     0.99607,     0.99607,     0.99607,     0.99607,     0.99607,     0.99607,     0.99607,     0.99607,     0.99607,\n",
       "            0.99607,     0.99607,     0.99607,     0.99607,     0.99607,     0.99607,     0.99607,     0.99607,     0.99607,     0.99607,     0.99607,     0.99607,     0.99607,     0.99607,     0.99607,     0.99607,     0.99607,     0.99607,     0.99607,     0.99607,     0.99607,     0.99607,     0.99607,\n",
       "            0.99607,     0.99607,     0.99607,     0.99607,     0.99607,     0.99607,     0.99607,     0.99607,     0.99607,     0.99607,     0.99607,     0.99607,     0.99607,     0.99607,     0.99607,     0.99607,     0.99607,     0.99607,     0.99607,     0.99607,     0.99607,     0.99607,     0.99607,\n",
       "            0.99607,     0.99607,     0.99607,     0.99607,     0.99607,     0.99607,     0.99607,     0.99607,     0.99607,     0.99607,     0.99607,     0.99607,     0.99607,     0.99607,     0.99607,     0.99607,     0.99607,     0.99607,     0.99607,     0.99607,     0.99607,     0.99607,     0.99607,\n",
       "            0.99607,     0.99607,     0.99607,     0.99607,     0.99607,     0.99607,     0.99607,     0.99607,     0.99607,     0.99607,     0.99607,     0.99607,     0.99607,     0.99607,     0.99607,     0.99607,     0.99607,     0.99607,     0.99607,     0.99607,     0.99607,     0.99607,     0.99607,\n",
       "            0.99607,     0.99607,     0.99607,     0.99607,     0.99607,     0.99607,     0.99607,     0.99607,     0.99607,     0.99607,     0.99607,     0.99607,     0.99607,     0.99607,     0.99607,     0.99607,     0.99607,     0.99607,     0.99607,     0.99607,     0.99607,     0.99607,     0.99607,\n",
       "            0.99607,     0.99607,     0.99607,     0.99607,     0.99607,     0.99607,     0.99607,     0.99607,     0.99607,     0.99607,     0.99607,     0.99607,     0.99607,     0.99607,     0.99607,     0.99607,     0.99607,     0.99607,     0.99607,     0.99607,     0.99607,     0.99607,     0.99607,\n",
       "            0.99607,     0.99607,     0.99607,     0.99607,     0.99607,     0.99607,     0.99607,     0.99607,     0.99607,     0.99607,     0.99607,     0.99607,     0.99607,     0.99607,     0.99607,     0.99607,     0.99607,     0.99607,     0.99607,     0.99607,     0.99607,     0.99607,     0.99607,\n",
       "            0.99607,     0.99607,     0.99607,     0.99607,     0.99607,     0.99607,     0.99607,     0.99607,     0.99607,     0.99607,     0.99607,     0.99607,     0.99607,     0.99607,     0.99607,     0.99607,     0.99607,     0.99607,     0.99607,     0.99607,     0.99607,     0.99607,     0.99607,\n",
       "            0.99607,     0.99607,     0.99607,     0.99607,     0.99607,     0.99607,     0.99607,     0.99607,     0.99607,     0.99607,     0.99607,     0.99607,     0.99607,     0.99607,     0.99607,     0.99607,     0.99607,     0.99607,     0.99607,     0.99607,     0.99607,     0.99607,     0.99607,\n",
       "            0.99607,     0.99607,     0.99607,     0.99607,     0.99607,     0.99607,     0.99607,     0.99607,     0.99607,     0.99607,     0.99607,     0.99607,     0.99607,     0.99607,     0.99607,     0.99607,     0.99607,     0.99607,     0.99607,     0.99607,     0.99607,     0.99607,     0.99607,\n",
       "            0.99607,     0.99607,     0.99607,     0.99607,     0.99607,     0.99607,     0.99607,     0.99607,     0.99607,     0.99607,     0.99607,     0.99607,     0.99607,     0.99607,     0.99607,     0.99607,     0.99607,     0.99607,     0.99607,     0.99607,     0.99607,     0.99607,     0.99607,\n",
       "            0.99607,     0.99607,     0.99607,     0.99607,     0.99607,     0.99607,     0.99607,     0.99607,     0.99607,     0.99607,     0.99607,     0.99607,     0.99607,     0.99607,     0.99607,     0.99607,     0.99607,     0.99607,     0.99607,     0.99607,     0.99607,     0.99607,     0.99607,\n",
       "            0.99607,     0.99607,     0.99607,     0.99607,     0.99607,     0.99607,     0.99607,     0.99607,     0.99607,     0.99607,     0.99607,     0.99607,     0.99607,     0.99607,     0.99607,     0.99607,     0.99607,     0.99607,     0.99607,     0.99607,     0.99607,     0.99607,     0.99607,\n",
       "            0.99607,     0.99607,     0.99607,     0.99607,     0.99607,     0.99607,     0.99607,     0.99607,     0.99607,     0.99607,     0.99607,     0.99607,     0.99607,     0.99607,     0.99607,     0.99607,     0.99607,     0.99607,     0.99607,     0.99607,     0.99607,     0.99607,     0.99607,\n",
       "            0.99607,     0.99607,     0.99607,     0.99607,     0.99607,     0.99607,     0.99607,     0.99607,     0.99607,     0.99607,     0.99607,     0.99607,     0.99607,     0.99607,     0.99607,     0.99607,     0.99607,     0.99607,     0.99607,     0.99607,     0.99607,     0.99607,     0.99607,\n",
       "            0.99607,     0.99607,     0.99607,     0.99607,     0.99607,     0.99607,     0.99607,     0.99607,     0.99607,     0.99607,     0.99607,     0.99607,     0.99607,     0.99607,     0.99607,     0.99607,     0.99607,     0.99607,     0.99607,     0.99607,     0.99607,     0.99607,     0.99607,\n",
       "            0.99607,     0.99607,     0.99607,     0.99607,     0.99607,     0.99607,     0.99607,     0.99607,     0.99607,     0.99607,     0.99607,     0.99607,     0.99607,     0.99607,     0.99607,     0.99607,     0.99607,     0.99607,     0.99607,     0.99607,     0.99607,     0.99607,     0.99607,\n",
       "            0.99607,     0.99607,     0.99607,     0.99607,     0.99607,     0.99607,     0.99607,     0.99607,     0.99607,     0.99607,     0.99607,     0.99607,     0.99607,     0.99607,     0.99607,     0.99607,     0.99607,     0.99607,     0.99607,     0.99607,     0.99606,     0.99606,     0.99605,\n",
       "            0.99605,     0.99604,     0.99604,     0.99604,     0.99603,     0.99603,     0.99602,     0.99602,     0.99601,     0.99601,       0.996,       0.996,       0.996,     0.99599,     0.99599,     0.99598,     0.99598,     0.99597,     0.99597,     0.99597,     0.99596,     0.99596,     0.99595,\n",
       "            0.99595,     0.99594,     0.99594,     0.99594,     0.99593,     0.99593,     0.99592,     0.99592,     0.99591,     0.99591,     0.99591,      0.9959,      0.9959,     0.99589,     0.99589,     0.99588,     0.99588,     0.99588,     0.99587,     0.99587,     0.99586,     0.99586,     0.99585,\n",
       "            0.99585,     0.99585,     0.99584,     0.99584,     0.99583,     0.99583,     0.99582,     0.99582,     0.99582,     0.99581,     0.99581,      0.9958,      0.9958,     0.99579,     0.99579,     0.99579,     0.99578,     0.99578,     0.99577,     0.99577,     0.99576,     0.99576,     0.99576,\n",
       "            0.99575,     0.99575,     0.99574,     0.99574,     0.99573,     0.99573,     0.99573,     0.99572,     0.99572,     0.99571,     0.99571,      0.9957,      0.9957,     0.99569,     0.99569,     0.99569,     0.99568,     0.99568,     0.99567,     0.99567,     0.99566,     0.99566,     0.99566,\n",
       "            0.99565,     0.99565,     0.99564,     0.99564,     0.99563,     0.99563,     0.99563,     0.99562,     0.99562,     0.99561,     0.99561,      0.9956,      0.9956,      0.9956,     0.99559,     0.99559,     0.99558,     0.99558,      0.9954,     0.99515,     0.99507,     0.99505,     0.99502,\n",
       "              0.995,     0.99497,     0.99495,     0.99493,      0.9949,     0.99488,     0.99486,     0.99483,     0.99481,     0.99479,     0.99476,     0.99474,     0.99472,     0.99469,     0.99467,     0.99465,     0.99462,      0.9946,     0.99457,     0.99455,     0.99452,     0.99449,     0.99446,\n",
       "            0.99444,     0.99441,     0.99438,     0.99436,     0.99433,      0.9943,     0.99427,     0.99425,     0.99422,     0.99419,     0.99417,     0.99414,     0.99411,     0.99409,     0.99407,     0.99405,     0.99403,     0.99401,     0.99399,     0.99397,     0.99395,     0.99393,     0.99391,\n",
       "            0.99389,     0.99387,     0.99385,     0.99383,     0.99381,     0.99379,     0.99377,     0.99375,     0.99373,     0.99371,     0.99369,     0.99367,     0.99365,     0.99363,     0.99357,     0.99344,     0.99332,     0.99319,     0.99303,     0.99283,     0.99263,     0.99254,     0.99245,\n",
       "            0.99235,     0.99226,     0.99217,     0.99193,     0.99163,     0.99156,     0.99148,      0.9914,     0.99132,     0.99125,     0.99117,     0.99112,     0.99107,     0.99102,     0.99097,     0.99092,     0.99088,     0.99083,     0.99078,     0.99073,     0.99068,     0.98939,      0.9887,\n",
       "             0.9887,     0.98768,     0.98748,     0.98728,     0.98708,     0.98688,     0.98673,     0.98673,     0.98673,     0.98616,     0.98605,     0.98595,     0.98585,     0.98575,     0.98477,     0.98427,     0.98407,     0.98387,     0.98349,     0.98321,     0.98306,     0.98292,     0.98274,\n",
       "             0.9824,     0.98194,     0.98144,     0.98117,     0.98097,     0.98075,      0.9805,     0.98015,     0.97965,     0.97922,     0.97888,     0.97887,     0.97887,     0.97887,     0.97887,     0.97887,     0.97887,     0.97887,     0.97887,     0.97887,     0.97887,     0.97887,     0.97887,\n",
       "            0.97874,     0.97857,      0.9784,     0.97746,     0.97718,     0.97692,     0.97644,     0.97637,     0.97633,     0.97629,     0.97625,     0.97621,     0.97616,     0.97612,     0.97608,     0.97604,       0.976,     0.97595,     0.97589,     0.97574,      0.9756,     0.97545,     0.97543,\n",
       "            0.97543,     0.97543,     0.97542,     0.97541,     0.97539,     0.97537,     0.97536,     0.97534,     0.97532,     0.97531,     0.97529,     0.97527,     0.97526,     0.97524,     0.97523,     0.97521,     0.97519,     0.97518,     0.97516,     0.97514,     0.97513,     0.97511,     0.97509,\n",
       "            0.97508,     0.97506,     0.97504,     0.97503,     0.97501,     0.97499,     0.97498,     0.97496,     0.97494,     0.97483,     0.97466,     0.97449,      0.9744,     0.97433,     0.97426,      0.9742,     0.97413,     0.97406,       0.974,     0.97393,     0.97388,     0.97382,     0.97376,\n",
       "            0.97371,     0.97365,      0.9736,     0.97354,     0.97348,     0.97344,      0.9734,     0.97336,     0.97332,     0.97328,     0.97325,     0.97321,     0.97317,     0.97313,     0.97309,     0.97305,     0.97301,     0.97297,     0.97294,     0.97291,     0.97287,     0.97284,     0.97281,\n",
       "            0.97277,     0.97274,     0.97271,     0.97267,     0.97264,     0.97261,     0.97257,     0.97254,      0.9725,     0.97247,     0.97244,     0.97241,     0.97237,     0.97234,     0.97231,     0.97228,     0.97224,     0.97221,     0.97218,     0.97215,     0.97211,     0.97208,     0.97205,\n",
       "            0.97202,     0.97179,     0.95604,     0.93587,     0.93351,     0.93331,     0.93236,     0.91759,     0.88415,     0.82172,     0.79319,     0.60251,     0.54401,     0.44275,      0.2958,     0.19651,      0.1729,    0.073612,    0.026413,           0,           0,           0,           0,\n",
       "                  0,           0,           0,           0,           0,           0,           0,           0,           0,           0,           0]]), 'Confidence', 'Recall']]\n",
       "fitness: 0.9945632933647786\n",
       "keys: ['metrics/precision(B)', 'metrics/recall(B)', 'metrics/mAP50(B)', 'metrics/mAP50-95(B)']\n",
       "maps: array([    0.99452])\n",
       "names: {0: 'Data Matrix'}\n",
       "plot: True\n",
       "results_dict: {'metrics/precision(B)': 0.9960315558153459, 'metrics/recall(B)': 0.9960687960687961, 'metrics/mAP50(B)': 0.9949358494112592, 'metrics/mAP50-95(B)': 0.9945218982485029, 'fitness': 0.9945632933647786}\n",
       "save_dir: WindowsPath('c:/Users/aidan/OneDrive/Desktop/itu/msc/courses/sem3/research_project/Research-Project-Data-Matrix-Code-/yolo/runs/detect/train2')\n",
       "speed: {'preprocess': 0.2192696423729749, 'inference': 2.4616662055913, 'loss': 0.0, 'postprocess': 0.8979169391004107}\n",
       "task: 'detect'\n",
       "training: {'epochs': 34, 'seconds': 16614.57773041725}"
      ]
     },
     "execution_count": 4,
     "metadata": {},
     "output_type": "execute_result"
    }
   ],
   "source": [
    "model.train(\n",
    "    data='../data/processed/dataset.yaml', # path to yaml file which specifies dataset parameters\n",
    "    epochs=100,\n",
    "    imgsz=640,\n",
    "    single_cls=True,                      # single class training\n",
    "    patience=10,                          # early stopping patience (after this many epochs with no improvement stop training)\n",
    "    pretrained=False,                     # don't use pre-trained weights\n",
    "    plots=True,                           # create plots\n",
    "\n",
    "    # solving GPU memory issue?\n",
    "    workers=0,                            # number of worker threads for data loading (0 reduces memory problems at cost of slower training)\n",
    "    batch = 8,                            # batch size (default 16, reducing to 8 can help)\n",
    ")"
   ]
  },
  {
   "cell_type": "code",
   "execution_count": 7,
   "metadata": {},
   "outputs": [],
   "source": [
    "# move best model to models directory\n",
    "shutil.move('../yolo/runs/detect/train/weights/best.pt', '../yolo/models/kaggle_scratch.pt')\n",
    "del model # flush memory"
   ]
  },
  {
   "cell_type": "markdown",
   "metadata": {},
   "source": [
    "## Ultralytics Pretrained"
   ]
  },
  {
   "cell_type": "code",
   "execution_count": 8,
   "metadata": {},
   "outputs": [],
   "source": [
    "model = YOLO('../yolo/models/yolo11n.pt', task='detect') # using ultralytics pre-trained model (on COCO dataset)"
   ]
  },
  {
   "cell_type": "code",
   "execution_count": 9,
   "metadata": {},
   "outputs": [
    {
     "name": "stdout",
     "output_type": "stream",
     "text": [
      "New https://pypi.org/project/ultralytics/8.3.9 available  Update with 'pip install -U ultralytics'\n",
      "Ultralytics 8.3.6  Python-3.12.5 torch-2.4.1 CUDA:0 (NVIDIA GeForce RTX 2070, 8192MiB)\n",
      "\u001b[34m\u001b[1mengine\\trainer: \u001b[0mtask=detect, mode=train, model=../yolo/models/yolo11n.pt, data=../data/processed/dataset.yaml, epochs=100, time=None, patience=10, batch=8, imgsz=640, save=True, save_period=-1, cache=False, device=None, workers=0, project=None, name=train2, exist_ok=False, pretrained=False, optimizer=auto, verbose=True, seed=0, deterministic=True, single_cls=True, rect=False, cos_lr=False, close_mosaic=10, resume=False, amp=True, fraction=1.0, profile=False, freeze=None, multi_scale=False, overlap_mask=True, mask_ratio=4, dropout=0.0, val=True, split=val, save_json=False, save_hybrid=False, conf=None, iou=0.7, max_det=300, half=False, dnn=False, plots=True, source=None, vid_stride=1, stream_buffer=False, visualize=False, augment=False, agnostic_nms=False, classes=None, retina_masks=False, embed=None, show=False, save_frames=False, save_txt=False, save_conf=False, save_crop=False, show_labels=True, show_conf=True, show_boxes=True, line_width=None, format=torchscript, keras=False, optimize=False, int8=False, dynamic=False, simplify=True, opset=None, workspace=4, nms=False, lr0=0.01, lrf=0.01, momentum=0.937, weight_decay=0.0005, warmup_epochs=3.0, warmup_momentum=0.8, warmup_bias_lr=0.1, box=7.5, cls=0.5, dfl=1.5, pose=12.0, kobj=1.0, label_smoothing=0.0, nbs=64, hsv_h=0.015, hsv_s=0.7, hsv_v=0.4, degrees=0.0, translate=0.1, scale=0.5, shear=0.0, perspective=0.0, flipud=0.0, fliplr=0.5, bgr=0.0, mosaic=1.0, mixup=0.0, copy_paste=0.0, copy_paste_mode=flip, auto_augment=randaugment, erasing=0.4, crop_fraction=1.0, cfg=None, tracker=botsort.yaml, save_dir=c:\\Users\\aidan\\OneDrive\\Desktop\\itu\\msc\\courses\\sem3\\research_project\\Research-Project-Data-Matrix-Code-\\yolo\\runs\\detect\\train2\n"
     ]
    },
    {
     "ename": "RuntimeError",
     "evalue": "Dataset '../data/processed/dataset.yaml' error  '../data/processed/dataset.yaml' does not exist",
     "output_type": "error",
     "traceback": [
      "\u001b[1;31m---------------------------------------------------------------------------\u001b[0m",
      "\u001b[1;31mFileNotFoundError\u001b[0m                         Traceback (most recent call last)",
      "File \u001b[1;32mc:\\Users\\aidan\\anaconda3\\envs\\research_project\\Lib\\site-packages\\ultralytics\\engine\\trainer.py:559\u001b[0m, in \u001b[0;36mBaseTrainer.get_dataset\u001b[1;34m(self)\u001b[0m\n\u001b[0;32m    553\u001b[0m \u001b[38;5;28;01melif\u001b[39;00m \u001b[38;5;28mself\u001b[39m\u001b[38;5;241m.\u001b[39margs\u001b[38;5;241m.\u001b[39mdata\u001b[38;5;241m.\u001b[39msplit(\u001b[38;5;124m\"\u001b[39m\u001b[38;5;124m.\u001b[39m\u001b[38;5;124m\"\u001b[39m)[\u001b[38;5;241m-\u001b[39m\u001b[38;5;241m1\u001b[39m] \u001b[38;5;129;01min\u001b[39;00m {\u001b[38;5;124m\"\u001b[39m\u001b[38;5;124myaml\u001b[39m\u001b[38;5;124m\"\u001b[39m, \u001b[38;5;124m\"\u001b[39m\u001b[38;5;124myml\u001b[39m\u001b[38;5;124m\"\u001b[39m} \u001b[38;5;129;01mor\u001b[39;00m \u001b[38;5;28mself\u001b[39m\u001b[38;5;241m.\u001b[39margs\u001b[38;5;241m.\u001b[39mtask \u001b[38;5;129;01min\u001b[39;00m {\n\u001b[0;32m    554\u001b[0m     \u001b[38;5;124m\"\u001b[39m\u001b[38;5;124mdetect\u001b[39m\u001b[38;5;124m\"\u001b[39m,\n\u001b[0;32m    555\u001b[0m     \u001b[38;5;124m\"\u001b[39m\u001b[38;5;124msegment\u001b[39m\u001b[38;5;124m\"\u001b[39m,\n\u001b[0;32m    556\u001b[0m     \u001b[38;5;124m\"\u001b[39m\u001b[38;5;124mpose\u001b[39m\u001b[38;5;124m\"\u001b[39m,\n\u001b[0;32m    557\u001b[0m     \u001b[38;5;124m\"\u001b[39m\u001b[38;5;124mobb\u001b[39m\u001b[38;5;124m\"\u001b[39m,\n\u001b[0;32m    558\u001b[0m }:\n\u001b[1;32m--> 559\u001b[0m     data \u001b[38;5;241m=\u001b[39m check_det_dataset(\u001b[38;5;28mself\u001b[39m\u001b[38;5;241m.\u001b[39margs\u001b[38;5;241m.\u001b[39mdata)\n\u001b[0;32m    560\u001b[0m     \u001b[38;5;28;01mif\u001b[39;00m \u001b[38;5;124m\"\u001b[39m\u001b[38;5;124myaml_file\u001b[39m\u001b[38;5;124m\"\u001b[39m \u001b[38;5;129;01min\u001b[39;00m data:\n",
      "File \u001b[1;32mc:\\Users\\aidan\\anaconda3\\envs\\research_project\\Lib\\site-packages\\ultralytics\\data\\utils.py:268\u001b[0m, in \u001b[0;36mcheck_det_dataset\u001b[1;34m(dataset, autodownload)\u001b[0m\n\u001b[0;32m    254\u001b[0m \u001b[38;5;250m\u001b[39m\u001b[38;5;124;03m\"\"\"\u001b[39;00m\n\u001b[0;32m    255\u001b[0m \u001b[38;5;124;03mDownload, verify, and/or unzip a dataset if not found locally.\u001b[39;00m\n\u001b[0;32m    256\u001b[0m \n\u001b[1;32m   (...)\u001b[0m\n\u001b[0;32m    266\u001b[0m \u001b[38;5;124;03m    (dict): Parsed dataset information and paths.\u001b[39;00m\n\u001b[0;32m    267\u001b[0m \u001b[38;5;124;03m\"\"\"\u001b[39;00m\n\u001b[1;32m--> 268\u001b[0m file \u001b[38;5;241m=\u001b[39m check_file(dataset)\n\u001b[0;32m    270\u001b[0m \u001b[38;5;66;03m# Download (optional)\u001b[39;00m\n",
      "File \u001b[1;32mc:\\Users\\aidan\\anaconda3\\envs\\research_project\\Lib\\site-packages\\ultralytics\\utils\\checks.py:517\u001b[0m, in \u001b[0;36mcheck_file\u001b[1;34m(file, suffix, download, download_dir, hard)\u001b[0m\n\u001b[0;32m    516\u001b[0m \u001b[38;5;28;01mif\u001b[39;00m \u001b[38;5;129;01mnot\u001b[39;00m files \u001b[38;5;129;01mand\u001b[39;00m hard:\n\u001b[1;32m--> 517\u001b[0m     \u001b[38;5;28;01mraise\u001b[39;00m \u001b[38;5;167;01mFileNotFoundError\u001b[39;00m(\u001b[38;5;124mf\u001b[39m\u001b[38;5;124m\"\u001b[39m\u001b[38;5;124m'\u001b[39m\u001b[38;5;132;01m{\u001b[39;00mfile\u001b[38;5;132;01m}\u001b[39;00m\u001b[38;5;124m'\u001b[39m\u001b[38;5;124m does not exist\u001b[39m\u001b[38;5;124m\"\u001b[39m)\n\u001b[0;32m    518\u001b[0m \u001b[38;5;28;01melif\u001b[39;00m \u001b[38;5;28mlen\u001b[39m(files) \u001b[38;5;241m>\u001b[39m \u001b[38;5;241m1\u001b[39m \u001b[38;5;129;01mand\u001b[39;00m hard:\n",
      "\u001b[1;31mFileNotFoundError\u001b[0m: '../data/processed/dataset.yaml' does not exist",
      "\nThe above exception was the direct cause of the following exception:\n",
      "\u001b[1;31mRuntimeError\u001b[0m                              Traceback (most recent call last)",
      "Cell \u001b[1;32mIn[9], line 1\u001b[0m\n\u001b[1;32m----> 1\u001b[0m model\u001b[38;5;241m.\u001b[39mtrain(\n\u001b[0;32m      2\u001b[0m     data\u001b[38;5;241m=\u001b[39m\u001b[38;5;124m'\u001b[39m\u001b[38;5;124m../data/processed/dataset.yaml\u001b[39m\u001b[38;5;124m'\u001b[39m, \u001b[38;5;66;03m# path to yaml file which specifies dataset parameters\u001b[39;00m\n\u001b[0;32m      3\u001b[0m     epochs\u001b[38;5;241m=\u001b[39m\u001b[38;5;241m100\u001b[39m,\n\u001b[0;32m      4\u001b[0m     imgsz\u001b[38;5;241m=\u001b[39m\u001b[38;5;241m640\u001b[39m,\n\u001b[0;32m      5\u001b[0m     single_cls\u001b[38;5;241m=\u001b[39m\u001b[38;5;28;01mTrue\u001b[39;00m,                      \u001b[38;5;66;03m# single class training\u001b[39;00m\n\u001b[0;32m      6\u001b[0m     patience\u001b[38;5;241m=\u001b[39m\u001b[38;5;241m10\u001b[39m,                          \u001b[38;5;66;03m# early stopping patience (after this many epochs with no improvement stop training)\u001b[39;00m\n\u001b[0;32m      7\u001b[0m     pretrained\u001b[38;5;241m=\u001b[39m\u001b[38;5;28;01mFalse\u001b[39;00m,                     \u001b[38;5;66;03m# don't use pre-trained weights\u001b[39;00m\n\u001b[0;32m      8\u001b[0m     plots\u001b[38;5;241m=\u001b[39m\u001b[38;5;28;01mTrue\u001b[39;00m,                           \u001b[38;5;66;03m# create plots\u001b[39;00m\n\u001b[0;32m      9\u001b[0m \n\u001b[0;32m     10\u001b[0m     \u001b[38;5;66;03m# solving GPU memory issue?\u001b[39;00m\n\u001b[0;32m     11\u001b[0m     workers\u001b[38;5;241m=\u001b[39m\u001b[38;5;241m0\u001b[39m,                            \u001b[38;5;66;03m# number of worker threads for data loading (0 reduces memory problems at cost of slower training)\u001b[39;00m\n\u001b[0;32m     12\u001b[0m     batch \u001b[38;5;241m=\u001b[39m \u001b[38;5;241m8\u001b[39m,                            \u001b[38;5;66;03m# batch size (default 16, reducing to 8 can help)\u001b[39;00m\n\u001b[0;32m     13\u001b[0m )\n",
      "File \u001b[1;32mc:\\Users\\aidan\\anaconda3\\envs\\research_project\\Lib\\site-packages\\ultralytics\\engine\\model.py:796\u001b[0m, in \u001b[0;36mModel.train\u001b[1;34m(self, trainer, **kwargs)\u001b[0m\n\u001b[0;32m    793\u001b[0m \u001b[38;5;28;01mif\u001b[39;00m args\u001b[38;5;241m.\u001b[39mget(\u001b[38;5;124m\"\u001b[39m\u001b[38;5;124mresume\u001b[39m\u001b[38;5;124m\"\u001b[39m):\n\u001b[0;32m    794\u001b[0m     args[\u001b[38;5;124m\"\u001b[39m\u001b[38;5;124mresume\u001b[39m\u001b[38;5;124m\"\u001b[39m] \u001b[38;5;241m=\u001b[39m \u001b[38;5;28mself\u001b[39m\u001b[38;5;241m.\u001b[39mckpt_path\n\u001b[1;32m--> 796\u001b[0m \u001b[38;5;28mself\u001b[39m\u001b[38;5;241m.\u001b[39mtrainer \u001b[38;5;241m=\u001b[39m (trainer \u001b[38;5;129;01mor\u001b[39;00m \u001b[38;5;28mself\u001b[39m\u001b[38;5;241m.\u001b[39m_smart_load(\u001b[38;5;124m\"\u001b[39m\u001b[38;5;124mtrainer\u001b[39m\u001b[38;5;124m\"\u001b[39m))(overrides\u001b[38;5;241m=\u001b[39margs, _callbacks\u001b[38;5;241m=\u001b[39m\u001b[38;5;28mself\u001b[39m\u001b[38;5;241m.\u001b[39mcallbacks)\n\u001b[0;32m    797\u001b[0m \u001b[38;5;28;01mif\u001b[39;00m \u001b[38;5;129;01mnot\u001b[39;00m args\u001b[38;5;241m.\u001b[39mget(\u001b[38;5;124m\"\u001b[39m\u001b[38;5;124mresume\u001b[39m\u001b[38;5;124m\"\u001b[39m):  \u001b[38;5;66;03m# manually set model only if not resuming\u001b[39;00m\n\u001b[0;32m    798\u001b[0m     \u001b[38;5;28mself\u001b[39m\u001b[38;5;241m.\u001b[39mtrainer\u001b[38;5;241m.\u001b[39mmodel \u001b[38;5;241m=\u001b[39m \u001b[38;5;28mself\u001b[39m\u001b[38;5;241m.\u001b[39mtrainer\u001b[38;5;241m.\u001b[39mget_model(weights\u001b[38;5;241m=\u001b[39m\u001b[38;5;28mself\u001b[39m\u001b[38;5;241m.\u001b[39mmodel \u001b[38;5;28;01mif\u001b[39;00m \u001b[38;5;28mself\u001b[39m\u001b[38;5;241m.\u001b[39mckpt \u001b[38;5;28;01melse\u001b[39;00m \u001b[38;5;28;01mNone\u001b[39;00m, cfg\u001b[38;5;241m=\u001b[39m\u001b[38;5;28mself\u001b[39m\u001b[38;5;241m.\u001b[39mmodel\u001b[38;5;241m.\u001b[39myaml)\n",
      "File \u001b[1;32mc:\\Users\\aidan\\anaconda3\\envs\\research_project\\Lib\\site-packages\\ultralytics\\engine\\trainer.py:133\u001b[0m, in \u001b[0;36mBaseTrainer.__init__\u001b[1;34m(self, cfg, overrides, _callbacks)\u001b[0m\n\u001b[0;32m    131\u001b[0m \u001b[38;5;28mself\u001b[39m\u001b[38;5;241m.\u001b[39mmodel \u001b[38;5;241m=\u001b[39m check_model_file_from_stem(\u001b[38;5;28mself\u001b[39m\u001b[38;5;241m.\u001b[39margs\u001b[38;5;241m.\u001b[39mmodel)  \u001b[38;5;66;03m# add suffix, i.e. yolov8n -> yolov8n.pt\u001b[39;00m\n\u001b[0;32m    132\u001b[0m \u001b[38;5;28;01mwith\u001b[39;00m torch_distributed_zero_first(LOCAL_RANK):  \u001b[38;5;66;03m# avoid auto-downloading dataset multiple times\u001b[39;00m\n\u001b[1;32m--> 133\u001b[0m     \u001b[38;5;28mself\u001b[39m\u001b[38;5;241m.\u001b[39mtrainset, \u001b[38;5;28mself\u001b[39m\u001b[38;5;241m.\u001b[39mtestset \u001b[38;5;241m=\u001b[39m \u001b[38;5;28mself\u001b[39m\u001b[38;5;241m.\u001b[39mget_dataset()\n\u001b[0;32m    134\u001b[0m \u001b[38;5;28mself\u001b[39m\u001b[38;5;241m.\u001b[39mema \u001b[38;5;241m=\u001b[39m \u001b[38;5;28;01mNone\u001b[39;00m\n\u001b[0;32m    136\u001b[0m \u001b[38;5;66;03m# Optimization utils init\u001b[39;00m\n",
      "File \u001b[1;32mc:\\Users\\aidan\\anaconda3\\envs\\research_project\\Lib\\site-packages\\ultralytics\\engine\\trainer.py:563\u001b[0m, in \u001b[0;36mBaseTrainer.get_dataset\u001b[1;34m(self)\u001b[0m\n\u001b[0;32m    561\u001b[0m             \u001b[38;5;28mself\u001b[39m\u001b[38;5;241m.\u001b[39margs\u001b[38;5;241m.\u001b[39mdata \u001b[38;5;241m=\u001b[39m data[\u001b[38;5;124m\"\u001b[39m\u001b[38;5;124myaml_file\u001b[39m\u001b[38;5;124m\"\u001b[39m]  \u001b[38;5;66;03m# for validating 'yolo train data=url.zip' usage\u001b[39;00m\n\u001b[0;32m    562\u001b[0m \u001b[38;5;28;01mexcept\u001b[39;00m \u001b[38;5;167;01mException\u001b[39;00m \u001b[38;5;28;01mas\u001b[39;00m e:\n\u001b[1;32m--> 563\u001b[0m     \u001b[38;5;28;01mraise\u001b[39;00m \u001b[38;5;167;01mRuntimeError\u001b[39;00m(emojis(\u001b[38;5;124mf\u001b[39m\u001b[38;5;124m\"\u001b[39m\u001b[38;5;124mDataset \u001b[39m\u001b[38;5;124m'\u001b[39m\u001b[38;5;132;01m{\u001b[39;00mclean_url(\u001b[38;5;28mself\u001b[39m\u001b[38;5;241m.\u001b[39margs\u001b[38;5;241m.\u001b[39mdata)\u001b[38;5;132;01m}\u001b[39;00m\u001b[38;5;124m'\u001b[39m\u001b[38;5;124m error ❌ \u001b[39m\u001b[38;5;132;01m{\u001b[39;00me\u001b[38;5;132;01m}\u001b[39;00m\u001b[38;5;124m\"\u001b[39m)) \u001b[38;5;28;01mfrom\u001b[39;00m \u001b[38;5;21;01me\u001b[39;00m\n\u001b[0;32m    564\u001b[0m \u001b[38;5;28mself\u001b[39m\u001b[38;5;241m.\u001b[39mdata \u001b[38;5;241m=\u001b[39m data\n\u001b[0;32m    565\u001b[0m \u001b[38;5;28;01mreturn\u001b[39;00m data[\u001b[38;5;124m\"\u001b[39m\u001b[38;5;124mtrain\u001b[39m\u001b[38;5;124m\"\u001b[39m], data\u001b[38;5;241m.\u001b[39mget(\u001b[38;5;124m\"\u001b[39m\u001b[38;5;124mval\u001b[39m\u001b[38;5;124m\"\u001b[39m) \u001b[38;5;129;01mor\u001b[39;00m data\u001b[38;5;241m.\u001b[39mget(\u001b[38;5;124m\"\u001b[39m\u001b[38;5;124mtest\u001b[39m\u001b[38;5;124m\"\u001b[39m)\n",
      "\u001b[1;31mRuntimeError\u001b[0m: Dataset '../data/processed/dataset.yaml' error  '../data/processed/dataset.yaml' does not exist"
     ]
    }
   ],
   "source": [
    "model.train(\n",
    "    data='../data/processed/dataset.yaml', # path to yaml file which specifies dataset parameters\n",
    "    epochs=100,\n",
    "    imgsz=640,\n",
    "    single_cls=True,                      # single class training\n",
    "    patience=10,                          # early stopping patience (after this many epochs with no improvement stop training)\n",
    "    pretrained=False,                     # don't use pre-trained weights\n",
    "    plots=True,                           # create plots\n",
    "\n",
    "    # solving GPU memory issue?\n",
    "    workers=0,                            # number of worker threads for data loading (0 reduces memory problems at cost of slower training)\n",
    "    batch = 8,                            # batch size (default 16, reducing to 8 can help)\n",
    ")"
   ]
  },
  {
   "cell_type": "code",
   "execution_count": null,
   "metadata": {},
   "outputs": [],
   "source": []
  }
 ],
 "metadata": {
  "kernelspec": {
   "display_name": "research_project",
   "language": "python",
   "name": "python3"
  },
  "language_info": {
   "codemirror_mode": {
    "name": "ipython",
    "version": 3
   },
   "file_extension": ".py",
   "mimetype": "text/x-python",
   "name": "python",
   "nbconvert_exporter": "python",
   "pygments_lexer": "ipython3",
   "version": "3.12.5"
  }
 },
 "nbformat": 4,
 "nbformat_minor": 2
}
