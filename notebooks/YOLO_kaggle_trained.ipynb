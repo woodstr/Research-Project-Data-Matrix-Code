{
 "cells": [
  {
   "cell_type": "markdown",
   "metadata": {},
   "source": [
    "# Setup\n",
    "\n",
    "Remember to install CUDA dependencies"
   ]
  },
  {
   "cell_type": "code",
   "execution_count": 1,
   "metadata": {},
   "outputs": [],
   "source": [
    "import glob\n",
    "import os\n",
    "import shutil\n",
    "import re\n",
    "import random\n",
    "seed = 420\n",
    "random.seed(seed)\n",
    "\n",
    "from ultralytics import YOLO, settings\n",
    "root_dir = os.getcwd().replace('\\\\notebooks', '')\n",
    "settings.update({'datasets_dir': f'{root_dir}/data/kaggle', 'runs_dir': f'{root_dir}/yolo/runs'})\n",
    "\n",
    "from roboflow import Roboflow"
   ]
  },
  {
   "cell_type": "markdown",
   "metadata": {},
   "source": [
    "# Sorting Kaggle dataset into train/val\n",
    "\n",
    "Source: https://www.kaggle.com/datasets/hamidl/yoloqrlabeled?resource=download"
   ]
  },
  {
   "cell_type": "code",
   "execution_count": null,
   "metadata": {},
   "outputs": [],
   "source": [
    "# create required directories\n",
    "if not os.path.exists('../data/kaggle/'):\n",
    "    os.mkdir('../data/kaggle')\n",
    "    os.mkdir('../data/kaggle/images')\n",
    "    os.mkdir('../data/kaggle/images/train')\n",
    "    os.mkdir('../data/kaggle/images/val')\n",
    "    os.mkdir('../data/kaggle/labels')\n",
    "    os.mkdir('../data/kaggle/labels/train')\n",
    "    os.mkdir('../data/kaggle/labels/val')\n",
    "\n",
    "    # copy images and labels to required directories by train/val splits\n",
    "\n",
    "    # total images\n",
    "    total = len(glob.glob('../data/YOLO-QR-datasets/Dataset 1/images/*.jpg')) + \\\n",
    "            len(glob.glob('../data/YOLO-QR-datasets/Dataset 2/images/*.jpg')) + \\\n",
    "            len(glob.glob('../data/YOLO-QR-datasets/Dataset 3/images/*.jpg'))\n",
    "\n",
    "    train = int(total * 0.9) # floored (we may miss our on 1 or 2 images but that's fine)\n",
    "    val = int(total * 0.1)\n",
    "    print(f'Train : {train}')\n",
    "    print(f'Val   : {val}')\n",
    "\n",
    "    # getting filepaths of all images and annotations\n",
    "    filepaths = {'images': [], 'labels': []}\n",
    "    for i in range(1, 4):\n",
    "        # images\n",
    "        for file in glob.glob(f'../data/YOLO-QR-datasets/Dataset {i}/images/*.jpg'):\n",
    "            filepaths['images'].append(file)\n",
    "        # labels\n",
    "        for file in glob.glob(f'../data/YOLO-QR-datasets/Dataset {i}/labels/*.txt'):\n",
    "            filepaths['labels'].append(file)\n",
    "\n",
    "    print(filepaths['images'][:2])\n",
    "    print(filepaths['labels'][:2])\n",
    "\n",
    "    # shuffled indexes\n",
    "    indexes = list(range(total))\n",
    "    random.Random(seed).shuffle(indexes)\n",
    "    print(indexes[:2])\n",
    "\n",
    "    # copy images and labels to required directories with train/val splits\n",
    "    pattern = r'\\d+' # regex pattern for grabbing first number in label file\n",
    "    for i, index in enumerate(indexes):\n",
    "        if i < train:\n",
    "            # train\n",
    "\n",
    "            # copy image file as-is\n",
    "            shutil.copyfile(filepaths['images'][index], f'../data/kaggle/images/train/{i}.jpg')\n",
    "\n",
    "            # copy label file but change class index to 0\n",
    "            with open(filepaths['labels'][index], 'r') as f:\n",
    "                line = f.readline()\n",
    "            num = re.search(pattern, line).group()\n",
    "            line = line.replace(num, '0', 1)\n",
    "            with open(f'../data/kaggle/labels/train/{i}.txt', 'w') as f:\n",
    "                f.write(line)\n",
    "        \n",
    "        else:\n",
    "            # val\n",
    "            shutil.copyfile(filepaths['images'][index], f'../data/kaggle/images/val/{i}.jpg')\n",
    "            with open(filepaths['labels'][index], 'r') as f:\n",
    "                line = f.readline()\n",
    "            num = re.search(pattern, line).group()\n",
    "            line = line.replace(num, '0', 1)\n",
    "            with open(f'../data/kaggle/labels/val/{i}.txt', 'w') as f:\n",
    "                f.write(line)\n",
    "\n",
    "    # create yaml file for training YOLO on\n",
    "    with open('../data/kaggle/data.yaml', 'w') as f:\n",
    "        f.write(f'path: {root_dir}/data/kaggle/\\n')\n",
    "        f.write('train: images/train\\n')\n",
    "        f.write('val: images/val\\n')\n",
    "        f.write('test: images/test\\n')\n",
    "        f.write('\\n')\n",
    "        f.write('nc: 1\\n')\n",
    "        f.write('names: [\\'Data Matrix\\']\\n')"
   ]
  },
  {
   "cell_type": "markdown",
   "metadata": {},
   "source": [
    "# Sorting MAN dataset into train/val/test (fine-tuning dataset)\n",
    "\n",
    "source: https://app.roboflow.com/rs-xldmw/data-matrix-codes/"
   ]
  },
  {
   "cell_type": "code",
   "execution_count": null,
   "metadata": {},
   "outputs": [],
   "source": [
    "# create required directories\n",
    "if not os.path.exists('../data/MAN/'):\n",
    "    os.mkdir('../data/MAN')\n",
    "    os.mkdir('../data/MAN/images')\n",
    "    os.mkdir('../data/MAN/images/train')\n",
    "    os.mkdir('../data/MAN/images/val')\n",
    "    os.mkdir('../data/MAN/images/test')\n",
    "    os.mkdir('../data/MAN/labels')\n",
    "    os.mkdir('../data/MAN/labels/train')\n",
    "    os.mkdir('../data/MAN/labels/val')\n",
    "    os.mkdir('../data/MAN/labels/test')\n",
    "\n",
    "    # download dataset from roboflow\n",
    "    with open('../roboflow_api_key.txt', 'r') as f:\n",
    "        api_key = f.readline().strip()\n",
    "    \n",
    "    rf = Roboflow(api_key=api_key)\n",
    "    project = rf.workspace('rs-xldmw').project('data-matrix-codes')\n",
    "    version = project.version(3)\n",
    "    dataset = version.download('yolov11')\n",
    "    dl_folder = f'{version.name.replace(' ', '-')}-{version.version}'\n",
    "\n",
    "    # sort files according to train/val/test splits\n",
    "    for file in glob.glob(f'{dl_folder}/train/images/*.jpg'):\n",
    "        shutil.move(file, f'../data/MAN/images/train/')\n",
    "    for file in glob.glob(f'{dl_folder}/train/labels/*.txt'):\n",
    "        shutil.move(file, f'../data/MAN/labels/train/')\n",
    "    for file in glob.glob(f'{dl_folder}/valid/images/*.jpg'):\n",
    "        shutil.move(file, f'../data/MAN/images/val/')\n",
    "    for file in glob.glob(f'{dl_folder}/valid/labels/*.txt'):\n",
    "        shutil.move(file, f'../data/MAN/labels/val/')\n",
    "    for file in glob.glob(f'{dl_folder}/test/images/*.jpg'):\n",
    "        shutil.move(file, f'../data/MAN/images/test/')\n",
    "    for file in glob.glob(f'{dl_folder}/test/labels/*.txt'):\n",
    "        shutil.move(file, f'../data/MAN/labels/test/')\n",
    "    \n",
    "    # delete downloaded roboflow dataset\n",
    "    shutil.rmtree(dl_folder)\n",
    "\n",
    "    # create yaml file for training YOLO on\n",
    "    with open('../data/MAN/data.yaml', 'w') as f:\n",
    "        f.write(f'path: {root_dir}/data/MAN/\\n')\n",
    "        f.write('train: images/train\\n')\n",
    "        f.write('val: images/val\\n')\n",
    "        f.write('test: images/test\\n')\n",
    "        f.write('\\n')\n",
    "        f.write('nc: 1\\n')\n",
    "        f.write('names: [\\'Data Matrix\\']\\n')"
   ]
  },
  {
   "cell_type": "markdown",
   "metadata": {},
   "source": [
    "# Training"
   ]
  },
  {
   "cell_type": "markdown",
   "metadata": {},
   "source": [
    "## From Scratch\n",
    "\n",
    "yolov11 model trained from scratch on Kaggle QR code dataset.\n",
    "\n",
    "Took ~4.6hrs on rtx 2070"
   ]
  },
  {
   "cell_type": "code",
   "execution_count": 4,
   "metadata": {},
   "outputs": [],
   "source": [
    "model = YOLO('yolo11n.yaml', task='detect') # build a new model from YAML"
   ]
  },
  {
   "cell_type": "code",
   "execution_count": null,
   "metadata": {},
   "outputs": [],
   "source": [
    "model.train(\n",
    "    data='../data/kaggle/data.yaml',      # path to yaml file which specifies dataset parameters\n",
    "    epochs=100,\n",
    "    imgsz=640,\n",
    "    single_cls=True,                      # single class training\n",
    "    patience=10,                          # early stopping patience (after this many epochs with no improvement stop training)\n",
    "    pretrained=False,                     # don't use pre-trained weights\n",
    "    plots=True,                           # create plots\n",
    "\n",
    "    # solving GPU memory issue?\n",
    "    workers=0,                            # number of worker threads for data loading (0 reduces memory problems at cost of slower training)\n",
    "    batch = 8,                            # batch size (default 16, reducing to 8 can help)\n",
    ")"
   ]
  },
  {
   "cell_type": "code",
   "execution_count": 7,
   "metadata": {},
   "outputs": [],
   "source": [
    "# move best model to models directory\n",
    "shutil.move('../yolo/runs/detect/train/weights/best.pt', '../yolo/models/kaggle_scratch.pt')\n",
    "del model # flush memory"
   ]
  },
  {
   "cell_type": "markdown",
   "metadata": {},
   "source": [
    "## Fine-Tuned Kaggle"
   ]
  },
  {
   "cell_type": "code",
   "execution_count": 15,
   "metadata": {},
   "outputs": [],
   "source": [
    "model = YOLO('../yolo/models/kaggle_scratch.pt', task='detect') # load kaggle trained"
   ]
  },
  {
   "cell_type": "code",
   "execution_count": null,
   "metadata": {},
   "outputs": [],
   "source": [
    "model.train(\n",
    "    data='../data/MAN/data.yaml',      # path to yaml file which specifies dataset parameters\n",
    "    epochs=100,\n",
    "    imgsz=640,\n",
    "    single_cls=True,                      # single class training\n",
    "    patience=10,                          # early stopping patience (after this many epochs with no improvement stop training)\n",
    "    pretrained=False,                     # don't use pre-trained weights\n",
    "    plots=True,                           # create plots\n",
    "\n",
    "    # solving GPU memory issue?\n",
    "    workers=0,                            # number of worker threads for data loading (0 reduces memory problems at cost of slower training)\n",
    "    batch = 8,                            # batch size (default 16, reducing to 8 can help)\n",
    ")"
   ]
  },
  {
   "cell_type": "code",
   "execution_count": null,
   "metadata": {},
   "outputs": [],
   "source": [
    "# move best model to models directory\n",
    "shutil.move('../yolo/runs/detect/train2/weights/best.pt', '../yolo/models/kaggle_finetuned.pt')\n",
    "del model # flush memory"
   ]
  },
  {
   "cell_type": "markdown",
   "metadata": {},
   "source": [
    "## Ultralytics Pretrained Fine-Tuned"
   ]
  },
  {
   "cell_type": "code",
   "execution_count": 8,
   "metadata": {},
   "outputs": [],
   "source": [
    "model = YOLO('../yolo/models/yolo11n.pt', task='detect') # using ultralytics pre-trained model (on COCO dataset)"
   ]
  },
  {
   "cell_type": "code",
   "execution_count": null,
   "metadata": {},
   "outputs": [],
   "source": [
    "model.train(\n",
    "    data='../data/MAN/data.yaml',      # path to yaml file which specifies dataset parameters\n",
    "    epochs=100,\n",
    "    imgsz=640,\n",
    "    single_cls=True,                      # single class training\n",
    "    patience=10,                          # early stopping patience (after this many epochs with no improvement stop training)\n",
    "    pretrained=False,                     # don't use pre-trained weights\n",
    "    plots=True,                           # create plots\n",
    "\n",
    "    # solving GPU memory issue?\n",
    "    workers=0,                            # number of worker threads for data loading (0 reduces memory problems at cost of slower training)\n",
    "    batch = 8,                            # batch size (default 16, reducing to 8 can help)\n",
    ")"
   ]
  },
  {
   "cell_type": "code",
   "execution_count": null,
   "metadata": {},
   "outputs": [],
   "source": [
    "# move best model to models directory\n",
    "shutil.move('../yolo/runs/detect/train3/weights/best.pt', '../yolo/models/ultralytics_finetuned.pt')\n",
    "del model # flush memory"
   ]
  }
 ],
 "metadata": {
  "kernelspec": {
   "display_name": "RS",
   "language": "python",
   "name": "python3"
  },
  "language_info": {
   "codemirror_mode": {
    "name": "ipython",
    "version": 3
   },
   "file_extension": ".py",
   "mimetype": "text/x-python",
   "name": "python",
   "nbconvert_exporter": "python",
   "pygments_lexer": "ipython3",
   "version": "3.12.6"
  }
 },
 "nbformat": 4,
 "nbformat_minor": 2
}
