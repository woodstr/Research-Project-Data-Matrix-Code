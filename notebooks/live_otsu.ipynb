{
 "cells": [
  {
   "cell_type": "markdown",
   "metadata": {},
   "source": [
    "# Setup"
   ]
  },
  {
   "cell_type": "code",
   "execution_count": null,
   "metadata": {},
   "outputs": [],
   "source": [
    "import os\n",
    "from IPython.display import clear_output\n",
    "\n",
    "import cv2\n",
    "%matplotlib inline \n",
    "from matplotlib import pyplot as plt\n",
    "\n",
    "import pandas as pd\n",
    "import warnings\n",
    "warnings.simplefilter(action='ignore', category=pd.errors.PerformanceWarning)\n",
    "\n",
    "from pylibdmtx.pylibdmtx import decode\n",
    "from ultralytics import YOLO, settings\n",
    "root_dir = os.getcwd().replace('\\\\notebooks', '')\n",
    "settings.update({'datasets_dir': f'{root_dir}/data/processed/test', 'runs_dir': f'{root_dir}/yolo/runs'})"
   ]
  },
  {
   "cell_type": "markdown",
   "metadata": {},
   "source": [
    "# Live Otsu pipeline"
   ]
  },
  {
   "cell_type": "code",
   "execution_count": null,
   "metadata": {},
   "outputs": [],
   "source": [
    "# Binarize with Otsu's method\n",
    "def binarize(img):\n",
    "    img = cv2.cvtColor(img, cv2.COLOR_BGR2GRAY)\n",
    "    _, img = cv2.threshold(img, 0, 255, cv2.THRESH_BINARY + cv2.THRESH_OTSU)\n",
    "    return img"
   ]
  },
  {
   "cell_type": "code",
   "execution_count": null,
   "metadata": {},
   "outputs": [],
   "source": [
    "# Getting cropped images\n",
    "model = YOLO('../yolo/models/ultralytics_finetuned.pt')\n",
    "\n",
    "# stat tracking\n",
    "num_decodings = 0\n",
    "num_valid_decodings = 0\n",
    "\n",
    "imgs = []\n",
    "titles = []\n",
    "\n",
    "# Open camera\n",
    "cam = cv2.VideoCapture(0)\n",
    "\n",
    "# set camera focus\n",
    "focus = 255\n",
    "cam.set(cv2.CAP_PROP_FOCUS, focus)\n",
    "\n",
    "# Loop through frames\n",
    "while True:\n",
    "    ret, frame = cam.read()\n",
    "\n",
    "    # Detect objects\n",
    "    results = model(frame)\n",
    "    boxes = results[0].boxes.xyxy.tolist()\n",
    "\n",
    "    if boxes != None and len(boxes) > 0:\n",
    "        # only look at box with highest confidence\n",
    "        box = boxes[0]\n",
    "\n",
    "        # crop with some padding (to not have too small of a crop)\n",
    "        pad = 45\n",
    "        crop_obj_pre_binarize = frame[max(0, int(box[1])-pad):max(0, int(box[3])+pad), max(0, int(box[0])-pad):max(0, int(box[2])+pad)]\n",
    "\n",
    "        # binarize with otsu method\n",
    "        crop_obj = binarize(crop_obj_pre_binarize)\n",
    "\n",
    "        # show pre and post binarization crops\n",
    "        clear_output(wait=True)\n",
    "        plt.subplot(1, 2, 1)\n",
    "        plt.imshow(crop_obj_pre_binarize)\n",
    "        plt.subplot(1, 2, 2)\n",
    "        plt.imshow(crop_obj, cmap='gray')\n",
    "        plt.show()\n",
    "\n",
    "        decodings = decode(crop_obj,\n",
    "                           max_count=1,\n",
    "                           threshold=50,\n",
    "                           min_edge= 20,\n",
    "                           max_edge=800,\n",
    "                           # shape=DmtxSymbolSize.DmtxSymbol16x16,\n",
    "                           timeout=1000,\n",
    "                           )\n",
    "\n",
    "        if decodings != None and len(decodings) > 0:\n",
    "            num_decodings += 1\n",
    "\n",
    "            for decoding in decodings:\n",
    "                decoded_string = decoding.data.decode('utf-8')\n",
    "                print(decoded_string)\n",
    "                stop\n",
    "\n",
    "    cv2.imshow('Camera', frame)\n",
    "\n",
    "    # Press 'q' to exit the loop\n",
    "    if cv2.waitKey(1) == ord('q'):\n",
    "        break\n",
    "\n",
    "# Release the capture and writer objects\n",
    "cam.release()\n",
    "cv2.destroyAllWindows()"
   ]
  }
 ],
 "metadata": {
  "kernelspec": {
   "display_name": "research_project",
   "language": "python",
   "name": "python3"
  },
  "language_info": {
   "codemirror_mode": {
    "name": "ipython",
    "version": 3
   },
   "file_extension": ".py",
   "mimetype": "text/x-python",
   "name": "python",
   "nbconvert_exporter": "python",
   "pygments_lexer": "ipython3",
   "version": "3.12.5"
  }
 },
 "nbformat": 4,
 "nbformat_minor": 2
}
